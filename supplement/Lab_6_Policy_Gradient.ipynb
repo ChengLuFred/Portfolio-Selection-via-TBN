{
 "cells": [
  {
   "cell_type": "markdown",
   "metadata": {},
   "source": [
    "## Policy Gradients - REINFORCE\n",
    "\n",
    "References:\n",
    "- https://medium.com/gradientcrescent/fundamentals-of-reinforcement-learning-automating-pong-in-using-a-policy-model-an-implementation-b71f64c158ff\n",
    "- https://github.com/keon/policy-gradient/blob/master/pg.py"
   ]
  },
  {
   "cell_type": "markdown",
   "metadata": {},
   "source": [
    "Here we implement the REINFORCE policy gradient to play game \"Pong\" using OpenAI gym environment for <a href= https://gym.openai.com/envs/Pong-v0/>Pong </a>— a self-contained instance of the game that facilitates interfacing with the permissible actions within the game. To install the game, issue the following: \n",
    "\n",
    "`pip install gym[atari]`\n",
    "\n",
    "Different from other experiments we have done so far, the states in this game is an image. We'll use convolutional neural networks to extract features from the state space and predict a good action. Although here we have discrete actions, certainly, you can also use REINFORCE algorithm for continuous actions, e.g. trading stocks. \n",
    "\n",
    "Now let's get start!"
   ]
  },
  {
   "cell_type": "code",
   "execution_count": 1,
   "metadata": {},
   "outputs": [],
   "source": [
    "import gym\n",
    "import numpy as np\n",
    "import time\n",
    "from matplotlib import pyplot as plt\n",
    "\n",
    "from keras.models import Model\n",
    "from keras.layers import Dense, Reshape, Flatten, Input, MaxPool2D\n",
    "from keras.optimizers import Adam\n",
    "from keras.layers import Conv2D\n",
    "import keras.backend as K\n",
    "from tensorflow.keras import initializers\n",
    "import tensorflow as tf\n",
    "tf.config.run_functions_eagerly(True)\n",
    "\n",
    "from gym import wrappers"
   ]
  },
  {
   "cell_type": "code",
   "execution_count": 2,
   "metadata": {},
   "outputs": [],
   "source": [
    "# Play the game \n",
    "\n",
    "env = gym.make(\"Pong-v0\")\n",
    "#env = wrappers.Monitor(env, video_callable=False ,force=True)\n",
    "state = env.reset()\n",
    "\n",
    "\n",
    "done = False\n",
    "while not done:\n",
    "    #env.render()\n",
    "    action = np.random.choice(env.action_space.n)\n",
    "    state, reward, done, info = env.step(action)\n",
    "\n",
    "env.close()    # close the game"
   ]
  },
  {
   "cell_type": "markdown",
   "metadata": {},
   "source": [
    "## Actions"
   ]
  },
  {
   "cell_type": "markdown",
   "metadata": {},
   "source": [
    "There are six actions an agent (player) can take within the Pong environment, each assigned an integer, e.g.:\n",
    "\n",
    "- remaining stationary (0), \n",
    "- vertical translation up (2), \n",
    "- vertical translation down (3)\n"
   ]
  },
  {
   "cell_type": "code",
   "execution_count": 5,
   "metadata": {},
   "outputs": [
    {
     "data": {
      "text/plain": [
       "Discrete(6)"
      ]
     },
     "execution_count": 5,
     "metadata": {},
     "output_type": "execute_result"
    }
   ],
   "source": [
    "env = gym.make(\"Pong-v0\")\n",
    "env.action_space"
   ]
  },
  {
   "cell_type": "code",
   "execution_count": 26,
   "metadata": {},
   "outputs": [
    {
     "data": {
      "text/plain": [
       "4"
      ]
     },
     "execution_count": 26,
     "metadata": {},
     "output_type": "execute_result"
    }
   ],
   "source": [
    "env.action_space.sample()"
   ]
  },
  {
   "cell_type": "markdown",
   "metadata": {},
   "source": [
    "## States"
   ]
  },
  {
   "cell_type": "markdown",
   "metadata": {},
   "source": [
    "Different from the previous examples, the states in this environment is an image, a three-dimensional array. However, note that this frame contains two many unnecessary details irrelevant to the actual gameplay itself: for example, the tracking of the rewards is done internally by the OpenAI gym environment. We’ll preprocess our frame by applying a crop and a grayscale, before flattening the output for a 1-dimensional neural network."
   ]
  },
  {
   "cell_type": "code",
   "execution_count": 28,
   "metadata": {},
   "outputs": [],
   "source": [
    "# preprocess to remove unnecessary details\n",
    "def preprocess(I):\n",
    "    I = I[35:195]\n",
    "    I = I[::2, ::2, 0]\n",
    "    I[I == 144] = 0\n",
    "    I[I == 109] = 0\n",
    "    I[I != 0] = 1\n",
    "    return I.astype(np.float)"
   ]
  },
  {
   "cell_type": "code",
   "execution_count": 29,
   "metadata": {},
   "outputs": [
    {
     "name": "stdout",
     "output_type": "stream",
     "text": [
      "(210, 160, 3)\n"
     ]
    },
    {
     "data": {
      "image/png": "[encoded data removed]",
      "text/plain": [
       "<Figure size 432x288 with 1 Axes>"
      ]
     },
     "metadata": {
      "needs_background": "light"
     },
     "output_type": "display_data"
    },
    {
     "data": {
      "image/png": "[encoded data removed]",
      "text/plain": [
       "<Figure size 432x288 with 1 Axes>"
      ]
     },
     "metadata": {
      "needs_background": "light"
     },
     "output_type": "display_data"
    }
   ],
   "source": [
    "# if you get an error \n",
    "# install Atari by issuing: pip install gym[atari] \n",
    "\n",
    "state = env.reset()\n",
    "#env.render()\n",
    "print(state.shape)\n",
    "\n",
    "# show original state\n",
    "plt.imshow(state)\n",
    "plt.show()\n",
    "\n",
    "# show preprocessed state\n",
    "plt.imshow(preprocess(state))\n",
    "\n",
    "env.close()"
   ]
  },
  {
   "cell_type": "code",
   "execution_count": 33,
   "metadata": {},
   "outputs": [
    {
     "data": {
      "text/plain": [
       "(80, 80)"
      ]
     },
     "execution_count": 33,
     "metadata": {},
     "output_type": "execute_result"
    }
   ],
   "source": [
    "preprocess(state).shape"
   ]
  },
  {
   "cell_type": "markdown",
   "metadata": {},
   "source": [
    "## Action neural network"
   ]
  },
  {
   "cell_type": "markdown",
   "metadata": {},
   "source": [
    "With states identified, we start to define our action network. Naturally, we'll use convolutional neural network to process the input state and return the probability of each action. "
   ]
  },
  {
   "cell_type": "code",
   "execution_count": 30,
   "metadata": {},
   "outputs": [],
   "source": [
    "def _build_model(self):\n",
    "\n",
    "    states = Input(shape = self.state_size + (1,) )  # input shape is (80, 80, 1)\n",
    "    rewards = Input(shape = (1,))   # accumulated returns at each time, for calculating gradients\n",
    "\n",
    "    conv = Conv2D(16, (3,3), padding='same', activation='relu')(states)\n",
    "    pool = MaxPool2D((2,2))(conv)\n",
    "    conv = Conv2D(64, (3,3), padding='same', activation='relu')(pool)\n",
    "    pool = MaxPool2D((2,2))(conv)\n",
    "    conv = Conv2D(32, (3,3), padding='same', activation='relu')(pool)\n",
    "    flat = Flatten()(conv)\n",
    "    h = Dense(256, activation='relu', init='he_uniform')(flat)\n",
    "    output = Dense(self.action_size, activation='softmax') (h)\n",
    "\n",
    "    model = Model(inputs = [states, rewards], outputs = output)\n",
    "\n",
    "    opt = Adam(lr=self.learning_rate)\n",
    "\n",
    "    policy_loss = self.policy_gradient_loss(rewards)\n",
    "\n",
    "    model.compile(loss=policy_loss, optimizer=opt)\n",
    "\n",
    "    return model"
   ]
  },
  {
   "cell_type": "markdown",
   "metadata": {},
   "source": [
    "## Policy Gradients"
   ]
  },
  {
   "cell_type": "markdown",
   "metadata": {},
   "source": [
    "Remember, the gradients for parameters $\\theta$ in the action neural network at time $t$ is :\n",
    "\n",
    "$$ \\theta \\rightarrow \\theta + \\alpha~\\gamma^t~G~\\nabla \\ln \\pi(A_t | S_t, \\theta))$$       \n",
    "\n",
    "Let's first calculate $$G = \\sum_{k=t+1}^T {\\gamma^{k-t-1}R_k}$$\n",
    "\n",
    "Let $G_t$ denote the discounted reward received at time $t$. Suppose we have played an episode from ${0, 1, ..., T-1}$, we accumulate the rewards received at each step backwards, i.e.:\n",
    "<br><br>\n",
    "$$G_{T-1} = R_{T-1}$$ \n",
    "$$G_{T-2} = R_{T-2} + \\gamma * G_{T-1} $$ \n",
    "...<br>\n",
    "$$G_{0} = R_0 +\\gamma * G_{1} $$"
   ]
  },
  {
   "cell_type": "markdown",
   "metadata": {},
   "source": [
    "### Discounted Rewards"
   ]
  },
  {
   "cell_type": "code",
   "execution_count": 34,
   "metadata": {},
   "outputs": [],
   "source": [
    "def discount_rewards(self, rewards):\n",
    "    discounted_rewards = np.zeros_like(rewards)\n",
    "    running_add = 0\n",
    "    for t in reversed(range(0, rewards.size)):\n",
    "        if rewards[t] != 0:   # For pong, a non-zero reward indicating the end of an episode, so the running reward is reset to 0\n",
    "            running_add = 0   \n",
    "        running_add = running_add * self.gamma + rewards[t]\n",
    "        discounted_rewards[t] = running_add\n",
    "    return discounted_rewards"
   ]
  },
  {
   "cell_type": "markdown",
   "metadata": {},
   "source": [
    "### Calculate Gradients"
   ]
  },
  {
   "cell_type": "markdown",
   "metadata": {},
   "source": [
    "In a neural network with parameters $\\theta$, let's assume the following: \n",
    "1. it has prediction $\\hat{y}$, \n",
    "2. the actual value is $y$, and \n",
    "3. the loss function is `categorical_cross_entropy`, \n",
    "\n",
    "Then the gradients can be written as $L = y~\\nabla_{\\theta}\\ln\\hat{y}$. If we multiply this loss by the `discounted reward` $\\gamma^t~G$, i.e.  $L' = L * \\gamma^t~G$, then we'll have the exact gradient formula used in REINFORCE algorithm. Moreover, we normalize $\\gamma^t~G$ so that the training can converge fast.\n",
    "\n",
    "Let's make our neural network to have an additional input for `discounted reward`. Then we create a custom loss function. Note that a custom loss function always only takes two inputs: ground truth $y$ and predicted $\\hat{y}$. However, we need to pass the additional parameter, `discounted reward`. To achieve this, we play a trick to define a function which has the `discounted reward` as the input parameter, and returns the a loss function with ground truth $y$ and predicted $\\hat{y}$. The `discounted reward` as a global variable now can be passed to the loss function. The code can be found below."
   ]
  },
  {
   "cell_type": "code",
   "execution_count": null,
   "metadata": {},
   "outputs": [],
   "source": [
    "def policy_gradient_loss(self, Returns):\n",
    "    def modified_crossentropy(action,action_probs):\n",
    "        cost = K.categorical_crossentropy(action, action_probs,\\\n",
    "                                          from_logits=False, axis=1)\n",
    "        g = K.squeeze(Returns, axis = -1)\n",
    "        cost = cost * g\n",
    "        return K.mean(cost)\n",
    "    return modified_crossentropy"
   ]
  },
  {
   "cell_type": "markdown",
   "metadata": {},
   "source": [
    "### Train model"
   ]
  },
  {
   "cell_type": "markdown",
   "metadata": {},
   "source": [
    "The neural network is trained as usual. Note that there are two inputs: One is the stack of history states in an episode, and the other is the discounted rewards. The output is the actual actions taken in the episode. The actions are sampled by the probabilities output by the network"
   ]
  },
  {
   "cell_type": "code",
   "execution_count": null,
   "metadata": {},
   "outputs": [],
   "source": [
    "def train(self):\n",
    "    rewards = np.vstack(self.rewards)\n",
    "    rewards = self.discount_rewards(rewards)\n",
    "    rewards = (rewards - np.mean(rewards)) / (np.std(rewards) + 1e-7) # normalization\n",
    "\n",
    "    # reshape states to [Batch, 80, 80, 1]\n",
    "    X = np.stack(self.states, axis = 0)\n",
    "    X = np.expand_dims(X, axis = -1) \n",
    "\n",
    "    Y = np.vstack(self.actions)\n",
    "\n",
    "    self.model.train_on_batch([X, rewards], Y)\n",
    "\n",
    "    self.states, self.probs, self.actions, self.rewards = [], [], [], []"
   ]
  },
  {
   "cell_type": "code",
   "execution_count": 37,
   "metadata": {},
   "outputs": [],
   "source": [
    "state_test = np.vstack(np.array([1,2,3,4,5]))"
   ]
  },
  {
   "cell_type": "code",
   "execution_count": 38,
   "metadata": {},
   "outputs": [
    {
     "data": {
      "text/plain": [
       "array([[1],\n",
       "       [2],\n",
       "       [3],\n",
       "       [4],\n",
       "       [5]])"
      ]
     },
     "execution_count": 38,
     "metadata": {},
     "output_type": "execute_result"
    }
   ],
   "source": [
    "np.stack(state_test, axis = 0)"
   ]
  },
  {
   "cell_type": "markdown",
   "metadata": {},
   "source": [
    "## Put everything together"
   ]
  },
  {
   "cell_type": "markdown",
   "metadata": {},
   "source": [
    "You can play the game very well after training for 500 episodes. You can also load the trained model"
   ]
  },
  {
   "cell_type": "code",
   "execution_count": 3,
   "metadata": {},
   "outputs": [],
   "source": [
    "def preprocess(I):\n",
    "    I = I[35:195]\n",
    "    I = I[::2, ::2, 0]\n",
    "    I[I == 144] = 0\n",
    "    I[I == 109] = 0\n",
    "    I[I != 0] = 1\n",
    "    return I.astype(np.float)"
   ]
  },
  {
   "cell_type": "code",
   "execution_count": 4,
   "metadata": {},
   "outputs": [],
   "source": [
    "class PGAgent:\n",
    "    def __init__(self, state_size, action_size):\n",
    "        self.state_size = state_size\n",
    "        self.action_size = action_size\n",
    "        self.gamma = 0.99\n",
    "        self.learning_rate = 0.001\n",
    "        self.states = []\n",
    "        self.actions = []\n",
    "        #self.gradients = []\n",
    "        self.rewards = []\n",
    "        self.probs = []\n",
    "        self.model = self._build_model()\n",
    "        self.model.summary()\n",
    "        \n",
    "        \n",
    "    def policy_gradient_loss(self, Returns):\n",
    "        def modified_crossentropy(action,action_probs):\n",
    "            cost = K.categorical_crossentropy(action, action_probs,\\\n",
    "                                              from_logits=False, axis=1)\n",
    "            g = K.squeeze(Returns, axis = -1)\n",
    "            cost = cost * g\n",
    "            return K.mean(cost)\n",
    "        return modified_crossentropy\n",
    "\n",
    "    def _build_model(self):\n",
    "        \n",
    "        states = Input(shape = self.state_size + (1,) )  # input shape is (80, 80, 1)\n",
    "        rewards = Input(shape = (1,))   # accumulated returns at each time\n",
    "        \n",
    "        conv = Conv2D(16, (3,3), padding='same', activation='relu')(states)\n",
    "        pool = MaxPool2D((2,2))(conv)\n",
    "        conv = Conv2D(64, (3,3), padding='same', activation='relu')(pool)\n",
    "        pool = MaxPool2D((2,2))(conv)\n",
    "        conv = Conv2D(32, (3,3), padding='same', activation='relu')(pool)\n",
    "        flat = Flatten()(conv)\n",
    "        # h = Dense(256, activation='relu', init='he_uniform')(flat)\n",
    "        h = Dense(256, activation='relu', kernel_initializer=tf.keras.initializers.HeUniform())(flat)\n",
    "        output = Dense(self.action_size, activation='softmax') (h)\n",
    "        \n",
    "        model = Model(inputs = [states, rewards], outputs = output)\n",
    "        \n",
    "        opt = Adam(lr=self.learning_rate)\n",
    "        \n",
    "        policy_loss = self.policy_gradient_loss(rewards)\n",
    "        \n",
    "        model.compile(loss=policy_loss, optimizer=opt)\n",
    "        \n",
    "        return model\n",
    "\n",
    "    def memorize(self, state, action, prob, reward):\n",
    "        y = np.zeros([self.action_size])\n",
    "        y[action] = 1\n",
    "        #self.gradients.append(np.array(y).astype('float32') - prob)\n",
    "        self.actions.append(y)\n",
    "        self.states.append(state)\n",
    "        self.rewards.append(reward)\n",
    "\n",
    "    def act(self, state):\n",
    "        state = np.expand_dims(state, axis = -1) # rehape to (80, 80, 1)\n",
    "        state = np.expand_dims(state, axis = 0) # rehape to (1, 80, 80, 1)\n",
    "        prob = self.model.predict([state, np.zeros((1,1))]).flatten()\n",
    "        self.probs.append(prob)\n",
    "        #prob = aprob / np.sum(aprob)\n",
    "        action = np.random.choice(self.action_size, 1, p=prob)[0]\n",
    "        return action, prob\n",
    "\n",
    "    def discount_rewards(self, rewards):\n",
    "        discounted_rewards = np.zeros_like(rewards)\n",
    "        running_add = 0\n",
    "        for t in reversed(range(0, rewards.size)):\n",
    "            if rewards[t] != 0:\n",
    "                running_add = 0\n",
    "            running_add = running_add * self.gamma + rewards[t]\n",
    "            discounted_rewards[t] = running_add\n",
    "        return discounted_rewards\n",
    "    \n",
    "\n",
    "    def train(self):\n",
    "        rewards = np.vstack(self.rewards)\n",
    "        rewards = self.discount_rewards(rewards)\n",
    "        rewards = (rewards - np.mean(rewards)) / (np.std(rewards) + 1e-7)\n",
    "        \n",
    "        # reshape states to [Batch, 80, 80, 1]\n",
    "        X = np.stack(self.states, axis = 0)\n",
    "        X = np.expand_dims(X, axis = -1) \n",
    "        \n",
    "        Y = np.vstack(self.actions)\n",
    "        \n",
    "        self.model.train_on_batch([X, rewards], Y)\n",
    "        \n",
    "        self.states, self.probs, self.actions, self.rewards = [], [], [], []\n",
    "\n",
    "    def load(self, name):\n",
    "        self.model.load_weights(name)\n",
    "\n",
    "    def save(self, name):\n",
    "        self.model.save_weights(name)\n",
    "\n"
   ]
  },
  {
   "cell_type": "code",
   "execution_count": null,
   "metadata": {},
   "outputs": [
    {
     "name": "stdout",
     "output_type": "stream",
     "text": [
      "Model: \"functional_1\"\n",
      "__________________________________________________________________________________________________\n",
      "Layer (type)                    Output Shape         Param #     Connected to                     \n",
      "==================================================================================================\n",
      "input_1 (InputLayer)            [(None, 80, 80, 1)]  0                                            \n",
      "__________________________________________________________________________________________________\n",
      "conv2d (Conv2D)                 (None, 80, 80, 16)   160         input_1[0][0]                    \n",
      "__________________________________________________________________________________________________\n",
      "max_pooling2d (MaxPooling2D)    (None, 40, 40, 16)   0           conv2d[0][0]                     \n",
      "__________________________________________________________________________________________________\n",
      "conv2d_1 (Conv2D)               (None, 40, 40, 64)   9280        max_pooling2d[0][0]              \n",
      "__________________________________________________________________________________________________\n",
      "max_pooling2d_1 (MaxPooling2D)  (None, 20, 20, 64)   0           conv2d_1[0][0]                   \n",
      "__________________________________________________________________________________________________\n",
      "conv2d_2 (Conv2D)               (None, 20, 20, 32)   18464       max_pooling2d_1[0][0]            \n",
      "__________________________________________________________________________________________________\n",
      "flatten (Flatten)               (None, 12800)        0           conv2d_2[0][0]                   \n",
      "__________________________________________________________________________________________________\n",
      "dense (Dense)                   (None, 256)          3277056     flatten[0][0]                    \n",
      "__________________________________________________________________________________________________\n",
      "input_2 (InputLayer)            [(None, 1)]          0                                            \n",
      "__________________________________________________________________________________________________\n",
      "dense_1 (Dense)                 (None, 6)            1542        dense[0][0]                      \n",
      "==================================================================================================\n",
      "Total params: 3,306,502\n",
      "Trainable params: 3,306,502\n",
      "Non-trainable params: 0\n",
      "__________________________________________________________________________________________________\n"
     ]
    },
    {
     "name": "stderr",
     "output_type": "stream",
     "text": [
      "C:\\Users\\cheng\\AppData\\Roaming\\Python\\Python37\\site-packages\\tensorflow\\python\\data\\ops\\dataset_ops.py:3350: UserWarning: Even though the tf.config.experimental_run_functions_eagerly option is set, this option does not apply to tf.data functions. tf.data functions are still traced and executed as graphs.\n",
      "  \"Even though the tf.config.experimental_run_functions_eagerly \"\n"
     ]
    },
    {
     "name": "stdout",
     "output_type": "stream",
     "text": [
      "Episode: 1 - Score: -20.00 - steps 1243 - time: 2.12\n",
      "Episode: 2 - Score: -21.00 - steps 1214 - time: 1.98\n",
      "Episode: 3 - Score: -20.00 - steps 1351 - time: 2.22\n",
      "Episode: 4 - Score: -19.00 - steps 1355 - time: 2.43\n",
      "Episode: 5 - Score: -19.00 - steps 1431 - time: 2.45\n",
      "Episode: 6 - Score: -21.00 - steps 1192 - time: 2.06\n",
      "Episode: 7 - Score: -20.00 - steps 1117 - time: 1.94\n",
      "Episode: 8 - Score: -20.00 - steps 1224 - time: 2.29\n",
      "Episode: 9 - Score: -20.00 - steps 1290 - time: 3.14\n",
      "Episode: 10 - Score: -18.00 - steps 1440 - time: 3.42\n",
      "Episode: 11 - Score: -21.00 - steps 1098 - time: 2.35\n",
      "Episode: 12 - Score: -19.00 - steps 1332 - time: 2.35\n",
      "Episode: 13 - Score: -21.00 - steps 1097 - time: 1.91\n",
      "Episode: 14 - Score: -20.00 - steps 1126 - time: 1.97\n",
      "Episode: 15 - Score: -20.00 - steps 1233 - time: 2.15\n"
     ]
    }
   ],
   "source": [
    "if __name__ == \"__main__\":\n",
    "    env = gym.make(\"Pong-v0\")\n",
    "    state = env.reset()\n",
    "    prev_x = None\n",
    "    score = 0\n",
    "    episode = 0\n",
    "    total_episodes = 10000\n",
    "\n",
    "    state_size = (80, 80)\n",
    "    action_size = env.action_space.n\n",
    "    agent = PGAgent(state_size, action_size)\n",
    "    steps = 0\n",
    "    agent.load('pong.h5')\n",
    "    while episode < total_episodes:\n",
    "        # env.render()\n",
    "        start_time = time.time()\n",
    "        \n",
    "        cur_x = preprocess(state)\n",
    "        x = cur_x - prev_x if prev_x is not None else np.zeros(state_size)\n",
    "        \n",
    "        prev_x = cur_x\n",
    "        #print(cur_x.shape)\n",
    "\n",
    "        action, prob = agent.act(x)\n",
    "        state, reward, done, info = env.step(action)\n",
    "        #print(reward)\n",
    "        score += reward\n",
    "        \n",
    "        agent.memorize(x, action, prob, reward)\n",
    "        steps += 1\n",
    "        if done:\n",
    "            \n",
    "            episode += 1\n",
    "            agent.train()\n",
    "            print('Episode: %d - Score: %.2f - steps %d - time: %.2f' % (episode, score, steps, time.time()-start_time))\n",
    "            score = 0\n",
    "            state = env.reset()\n",
    "            prev_x = None\n",
    "            steps = 0\n",
    "            if episode > 1 and episode % 10 == 0:\n",
    "                agent.save('pong.h5')\n",
    "    \n",
    "    env.close()"
   ]
  },
  {
   "cell_type": "markdown",
   "metadata": {},
   "source": [
    "## Next step (Optional Assignment)"
   ]
  },
  {
   "cell_type": "markdown",
   "metadata": {},
   "source": [
    "- Change the code to implement algorithms Actor-Critic and A2C (Advantage Actor-Critic). A good reference can be found at https://towardsdatascience.com/understanding-actor-critic-methods-931b97b6df3f\n",
    "- Compare the performance of these three algorithms to which one converges better."
   ]
  },
  {
   "cell_type": "code",
   "execution_count": 6,
   "metadata": {},
   "outputs": [
    {
     "name": "stdout",
     "output_type": "stream",
     "text": [
      "WARNING:tensorflow:From <ipython-input-6-bdb3352f611a>:1: experimental_run_functions_eagerly (from tensorflow.python.eager.def_function) is deprecated and will be removed in a future version.\n",
      "Instructions for updating:\n",
      "Use `tf.config.run_functions_eagerly` instead of the experimental version.\n"
     ]
    }
   ],
   "source": [
    "tf.config.experimental_run_functions_eagerly(True)"
   ]
  },
  {
   "cell_type": "code",
   "execution_count": null,
   "metadata": {},
   "outputs": [],
   "source": []
  }
 ],
 "metadata": {
  "kernelspec": {
   "display_name": "Python 3",
   "language": "python",
   "name": "python3"
  },
  "language_info": {
   "codemirror_mode": {
    "name": "ipython",
    "version": 3
   },
   "file_extension": ".py",
   "mimetype": "text/x-python",
   "name": "python",
   "nbconvert_exporter": "python",
   "pygments_lexer": "ipython3",
   "version": "3.7.0"
  }
 },
 "nbformat": 4,
 "nbformat_minor": 2
}
