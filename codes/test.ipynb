{
 "metadata": {
  "language_info": {
   "codemirror_mode": {
    "name": "ipython",
    "version": 3
   },
   "file_extension": ".py",
   "mimetype": "text/x-python",
   "name": "python",
   "nbconvert_exporter": "python",
   "pygments_lexer": "ipython3",
   "version": "3.7.6-final"
  },
  "orig_nbformat": 2,
  "kernelspec": {
   "name": "Python 3.7.6 64-bit ('base': conda)",
   "display_name": "Python 3.7.6 64-bit ('base': conda)",
   "metadata": {
    "interpreter": {
     "hash": "831f10841f14a37d4d9a3fec106441989d3bf2a578bea0211d7afa873087cd73"
    }
   }
  }
 },
 "nbformat": 4,
 "nbformat_minor": 2,
 "cells": [
  {
   "cell_type": "code",
   "execution_count": 1,
   "metadata": {},
   "outputs": [],
   "source": [
    "import pandas as pd\n",
    "import numpy as np\n",
    "import glob\n",
    "import environment as env\n"
   ]
  },
  {
   "cell_type": "code",
   "execution_count": 9,
   "metadata": {},
   "outputs": [
    {
     "output_type": "execute_result",
     "data": {
      "text/plain": [
       "['/Users/cheng/Google Drive/PhD/Research/Portfolio Selection via TBN/data/TBN_2011.csv',\n",
       " '/Users/cheng/Google Drive/PhD/Research/Portfolio Selection via TBN/data/TBN_2005.csv',\n",
       " '/Users/cheng/Google Drive/PhD/Research/Portfolio Selection via TBN/data/TBN_2004.csv',\n",
       " '/Users/cheng/Google Drive/PhD/Research/Portfolio Selection via TBN/data/TBN_2010.csv',\n",
       " '/Users/cheng/Google Drive/PhD/Research/Portfolio Selection via TBN/data/TBN_2006.csv',\n",
       " '/Users/cheng/Google Drive/PhD/Research/Portfolio Selection via TBN/data/TBN_2012.csv',\n",
       " '/Users/cheng/Google Drive/PhD/Research/Portfolio Selection via TBN/data/TBN_2013.csv',\n",
       " '/Users/cheng/Google Drive/PhD/Research/Portfolio Selection via TBN/data/TBN_2007.csv',\n",
       " '/Users/cheng/Google Drive/PhD/Research/Portfolio Selection via TBN/data/TBN_2003.csv',\n",
       " '/Users/cheng/Google Drive/PhD/Research/Portfolio Selection via TBN/data/TBN_2017.csv',\n",
       " '/Users/cheng/Google Drive/PhD/Research/Portfolio Selection via TBN/data/TBN_2016.csv',\n",
       " '/Users/cheng/Google Drive/PhD/Research/Portfolio Selection via TBN/data/TBN_2002.csv',\n",
       " '/Users/cheng/Google Drive/PhD/Research/Portfolio Selection via TBN/data/TBN_2014.csv',\n",
       " '/Users/cheng/Google Drive/PhD/Research/Portfolio Selection via TBN/data/TBN_2000.csv',\n",
       " '/Users/cheng/Google Drive/PhD/Research/Portfolio Selection via TBN/data/TBN_2001.csv',\n",
       " '/Users/cheng/Google Drive/PhD/Research/Portfolio Selection via TBN/data/TBN_2015.csv',\n",
       " '/Users/cheng/Google Drive/PhD/Research/Portfolio Selection via TBN/data/TBN_1998.csv',\n",
       " '/Users/cheng/Google Drive/PhD/Research/Portfolio Selection via TBN/data/TBN_1999.csv',\n",
       " '/Users/cheng/Google Drive/PhD/Research/Portfolio Selection via TBN/data/TBN_1997.csv',\n",
       " '/Users/cheng/Google Drive/PhD/Research/Portfolio Selection via TBN/data/TBN_1996.csv',\n",
       " '/Users/cheng/Google Drive/PhD/Research/Portfolio Selection via TBN/data/TBN_2009.csv',\n",
       " '/Users/cheng/Google Drive/PhD/Research/Portfolio Selection via TBN/data/TBN_2008.csv']"
      ]
     },
     "metadata": {},
     "execution_count": 9
    }
   ],
   "source": [
    "file_path = '/Users/cheng/Google Drive/PhD/Research/Portfolio Selection via TBN/data/'\n",
    "file_type = 'TBN_*.csv'\n",
    "file_list = glob.glob(file_path + file_type)\n",
    "file_list\n",
    "#"
   ]
  },
  {
   "cell_type": "code",
   "execution_count": 5,
   "metadata": {},
   "outputs": [
    {
     "output_type": "execute_result",
     "data": {
      "text/plain": [
       "'1996.csv'"
      ]
     },
     "metadata": {},
     "execution_count": 5
    }
   ],
   "source": [
    "file = file_list[0]\n",
    "file.split('/')[-1]"
   ]
  },
  {
   "cell_type": "code",
   "execution_count": 8,
   "metadata": {},
   "outputs": [],
   "source": [
    "file_path = '/Users/cheng/Google Drive/PhD/Research/Portfolio Selection via TBN/data/'\n",
    "file_suffix = 'TBN_'\n",
    "for file in file_list:\n",
    "    file_name = file.split('/')[-1]\n",
    "    os.rename(file_path + file_name, file_path + file_suffix + file_name)"
   ]
  },
  {
   "cell_type": "code",
   "execution_count": 130,
   "metadata": {},
   "outputs": [],
   "source": [
    "idx = pd.Index\n",
    "tbn_combined = pd.DataFrame()\n",
    "for file in file_list:\n",
    "    year = int(file.split('/')[-1][0:4])\n",
    "    tbn = pd.read_csv(file,  header = 0, index_col = [0], engine='c')\n",
    "    row_num = tbn.shape[0]\n",
    "    year_idx = idx(np.repeat(year, row_num))\n",
    "    tbn.set_index(year_idx, append = True, inplace = True)\n",
    "    tbn_combined = tbn_combined.append(tbn)\n",
    "tbn_combined = tbn_combined.reorder_levels(order=[1,0])\n"
   ]
  },
  {
   "cell_type": "code",
   "execution_count": 107,
   "metadata": {},
   "outputs": [],
   "source": [
    "tickers_key = np.array([ 1690,  1602,  1447,  2285,  2817, 20779,  2991,  3980,  5680,\n",
    "        6066,  6008,  6266,  2968,  3144,  7154,  7435,  7257, 12141,\n",
    "        7906,  8762,  3243, 10903,  2136, 11264, 11259])\n",
    "\n",
    "\n",
    "\n"
   ]
  },
  {
   "cell_type": "code",
   "execution_count": 115,
   "metadata": {},
   "outputs": [
    {
     "output_type": "execute_result",
     "data": {
      "text/plain": [
       "[True,\n",
       " True,\n",
       " True,\n",
       " True,\n",
       " True,\n",
       " True,\n",
       " True,\n",
       " True,\n",
       " True,\n",
       " True,\n",
       " True,\n",
       " False,\n",
       " True,\n",
       " True,\n",
       " True,\n",
       " True,\n",
       " True,\n",
       " True,\n",
       " True,\n",
       " True,\n",
       " True,\n",
       " True,\n",
       " True,\n",
       " True,\n",
       " True,\n",
       " True]"
      ]
     },
     "metadata": {},
     "execution_count": 115
    }
   ],
   "source": [
    "[int(x) in tickers_key for x in tbn_combined.columns]"
   ]
  },
  {
   "cell_type": "code",
   "execution_count": 117,
   "metadata": {},
   "outputs": [
    {
     "output_type": "execute_result",
     "data": {
      "text/plain": [
       "'5693'"
      ]
     },
     "metadata": {},
     "execution_count": 117
    }
   ],
   "source": [
    "tbn_combined.columns[11]"
   ]
  },
  {
   "cell_type": "code",
   "execution_count": 110,
   "metadata": {},
   "outputs": [
    {
     "output_type": "execute_result",
     "data": {
      "text/plain": [
       "25"
      ]
     },
     "metadata": {},
     "execution_count": 110
    }
   ],
   "source": [
    "\n",
    "len(tbn_1996.columns)"
   ]
  },
  {
   "cell_type": "code",
   "execution_count": 54,
   "metadata": {},
   "outputs": [
    {
     "output_type": "execute_result",
     "data": {
      "text/plain": [
       "MultiIndex([( 1447, 1996),\n",
       "            ( 1602, 1996),\n",
       "            ( 1690, 1996),\n",
       "            ( 2136, 1996),\n",
       "            ( 2285, 1996),\n",
       "            ( 2817, 1996),\n",
       "            ( 2991, 1996),\n",
       "            ( 3144, 1996),\n",
       "            ( 3243, 1996),\n",
       "            ( 3980, 1996),\n",
       "            ( 5680, 1996),\n",
       "            ( 5693, 1996),\n",
       "            ( 6008, 1996),\n",
       "            ( 6066, 1996),\n",
       "            ( 6266, 1996),\n",
       "            ( 7154, 1996),\n",
       "            ( 7257, 1996),\n",
       "            ( 7435, 1996),\n",
       "            ( 7906, 1996),\n",
       "            ( 8762, 1996),\n",
       "            (10903, 1996),\n",
       "            (11259, 1996),\n",
       "            (11264, 1996),\n",
       "            (12141, 1996),\n",
       "            (20779, 1996)],\n",
       "           )"
      ]
     },
     "metadata": {},
     "execution_count": 54
    }
   ],
   "source": []
  },
  {
   "cell_type": "code",
   "execution_count": null,
   "metadata": {},
   "outputs": [],
   "source": []
  },
  {
   "cell_type": "code",
   "execution_count": null,
   "metadata": {},
   "outputs": [],
   "source": []
  },
  {
   "cell_type": "code",
   "execution_count": null,
   "metadata": {},
   "outputs": [],
   "source": []
  },
  {
   "cell_type": "code",
   "execution_count": null,
   "metadata": {},
   "outputs": [],
   "source": []
  },
  {
   "cell_type": "code",
   "execution_count": 40,
   "metadata": {},
   "outputs": [
    {
     "output_type": "execute_result",
     "data": {
      "text/plain": [
       "'10/09/20-17:05:50'"
      ]
     },
     "metadata": {},
     "execution_count": 40
    }
   ],
   "source": [
    "datetime.now().strftime(\"%D-%H:%M:%S\")"
   ]
  },
  {
   "cell_type": "code",
   "execution_count": null,
   "metadata": {},
   "outputs": [],
   "source": []
  }
 ]
}