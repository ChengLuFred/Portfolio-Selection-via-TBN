{
 "metadata": {
  "language_info": {
   "codemirror_mode": {
    "name": "ipython",
    "version": 3
   },
   "file_extension": ".py",
   "mimetype": "text/x-python",
   "name": "python",
   "nbconvert_exporter": "python",
   "pygments_lexer": "ipython3",
   "version": "3.7.6-final"
  },
  "orig_nbformat": 2,
  "kernelspec": {
   "name": "Python 3.7.6 64-bit ('base': conda)",
   "display_name": "Python 3.7.6 64-bit ('base': conda)",
   "metadata": {
    "interpreter": {
     "hash": "831f10841f14a37d4d9a3fec106441989d3bf2a578bea0211d7afa873087cd73"
    }
   }
  }
 },
 "nbformat": 4,
 "nbformat_minor": 2,
 "cells": [
  {
   "cell_type": "code",
   "execution_count": 1,
   "metadata": {},
   "outputs": [],
   "source": [
    "# define the function blocks\n",
    "def zero():\n",
    "    print(\"You typed zero.\\n\")\n",
    "\n",
    "def sqr():\n",
    "    print(\"n is a perfect square\\n\")\n",
    "\n",
    "def even():\n",
    "    print( \"n is an even number\\n\")\n",
    "\n",
    "def prime():\n",
    "    print( \"n is a prime number\\n\")\n",
    "\n",
    "# map the inputs to the function blocks\n",
    "options = {'0' : zero,\n",
    "           1 : sqr,\n",
    "           4 : sqr,\n",
    "           9 : sqr,\n",
    "           2 : even,\n",
    "           3 : prime,\n",
    "           5 : prime,\n",
    "           7 : prime,\n",
    "}"
   ]
  },
  {
   "cell_type": "code",
   "execution_count": 3,
   "metadata": {},
   "outputs": [
    {
     "output_type": "stream",
     "name": "stdout",
     "text": [
      "You typed zero.\n\n"
     ]
    }
   ],
   "source": [
    "options['0']()"
   ]
  },
  {
   "cell_type": "code",
   "execution_count": 1,
   "metadata": {},
   "outputs": [],
   "source": [
    "from datetime import datetime"
   ]
  },
  {
   "cell_type": "code",
   "execution_count": 40,
   "metadata": {},
   "outputs": [
    {
     "output_type": "execute_result",
     "data": {
      "text/plain": [
       "'10/09/20-17:05:50'"
      ]
     },
     "metadata": {},
     "execution_count": 40
    }
   ],
   "source": [
    "datetime.now().strftime(\"%D-%H:%M:%S\")"
   ]
  },
  {
   "cell_type": "code",
   "execution_count": null,
   "metadata": {},
   "outputs": [],
   "source": []
  }
 ]
}