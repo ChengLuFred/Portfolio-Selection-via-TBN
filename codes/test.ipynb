{
 "metadata": {
  "language_info": {
   "codemirror_mode": {
    "name": "ipython",
    "version": 3
   },
   "file_extension": ".py",
   "mimetype": "text/x-python",
   "name": "python",
   "nbconvert_exporter": "python",
   "pygments_lexer": "ipython3",
   "version": "3.7.6-final"
  },
  "orig_nbformat": 2,
  "kernelspec": {
   "name": "Python 3.7.6 64-bit ('base': conda)",
   "display_name": "Python 3.7.6 64-bit ('base': conda)",
   "metadata": {
    "interpreter": {
     "hash": "831f10841f14a37d4d9a3fec106441989d3bf2a578bea0211d7afa873087cd73"
    }
   }
  }
 },
 "nbformat": 4,
 "nbformat_minor": 2,
 "cells": [
  {
   "cell_type": "code",
   "execution_count": 74,
   "metadata": {},
   "outputs": [],
   "source": [
    "import pandas as pd\n",
    "import numpy as np\n",
    "import glob\n",
    "import pandas as pd\n",
    "\n"
   ]
  },
  {
   "cell_type": "code",
   "execution_count": 76,
   "metadata": {},
   "outputs": [
    {
     "output_type": "execute_result",
     "data": {
      "text/plain": [
       "['../data/1996.csv',\n",
       " '../data/1997.csv',\n",
       " '../data/2008.csv',\n",
       " '../data/2009.csv',\n",
       " '../data/2001.csv',\n",
       " '../data/2015.csv',\n",
       " '../data/2014.csv',\n",
       " '../data/2000.csv',\n",
       " '../data/2016.csv',\n",
       " '../data/2002.csv',\n",
       " '../data/2003.csv',\n",
       " '../data/2017.csv',\n",
       " '../data/2013.csv',\n",
       " '../data/2007.csv',\n",
       " '../data/2006.csv',\n",
       " '../data/2012.csv',\n",
       " '../data/2004.csv',\n",
       " '../data/2010.csv',\n",
       " '../data/2011.csv',\n",
       " '../data/2005.csv',\n",
       " '../data/1999.csv',\n",
       " '../data/1998.csv']"
      ]
     },
     "metadata": {},
     "execution_count": 76
    }
   ],
   "source": [
    "file_path = '../data/'\n",
    "file_type = '*.csv'\n",
    "file_list = glob.glob(file_path + file_type)\n",
    "file_list\n",
    "#"
   ]
  },
  {
   "cell_type": "code",
   "execution_count": 130,
   "metadata": {},
   "outputs": [],
   "source": [
    "idx = pd.Index\n",
    "tbn_combined = pd.DataFrame()\n",
    "for file in file_list:\n",
    "    year = int(file.split('/')[-1][0:4])\n",
    "    tbn = pd.read_csv(file,  header = 0, index_col = [0], engine='c')\n",
    "    row_num = tbn.shape[0]\n",
    "    year_idx = idx(np.repeat(year, row_num))\n",
    "    tbn.set_index(year_idx, append = True, inplace = True)\n",
    "    tbn_combined = tbn_combined.append(tbn)\n",
    "tbn_combined = tbn_combined.reorder_levels(order=[1,0])\n"
   ]
  },
  {
   "cell_type": "code",
   "execution_count": 131,
   "metadata": {},
   "outputs": [
    {
     "output_type": "execute_result",
     "data": {
      "text/plain": [
       "         1447    1602    1690    2136    2285    2817    2991    3144    3243  \\\n",
       "1447   1.0000  0.0769  0.0464  0.0956  0.0000  0.0584  0.0111  0.0000  0.0741   \n",
       "1602   0.0769  1.0000  0.0000  0.0101  0.0000  0.0000  0.0000  0.0000  0.0103   \n",
       "1690   0.0464  0.0000  1.0000  0.1114  0.0000  0.0253  0.0082  0.0000  0.0645   \n",
       "2136   0.0956  0.0101  0.1114  1.0000  0.0000  0.0386  0.0062  0.0000  0.0619   \n",
       "2285   0.0000  0.0000  0.0000  0.0000  1.0000  0.0102  0.0288  0.0000  0.0000   \n",
       "2817   0.0584  0.0000  0.0253  0.0386  0.0102  1.0000  0.0411  0.0000  0.0000   \n",
       "2991   0.0111  0.0000  0.0082  0.0062  0.0288  0.0411  1.0000  0.0051  0.0281   \n",
       "3144   0.0000  0.0000  0.0000  0.0000  0.0000  0.0000  0.0051  1.0000  0.0000   \n",
       "3243   0.0000  0.0561  0.0000  0.0009  0.0000  0.0470  0.0047  0.0000  1.0000   \n",
       "3980   0.0741  0.0103  0.0645  0.0619  0.0000  0.0000  0.0281  0.0000  0.0000   \n",
       "5680   0.0132  0.0000  0.0052  0.0000  0.0000  0.0268  0.0000  0.0000  0.0016   \n",
       "6066   0.0949  0.0023  0.0665  0.0714  0.0000  0.0663  0.0228  0.0000  0.0000   \n",
       "6266   0.0000  0.0962  0.0000  0.0000  0.0000  0.0000  0.0000  0.0000  0.0000   \n",
       "7154   0.0046  0.0000  0.0000  0.0000  0.0000  0.0024  0.0000  0.0201  0.0206   \n",
       "7257   0.0357  0.1319  0.0082  0.0000  0.0000  0.0197  0.0000  0.0000  0.0010   \n",
       "7435   0.0000  0.0067  0.0331  0.0337  0.0273  0.0179  0.0031  0.0000  0.0093   \n",
       "7906   0.0628  0.0347  0.0564  0.0083  0.0000  0.0163  0.0375  0.0371  0.0310   \n",
       "8762   0.0096  0.0055  0.0000  0.0069  0.0000  0.0090  0.0118  0.0342  0.0000   \n",
       "10903  0.0735  0.0854  0.0000  0.0290  0.0000  0.0286  0.0000  0.0000  0.0000   \n",
       "11259  0.0365  0.0013  0.0153  0.0396  0.0000  0.0256  0.0012  0.0000  0.0332   \n",
       "11264  0.0000  0.0018  0.0000  0.0191  0.0000  0.0054  0.0000  0.0000  0.0004   \n",
       "12141  0.0448  0.0000  0.1420  0.1133  0.0014  0.0056  0.0013  0.0000  0.0289   \n",
       "20779  0.1395  0.0869  0.0394  0.0370  0.0017  0.0308  0.0108  0.0000  0.0399   \n",
       "\n",
       "         3980  ...    7154    7257    7435    7906    8762   10903   11259  \\\n",
       "1447   0.0132  ...  0.0357  0.0000  0.0628  0.0096  0.0735  0.0365  0.0000   \n",
       "1602   0.0000  ...  0.1319  0.0067  0.0347  0.0055  0.0854  0.0013  0.0018   \n",
       "1690   0.0052  ...  0.0082  0.0331  0.0564  0.0000  0.0000  0.0153  0.0000   \n",
       "2136   0.0000  ...  0.0000  0.0337  0.0083  0.0069  0.0290  0.0396  0.0191   \n",
       "2285   0.0000  ...  0.0000  0.0273  0.0000  0.0000  0.0000  0.0000  0.0000   \n",
       "2817   0.0268  ...  0.0197  0.0179  0.0163  0.0090  0.0286  0.0256  0.0054   \n",
       "2991   0.0000  ...  0.0000  0.0031  0.0375  0.0118  0.0000  0.0012  0.0000   \n",
       "3144   0.0000  ...  0.0000  0.0000  0.0371  0.0342  0.0000  0.0000  0.0000   \n",
       "3243   0.0000  ...  0.0259  0.0000  0.0025  0.0353  0.0000  0.0000  0.0000   \n",
       "3980   1.0000  ...  0.0010  0.0093  0.0310  0.0000  0.0000  0.0332  0.0004   \n",
       "5680   0.0000  ...  0.0000  0.0278  0.0000  0.0000  0.0000  0.0491  0.0226   \n",
       "6066   0.0221  ...  0.0280  0.0057  0.0977  0.0511  0.0061  0.0153  0.0329   \n",
       "6266   0.0000  ...  0.1642  0.0000  0.0249  0.0182  0.0233  0.0303  0.0674   \n",
       "7154   0.0000  ...  1.0000  0.0000  0.0145  0.0383  0.0000  0.0555  0.0243   \n",
       "7257   0.0000  ...  0.0000  1.0000  0.0290  0.0144  0.0499  0.0001  0.0400   \n",
       "7435   0.0278  ...  0.0000  0.0000  1.0000  0.0000  0.0164  0.0032  0.0000   \n",
       "7906   0.0000  ...  0.0290  0.0000  0.0000  1.0000  0.0000  0.0338  0.0000   \n",
       "8762   0.0000  ...  0.0144  0.0000  0.0041  0.0000  1.0000  0.1054  0.0888   \n",
       "10903  0.0000  ...  0.0499  0.0164  0.0000  0.0000  0.0000  1.0000  0.0518   \n",
       "11259  0.0491  ...  0.0001  0.0032  0.0338  0.1054  0.0199  0.0000  1.0000   \n",
       "11264  0.0226  ...  0.0400  0.0000  0.0000  0.0888  0.0518  0.0994  0.0000   \n",
       "12141  0.0000  ...  0.0264  0.0000  0.0243  0.0143  0.0210  0.0196  0.0109   \n",
       "20779  0.0000  ...  0.0345  0.0000  0.0158  0.0000  0.0654  0.0055  0.0318   \n",
       "\n",
       "        11264   12141   20779  \n",
       "1447   0.0448  0.1395  0.0000  \n",
       "1602   0.0000  0.0869  0.0561  \n",
       "1690   0.1420  0.0394  0.0000  \n",
       "2136   0.1133  0.0370  0.0009  \n",
       "2285   0.0014  0.0017  0.0000  \n",
       "2817   0.0056  0.0308  0.0470  \n",
       "2991   0.0013  0.0108  0.0047  \n",
       "3144   0.0000  0.0000  0.0000  \n",
       "3243   0.0000  0.1543  0.0000  \n",
       "3980   0.0289  0.0399  0.0000  \n",
       "5680   0.0000  0.0000  0.0000  \n",
       "6066   0.1696  0.0357  0.0495  \n",
       "6266   0.0119  0.0000  0.0000  \n",
       "7154   0.0375  0.0000  0.0000  \n",
       "7257   0.0264  0.0345  0.0259  \n",
       "7435   0.0000  0.0000  0.0000  \n",
       "7906   0.0243  0.0158  0.0025  \n",
       "8762   0.0143  0.0000  0.0353  \n",
       "10903  0.0210  0.0654  0.0000  \n",
       "11259  0.0196  0.0055  0.0000  \n",
       "11264  1.0000  0.0318  0.0000  \n",
       "12141  0.0000  1.0000  0.0000  \n",
       "20779  0.0320  0.0000  1.0000  \n",
       "\n",
       "[23 rows x 23 columns]"
      ],
      "text/html": "<div>\n<style scoped>\n    .dataframe tbody tr th:only-of-type {\n        vertical-align: middle;\n    }\n\n    .dataframe tbody tr th {\n        vertical-align: top;\n    }\n\n    .dataframe thead th {\n        text-align: right;\n    }\n</style>\n<table border=\"1\" class=\"dataframe\">\n  <thead>\n    <tr style=\"text-align: right;\">\n      <th></th>\n      <th>1447</th>\n      <th>1602</th>\n      <th>1690</th>\n      <th>2136</th>\n      <th>2285</th>\n      <th>2817</th>\n      <th>2991</th>\n      <th>3144</th>\n      <th>3243</th>\n      <th>3980</th>\n      <th>...</th>\n      <th>7154</th>\n      <th>7257</th>\n      <th>7435</th>\n      <th>7906</th>\n      <th>8762</th>\n      <th>10903</th>\n      <th>11259</th>\n      <th>11264</th>\n      <th>12141</th>\n      <th>20779</th>\n    </tr>\n  </thead>\n  <tbody>\n    <tr>\n      <th>1447</th>\n      <td>1.0000</td>\n      <td>0.0769</td>\n      <td>0.0464</td>\n      <td>0.0956</td>\n      <td>0.0000</td>\n      <td>0.0584</td>\n      <td>0.0111</td>\n      <td>0.0000</td>\n      <td>0.0741</td>\n      <td>0.0132</td>\n      <td>...</td>\n      <td>0.0357</td>\n      <td>0.0000</td>\n      <td>0.0628</td>\n      <td>0.0096</td>\n      <td>0.0735</td>\n      <td>0.0365</td>\n      <td>0.0000</td>\n      <td>0.0448</td>\n      <td>0.1395</td>\n      <td>0.0000</td>\n    </tr>\n    <tr>\n      <th>1602</th>\n      <td>0.0769</td>\n      <td>1.0000</td>\n      <td>0.0000</td>\n      <td>0.0101</td>\n      <td>0.0000</td>\n      <td>0.0000</td>\n      <td>0.0000</td>\n      <td>0.0000</td>\n      <td>0.0103</td>\n      <td>0.0000</td>\n      <td>...</td>\n      <td>0.1319</td>\n      <td>0.0067</td>\n      <td>0.0347</td>\n      <td>0.0055</td>\n      <td>0.0854</td>\n      <td>0.0013</td>\n      <td>0.0018</td>\n      <td>0.0000</td>\n      <td>0.0869</td>\n      <td>0.0561</td>\n    </tr>\n    <tr>\n      <th>1690</th>\n      <td>0.0464</td>\n      <td>0.0000</td>\n      <td>1.0000</td>\n      <td>0.1114</td>\n      <td>0.0000</td>\n      <td>0.0253</td>\n      <td>0.0082</td>\n      <td>0.0000</td>\n      <td>0.0645</td>\n      <td>0.0052</td>\n      <td>...</td>\n      <td>0.0082</td>\n      <td>0.0331</td>\n      <td>0.0564</td>\n      <td>0.0000</td>\n      <td>0.0000</td>\n      <td>0.0153</td>\n      <td>0.0000</td>\n      <td>0.1420</td>\n      <td>0.0394</td>\n      <td>0.0000</td>\n    </tr>\n    <tr>\n      <th>2136</th>\n      <td>0.0956</td>\n      <td>0.0101</td>\n      <td>0.1114</td>\n      <td>1.0000</td>\n      <td>0.0000</td>\n      <td>0.0386</td>\n      <td>0.0062</td>\n      <td>0.0000</td>\n      <td>0.0619</td>\n      <td>0.0000</td>\n      <td>...</td>\n      <td>0.0000</td>\n      <td>0.0337</td>\n      <td>0.0083</td>\n      <td>0.0069</td>\n      <td>0.0290</td>\n      <td>0.0396</td>\n      <td>0.0191</td>\n      <td>0.1133</td>\n      <td>0.0370</td>\n      <td>0.0009</td>\n    </tr>\n    <tr>\n      <th>2285</th>\n      <td>0.0000</td>\n      <td>0.0000</td>\n      <td>0.0000</td>\n      <td>0.0000</td>\n      <td>1.0000</td>\n      <td>0.0102</td>\n      <td>0.0288</td>\n      <td>0.0000</td>\n      <td>0.0000</td>\n      <td>0.0000</td>\n      <td>...</td>\n      <td>0.0000</td>\n      <td>0.0273</td>\n      <td>0.0000</td>\n      <td>0.0000</td>\n      <td>0.0000</td>\n      <td>0.0000</td>\n      <td>0.0000</td>\n      <td>0.0014</td>\n      <td>0.0017</td>\n      <td>0.0000</td>\n    </tr>\n    <tr>\n      <th>2817</th>\n      <td>0.0584</td>\n      <td>0.0000</td>\n      <td>0.0253</td>\n      <td>0.0386</td>\n      <td>0.0102</td>\n      <td>1.0000</td>\n      <td>0.0411</td>\n      <td>0.0000</td>\n      <td>0.0000</td>\n      <td>0.0268</td>\n      <td>...</td>\n      <td>0.0197</td>\n      <td>0.0179</td>\n      <td>0.0163</td>\n      <td>0.0090</td>\n      <td>0.0286</td>\n      <td>0.0256</td>\n      <td>0.0054</td>\n      <td>0.0056</td>\n      <td>0.0308</td>\n      <td>0.0470</td>\n    </tr>\n    <tr>\n      <th>2991</th>\n      <td>0.0111</td>\n      <td>0.0000</td>\n      <td>0.0082</td>\n      <td>0.0062</td>\n      <td>0.0288</td>\n      <td>0.0411</td>\n      <td>1.0000</td>\n      <td>0.0051</td>\n      <td>0.0281</td>\n      <td>0.0000</td>\n      <td>...</td>\n      <td>0.0000</td>\n      <td>0.0031</td>\n      <td>0.0375</td>\n      <td>0.0118</td>\n      <td>0.0000</td>\n      <td>0.0012</td>\n      <td>0.0000</td>\n      <td>0.0013</td>\n      <td>0.0108</td>\n      <td>0.0047</td>\n    </tr>\n    <tr>\n      <th>3144</th>\n      <td>0.0000</td>\n      <td>0.0000</td>\n      <td>0.0000</td>\n      <td>0.0000</td>\n      <td>0.0000</td>\n      <td>0.0000</td>\n      <td>0.0051</td>\n      <td>1.0000</td>\n      <td>0.0000</td>\n      <td>0.0000</td>\n      <td>...</td>\n      <td>0.0000</td>\n      <td>0.0000</td>\n      <td>0.0371</td>\n      <td>0.0342</td>\n      <td>0.0000</td>\n      <td>0.0000</td>\n      <td>0.0000</td>\n      <td>0.0000</td>\n      <td>0.0000</td>\n      <td>0.0000</td>\n    </tr>\n    <tr>\n      <th>3243</th>\n      <td>0.0000</td>\n      <td>0.0561</td>\n      <td>0.0000</td>\n      <td>0.0009</td>\n      <td>0.0000</td>\n      <td>0.0470</td>\n      <td>0.0047</td>\n      <td>0.0000</td>\n      <td>1.0000</td>\n      <td>0.0000</td>\n      <td>...</td>\n      <td>0.0259</td>\n      <td>0.0000</td>\n      <td>0.0025</td>\n      <td>0.0353</td>\n      <td>0.0000</td>\n      <td>0.0000</td>\n      <td>0.0000</td>\n      <td>0.0000</td>\n      <td>0.1543</td>\n      <td>0.0000</td>\n    </tr>\n    <tr>\n      <th>3980</th>\n      <td>0.0741</td>\n      <td>0.0103</td>\n      <td>0.0645</td>\n      <td>0.0619</td>\n      <td>0.0000</td>\n      <td>0.0000</td>\n      <td>0.0281</td>\n      <td>0.0000</td>\n      <td>0.0000</td>\n      <td>1.0000</td>\n      <td>...</td>\n      <td>0.0010</td>\n      <td>0.0093</td>\n      <td>0.0310</td>\n      <td>0.0000</td>\n      <td>0.0000</td>\n      <td>0.0332</td>\n      <td>0.0004</td>\n      <td>0.0289</td>\n      <td>0.0399</td>\n      <td>0.0000</td>\n    </tr>\n    <tr>\n      <th>5680</th>\n      <td>0.0132</td>\n      <td>0.0000</td>\n      <td>0.0052</td>\n      <td>0.0000</td>\n      <td>0.0000</td>\n      <td>0.0268</td>\n      <td>0.0000</td>\n      <td>0.0000</td>\n      <td>0.0016</td>\n      <td>0.0000</td>\n      <td>...</td>\n      <td>0.0000</td>\n      <td>0.0278</td>\n      <td>0.0000</td>\n      <td>0.0000</td>\n      <td>0.0000</td>\n      <td>0.0491</td>\n      <td>0.0226</td>\n      <td>0.0000</td>\n      <td>0.0000</td>\n      <td>0.0000</td>\n    </tr>\n    <tr>\n      <th>6066</th>\n      <td>0.0949</td>\n      <td>0.0023</td>\n      <td>0.0665</td>\n      <td>0.0714</td>\n      <td>0.0000</td>\n      <td>0.0663</td>\n      <td>0.0228</td>\n      <td>0.0000</td>\n      <td>0.0000</td>\n      <td>0.0221</td>\n      <td>...</td>\n      <td>0.0280</td>\n      <td>0.0057</td>\n      <td>0.0977</td>\n      <td>0.0511</td>\n      <td>0.0061</td>\n      <td>0.0153</td>\n      <td>0.0329</td>\n      <td>0.1696</td>\n      <td>0.0357</td>\n      <td>0.0495</td>\n    </tr>\n    <tr>\n      <th>6266</th>\n      <td>0.0000</td>\n      <td>0.0962</td>\n      <td>0.0000</td>\n      <td>0.0000</td>\n      <td>0.0000</td>\n      <td>0.0000</td>\n      <td>0.0000</td>\n      <td>0.0000</td>\n      <td>0.0000</td>\n      <td>0.0000</td>\n      <td>...</td>\n      <td>0.1642</td>\n      <td>0.0000</td>\n      <td>0.0249</td>\n      <td>0.0182</td>\n      <td>0.0233</td>\n      <td>0.0303</td>\n      <td>0.0674</td>\n      <td>0.0119</td>\n      <td>0.0000</td>\n      <td>0.0000</td>\n    </tr>\n    <tr>\n      <th>7154</th>\n      <td>0.0046</td>\n      <td>0.0000</td>\n      <td>0.0000</td>\n      <td>0.0000</td>\n      <td>0.0000</td>\n      <td>0.0024</td>\n      <td>0.0000</td>\n      <td>0.0201</td>\n      <td>0.0206</td>\n      <td>0.0000</td>\n      <td>...</td>\n      <td>1.0000</td>\n      <td>0.0000</td>\n      <td>0.0145</td>\n      <td>0.0383</td>\n      <td>0.0000</td>\n      <td>0.0555</td>\n      <td>0.0243</td>\n      <td>0.0375</td>\n      <td>0.0000</td>\n      <td>0.0000</td>\n    </tr>\n    <tr>\n      <th>7257</th>\n      <td>0.0357</td>\n      <td>0.1319</td>\n      <td>0.0082</td>\n      <td>0.0000</td>\n      <td>0.0000</td>\n      <td>0.0197</td>\n      <td>0.0000</td>\n      <td>0.0000</td>\n      <td>0.0010</td>\n      <td>0.0000</td>\n      <td>...</td>\n      <td>0.0000</td>\n      <td>1.0000</td>\n      <td>0.0290</td>\n      <td>0.0144</td>\n      <td>0.0499</td>\n      <td>0.0001</td>\n      <td>0.0400</td>\n      <td>0.0264</td>\n      <td>0.0345</td>\n      <td>0.0259</td>\n    </tr>\n    <tr>\n      <th>7435</th>\n      <td>0.0000</td>\n      <td>0.0067</td>\n      <td>0.0331</td>\n      <td>0.0337</td>\n      <td>0.0273</td>\n      <td>0.0179</td>\n      <td>0.0031</td>\n      <td>0.0000</td>\n      <td>0.0093</td>\n      <td>0.0278</td>\n      <td>...</td>\n      <td>0.0000</td>\n      <td>0.0000</td>\n      <td>1.0000</td>\n      <td>0.0000</td>\n      <td>0.0164</td>\n      <td>0.0032</td>\n      <td>0.0000</td>\n      <td>0.0000</td>\n      <td>0.0000</td>\n      <td>0.0000</td>\n    </tr>\n    <tr>\n      <th>7906</th>\n      <td>0.0628</td>\n      <td>0.0347</td>\n      <td>0.0564</td>\n      <td>0.0083</td>\n      <td>0.0000</td>\n      <td>0.0163</td>\n      <td>0.0375</td>\n      <td>0.0371</td>\n      <td>0.0310</td>\n      <td>0.0000</td>\n      <td>...</td>\n      <td>0.0290</td>\n      <td>0.0000</td>\n      <td>0.0000</td>\n      <td>1.0000</td>\n      <td>0.0000</td>\n      <td>0.0338</td>\n      <td>0.0000</td>\n      <td>0.0243</td>\n      <td>0.0158</td>\n      <td>0.0025</td>\n    </tr>\n    <tr>\n      <th>8762</th>\n      <td>0.0096</td>\n      <td>0.0055</td>\n      <td>0.0000</td>\n      <td>0.0069</td>\n      <td>0.0000</td>\n      <td>0.0090</td>\n      <td>0.0118</td>\n      <td>0.0342</td>\n      <td>0.0000</td>\n      <td>0.0000</td>\n      <td>...</td>\n      <td>0.0144</td>\n      <td>0.0000</td>\n      <td>0.0041</td>\n      <td>0.0000</td>\n      <td>1.0000</td>\n      <td>0.1054</td>\n      <td>0.0888</td>\n      <td>0.0143</td>\n      <td>0.0000</td>\n      <td>0.0353</td>\n    </tr>\n    <tr>\n      <th>10903</th>\n      <td>0.0735</td>\n      <td>0.0854</td>\n      <td>0.0000</td>\n      <td>0.0290</td>\n      <td>0.0000</td>\n      <td>0.0286</td>\n      <td>0.0000</td>\n      <td>0.0000</td>\n      <td>0.0000</td>\n      <td>0.0000</td>\n      <td>...</td>\n      <td>0.0499</td>\n      <td>0.0164</td>\n      <td>0.0000</td>\n      <td>0.0000</td>\n      <td>0.0000</td>\n      <td>1.0000</td>\n      <td>0.0518</td>\n      <td>0.0210</td>\n      <td>0.0654</td>\n      <td>0.0000</td>\n    </tr>\n    <tr>\n      <th>11259</th>\n      <td>0.0365</td>\n      <td>0.0013</td>\n      <td>0.0153</td>\n      <td>0.0396</td>\n      <td>0.0000</td>\n      <td>0.0256</td>\n      <td>0.0012</td>\n      <td>0.0000</td>\n      <td>0.0332</td>\n      <td>0.0491</td>\n      <td>...</td>\n      <td>0.0001</td>\n      <td>0.0032</td>\n      <td>0.0338</td>\n      <td>0.1054</td>\n      <td>0.0199</td>\n      <td>0.0000</td>\n      <td>1.0000</td>\n      <td>0.0196</td>\n      <td>0.0055</td>\n      <td>0.0000</td>\n    </tr>\n    <tr>\n      <th>11264</th>\n      <td>0.0000</td>\n      <td>0.0018</td>\n      <td>0.0000</td>\n      <td>0.0191</td>\n      <td>0.0000</td>\n      <td>0.0054</td>\n      <td>0.0000</td>\n      <td>0.0000</td>\n      <td>0.0004</td>\n      <td>0.0226</td>\n      <td>...</td>\n      <td>0.0400</td>\n      <td>0.0000</td>\n      <td>0.0000</td>\n      <td>0.0888</td>\n      <td>0.0518</td>\n      <td>0.0994</td>\n      <td>0.0000</td>\n      <td>1.0000</td>\n      <td>0.0318</td>\n      <td>0.0000</td>\n    </tr>\n    <tr>\n      <th>12141</th>\n      <td>0.0448</td>\n      <td>0.0000</td>\n      <td>0.1420</td>\n      <td>0.1133</td>\n      <td>0.0014</td>\n      <td>0.0056</td>\n      <td>0.0013</td>\n      <td>0.0000</td>\n      <td>0.0289</td>\n      <td>0.0000</td>\n      <td>...</td>\n      <td>0.0264</td>\n      <td>0.0000</td>\n      <td>0.0243</td>\n      <td>0.0143</td>\n      <td>0.0210</td>\n      <td>0.0196</td>\n      <td>0.0109</td>\n      <td>0.0000</td>\n      <td>1.0000</td>\n      <td>0.0000</td>\n    </tr>\n    <tr>\n      <th>20779</th>\n      <td>0.1395</td>\n      <td>0.0869</td>\n      <td>0.0394</td>\n      <td>0.0370</td>\n      <td>0.0017</td>\n      <td>0.0308</td>\n      <td>0.0108</td>\n      <td>0.0000</td>\n      <td>0.0399</td>\n      <td>0.0000</td>\n      <td>...</td>\n      <td>0.0345</td>\n      <td>0.0000</td>\n      <td>0.0158</td>\n      <td>0.0000</td>\n      <td>0.0654</td>\n      <td>0.0055</td>\n      <td>0.0318</td>\n      <td>0.0320</td>\n      <td>0.0000</td>\n      <td>1.0000</td>\n    </tr>\n  </tbody>\n</table>\n<p>23 rows × 23 columns</p>\n</div>"
     },
     "metadata": {},
     "execution_count": 131
    }
   ],
   "source": [
    "tbn_combined.loc[2008]"
   ]
  },
  {
   "cell_type": "code",
   "execution_count": 107,
   "metadata": {},
   "outputs": [],
   "source": [
    "tickers_key = np.array([ 1690,  1602,  1447,  2285,  2817, 20779,  2991,  3980,  5680,\n",
    "        6066,  6008,  6266,  2968,  3144,  7154,  7435,  7257, 12141,\n",
    "        7906,  8762,  3243, 10903,  2136, 11264, 11259])\n",
    "\n",
    "\n",
    "\n"
   ]
  },
  {
   "cell_type": "code",
   "execution_count": 115,
   "metadata": {},
   "outputs": [
    {
     "output_type": "execute_result",
     "data": {
      "text/plain": [
       "[True,\n",
       " True,\n",
       " True,\n",
       " True,\n",
       " True,\n",
       " True,\n",
       " True,\n",
       " True,\n",
       " True,\n",
       " True,\n",
       " True,\n",
       " False,\n",
       " True,\n",
       " True,\n",
       " True,\n",
       " True,\n",
       " True,\n",
       " True,\n",
       " True,\n",
       " True,\n",
       " True,\n",
       " True,\n",
       " True,\n",
       " True,\n",
       " True,\n",
       " True]"
      ]
     },
     "metadata": {},
     "execution_count": 115
    }
   ],
   "source": [
    "[int(x) in tickers_key for x in tbn_combined.columns]"
   ]
  },
  {
   "cell_type": "code",
   "execution_count": 117,
   "metadata": {},
   "outputs": [
    {
     "output_type": "execute_result",
     "data": {
      "text/plain": [
       "'5693'"
      ]
     },
     "metadata": {},
     "execution_count": 117
    }
   ],
   "source": [
    "tbn_combined.columns[11]"
   ]
  },
  {
   "cell_type": "code",
   "execution_count": 110,
   "metadata": {},
   "outputs": [
    {
     "output_type": "execute_result",
     "data": {
      "text/plain": [
       "25"
      ]
     },
     "metadata": {},
     "execution_count": 110
    }
   ],
   "source": [
    "\n",
    "len(tbn_1996.columns)"
   ]
  },
  {
   "cell_type": "code",
   "execution_count": 54,
   "metadata": {},
   "outputs": [
    {
     "output_type": "execute_result",
     "data": {
      "text/plain": [
       "MultiIndex([( 1447, 1996),\n",
       "            ( 1602, 1996),\n",
       "            ( 1690, 1996),\n",
       "            ( 2136, 1996),\n",
       "            ( 2285, 1996),\n",
       "            ( 2817, 1996),\n",
       "            ( 2991, 1996),\n",
       "            ( 3144, 1996),\n",
       "            ( 3243, 1996),\n",
       "            ( 3980, 1996),\n",
       "            ( 5680, 1996),\n",
       "            ( 5693, 1996),\n",
       "            ( 6008, 1996),\n",
       "            ( 6066, 1996),\n",
       "            ( 6266, 1996),\n",
       "            ( 7154, 1996),\n",
       "            ( 7257, 1996),\n",
       "            ( 7435, 1996),\n",
       "            ( 7906, 1996),\n",
       "            ( 8762, 1996),\n",
       "            (10903, 1996),\n",
       "            (11259, 1996),\n",
       "            (11264, 1996),\n",
       "            (12141, 1996),\n",
       "            (20779, 1996)],\n",
       "           )"
      ]
     },
     "metadata": {},
     "execution_count": 54
    }
   ],
   "source": []
  },
  {
   "cell_type": "code",
   "execution_count": null,
   "metadata": {},
   "outputs": [],
   "source": []
  },
  {
   "cell_type": "code",
   "execution_count": null,
   "metadata": {},
   "outputs": [],
   "source": []
  },
  {
   "cell_type": "code",
   "execution_count": null,
   "metadata": {},
   "outputs": [],
   "source": []
  },
  {
   "cell_type": "code",
   "execution_count": null,
   "metadata": {},
   "outputs": [],
   "source": []
  },
  {
   "cell_type": "code",
   "execution_count": 40,
   "metadata": {},
   "outputs": [
    {
     "output_type": "execute_result",
     "data": {
      "text/plain": [
       "'10/09/20-17:05:50'"
      ]
     },
     "metadata": {},
     "execution_count": 40
    }
   ],
   "source": [
    "datetime.now().strftime(\"%D-%H:%M:%S\")"
   ]
  },
  {
   "cell_type": "code",
   "execution_count": null,
   "metadata": {},
   "outputs": [],
   "source": []
  }
 ]
}