{
 "cells": [
  {
   "cell_type": "markdown",
   "metadata": {},
   "source": [
    "# Portfolio return analysis"
   ]
  },
  {
   "cell_type": "code",
   "execution_count": 1,
   "metadata": {},
   "outputs": [],
   "source": [
    "import sys\n",
    "sys.path.append('/Users/cheng/Google Drive/PhD/Research/Portfolio Selection via TBN/codes/')\n",
    "from module.strategy import Linear_shrink_tbn,\\\n",
    "                            Linear_shrink_ledoit,\\\n",
    "                            Nonlinear_shrink_ledoit,\\\n",
    "                            Shrink_0,\\\n",
    "                            Shrink_50,\\\n",
    "                            Shrink_100,\\\n",
    "                            Shrink_0_tbn,\\\n",
    "                            Shrink_50_tbn,\\\n",
    "                            Shrink_100_tbn\n",
    "from itertools import chain\n",
    "import nonlinshrink as nls\n",
    "from sklearn.covariance import LedoitWolf\n",
    "from sklearn.covariance import OAS\n",
    "from scipy.stats import moment\n",
    "import numpy as np\n",
    "import pandas as pd\n",
    "from module.backtesting_old import vectorized_backtesting\n",
    "from module.data_handler import data_handler\n",
    "import matplotlib.pyplot as plt\n",
    "import arch.data.frenchdata\n",
    "from arch.bootstrap import CircularBlockBootstrap\n",
    "from datetime import datetime"
   ]
  },
  {
   "cell_type": "markdown",
   "metadata": {},
   "source": [
    "## RL performance"
   ]
  },
  {
   "cell_type": "code",
   "execution_count": 7,
   "metadata": {},
   "outputs": [],
   "source": [
    "class shrink_fixed_alpha_identity(vectorized_backtesting):\n",
    "    '''\n",
    "    Shrink sample covariance matrix a fixed percent to identity matrix\n",
    "    '''\n",
    "    \n",
    "    def __init__(self):\n",
    "        super().__init__()\n",
    "        self.alpha_mapping = RL_identity_df['action']\n",
    "        self.stock_num = self.covariance_aggregate.shape[1]\n",
    "\n",
    "    def get_portfolio(self, year):\n",
    "        sample_covariance_matrix = self.stocks_returns_aggregate.loc[year-1: year - 1].cov()\n",
    "        covariance_shrunk = self.get_shrank_cov(covariance_matrix=sample_covariance_matrix.values,\\\n",
    "                                                shrink_target=np.identity(self.stock_num),\\\n",
    "                                                a=self.alpha_mapping[year])\n",
    "        portfolio = self.get_GMVP(covariance_matrix = covariance_shrunk)\n",
    "        \n",
    "        return portfolio"
   ]
  },
  {
   "cell_type": "code",
   "execution_count": 9,
   "metadata": {},
   "outputs": [],
   "source": [
    "class shrink_fixed_alpha_tbn(vectorized_backtesting):\n",
    "    '''\n",
    "    Shrink sample covariance matrix a fixed percent to TBN\n",
    "    '''\n",
    "    def __init__(self):\n",
    "        super().__init__()\n",
    "        self.alpha_mapping = dqn_perfromance_df['action']\n",
    "\n",
    "    def get_portfolio(self, year):\n",
    "        covariance_shrunk = self.get_shrank_cov(correlation_matrix=self.correlation_aggregate.loc[year - 1].values,\\\n",
    "                                                shrink_target=self.tbn_combined.loc[year - 1].values,\\\n",
    "                                                volatility_vector=self.volatility_aggregate.loc[year - 1].values,\n",
    "                                                a=self.alpha_mapping[year])\n",
    "        portfolio = self.get_GMVP(covariance_matrix = covariance_shrunk)\n",
    "        return portfolio"
   ]
  },
  {
   "cell_type": "code",
   "execution_count": 12,
   "metadata": {},
   "outputs": [],
   "source": [
    "# RL on TBN\n",
    "year_range = np.arange(2001, 2017+1)\n",
    "file_path = '/Users/cheng/Google Drive/PhD/Research/Portfolio Selection via TBN/output/table/DQN_performance.csv'\n",
    "dqn_perfromance_df = pd.read_csv(file_path, header=0)\n",
    "rl_alpha_list = dqn_perfromance_df['action']\n",
    "dqn_perfromance_df.index = year_range"
   ]
  },
  {
   "cell_type": "code",
   "execution_count": 28,
   "metadata": {},
   "outputs": [],
   "source": [
    "rl_agent_list = [shrink_fixed_alpha_tbn() for _ in year_range]\n",
    "rl_return_list = [strategy.get_portfolio_daily_return(start=year, end=year) for strategy, year in zip(rl_agent_list, year_range)]\n",
    "rl_SR_list = [strategy.get_sharpe_ratio() for strategy in rl_agent_list]\n",
    "rl_date_list = [strategy.stock_date[strategy.stock_date.slice_indexer(start=str(year),end=str(year))] for strategy, year in zip(rl_agent_list, year_range)]"
   ]
  },
  {
   "cell_type": "code",
   "execution_count": 13,
   "metadata": {},
   "outputs": [],
   "source": [
    "# RL on identity matrix\n",
    "year_range = np.arange(2001, 2017+1)\n",
    "file_path = '/Users/cheng/Google Drive/PhD/Research/Portfolio Selection via TBN/output/data/RL_identity_ts.csv'\n",
    "RL_identity_df = pd.read_csv(file_path, header=0)\n",
    "rl_alpha_list = RL_identity_df['action']\n",
    "RL_identity_df.index = year_range"
   ]
  },
  {
   "cell_type": "code",
   "execution_count": 64,
   "metadata": {},
   "outputs": [],
   "source": [
    "RL_identity_agent_list = [shrink_fixed_alpha_identity() for _ in year_range]\n",
    "RL_identity_return_list = [strategy.get_portfolio_daily_return(start=year, end=year) for strategy, year in zip(RL_identity_agent_list, year_range)]\n",
    "RL_identity_SR_list = [strategy.get_sharpe_ratio() for strategy in RL_identity_agent_list]"
   ]
  },
  {
   "cell_type": "markdown",
   "metadata": {},
   "source": [
    "## Benchmark performance"
   ]
  },
  {
   "cell_type": "code",
   "execution_count": 10,
   "metadata": {},
   "outputs": [],
   "source": [
    "class Linear_shrink_ledoit_new(vectorized_backtesting):\n",
    "    '''\n",
    "    Linear shrinkage method(ledoit) that shrink to identity matrix\n",
    "    '''\n",
    "    def get_portfolio(self, year):\n",
    "        covariance_shrunk = LedoitWolf().fit(self.stocks_returns_aggregate.loc[(year - 5):(year - 1)]).covariance_\n",
    "        portfolio = self.get_GMVP(covariance_matrix=  covariance_shrunk)\n",
    "        return portfolio"
   ]
  },
  {
   "cell_type": "code",
   "execution_count": 8,
   "metadata": {},
   "outputs": [],
   "source": [
    "# Linear identity\n",
    "year_range = np.arange(2001, 2017+1)\n",
    "agent_list = [Linear_shrink_ledoit_new() for _ in year_range]\n",
    "Linear_shrink_ledoit_return_list = [strategy.get_portfolio_daily_return(start=year, end=year) for strategy, year in zip(agent_list, year_range)]\n",
    "Linear_shrink_ledoit_sr_list = [strategy.get_sharpe_ratio() for strategy in agent_list]\n",
    "Linear_shrink_ledoit_date_list = [strategy.stock_date[strategy.stock_date.slice_indexer(start=str(year),end=str(year))] for strategy, year in zip(agent_list, year_range)]"
   ]
  },
  {
   "cell_type": "code",
   "execution_count": 18,
   "metadata": {},
   "outputs": [],
   "source": [
    "# Non Linear identity\n",
    "year_range = np.arange(2001, 2017+1)\n",
    "agent_list = [Nonlinear_shrink_ledoit() for _ in year_range]\n",
    "Nonlinear_shrink_ledoit_return_list = [strategy.get_portfolio_daily_return(start=year, end=year) for strategy, year in zip(agent_list, year_range)]\n",
    "Nonlinear_shrink_ledoit_sr_list = [strategy.get_sharpe_ratio() for strategy in agent_list]\n",
    "Nonlinear_shrink_ledoit_date_list = [strategy.stock_date[strategy.stock_date.slice_indexer(start=str(year),end=str(year))] for strategy, year in zip(agent_list, year_range)]"
   ]
  },
  {
   "cell_type": "code",
   "execution_count": 22,
   "metadata": {},
   "outputs": [],
   "source": [
    "# Linear TBN\n",
    "year_range = np.arange(2001, 2017+1)\n",
    "agent_list = [Linear_shrink_tbn() for _ in year_range]\n",
    "Linear_shrink_tbn_return_list = [strategy.get_portfolio_daily_return(start=year, end=year) for strategy, year in zip(agent_list, year_range)]\n",
    "Linear_shrink_tbn_sr_list = [strategy.get_sharpe_ratio() for strategy in agent_list]\n",
    "Linear_shrink_tbn_date_list = [strategy.stock_date[strategy.stock_date.slice_indexer(start=str(year),end=str(year))] for strategy, year in zip(agent_list, year_range)]"
   ]
  },
  {
   "cell_type": "code",
   "execution_count": 11,
   "metadata": {},
   "outputs": [],
   "source": [
    "# 0 pct identity\n",
    "year_range = np.arange(2001, 2017+1)\n",
    "agent_list = [Shrink_0() for _ in year_range]\n",
    "Shrink_0_return_list = [strategy.get_portfolio_daily_return(start=year, end=year) for strategy, year in zip(agent_list, year_range)]\n",
    "Shrink_0_sr_list = [strategy.get_sharpe_ratio() for strategy in agent_list]\n",
    "Shrink_0_date_list = [strategy.stock_date[strategy.stock_date.slice_indexer(start=str(year),end=str(year))] for strategy, year in zip(agent_list, year_range)]\n"
   ]
  },
  {
   "cell_type": "code",
   "execution_count": 2,
   "metadata": {},
   "outputs": [],
   "source": [
    "# 50 pct identity\n",
    "year_range = np.arange(2001, 2017+1)\n",
    "agent_list = [Shrink_50() for _ in year_range]\n",
    "Shrink_50_return_list = [strategy.get_portfolio_daily_return(start=year, end=year) for strategy, year in zip(agent_list, year_range)]\n",
    "Shrink_50_sr_list = [strategy.get_sharpe_ratio() for strategy in agent_list]\n",
    "Shrink_50_date_list = [strategy.stock_date[strategy.stock_date.slice_indexer(start=str(year),end=str(year))] for strategy, year in zip(agent_list, year_range)]\n"
   ]
  },
  {
   "cell_type": "code",
   "execution_count": 3,
   "metadata": {},
   "outputs": [],
   "source": [
    "# 100 pct identity\n",
    "year_range = np.arange(2001, 2017+1)\n",
    "agent_list = [Shrink_100() for _ in year_range]\n",
    "Shrink_100_return_list = [strategy.get_portfolio_daily_return(start=year, end=year) for strategy, year in zip(agent_list, year_range)]\n",
    "Shrink_100_sr_list = [strategy.get_sharpe_ratio() for strategy in agent_list]\n",
    "Shrink_100_date_list = [strategy.stock_date[strategy.stock_date.slice_indexer(start=str(year),end=str(year))] for strategy, year in zip(agent_list, year_range)]\n"
   ]
  },
  {
   "cell_type": "code",
   "execution_count": 8,
   "metadata": {},
   "outputs": [],
   "source": [
    "# 0 pct TBN\n",
    "year_range = np.arange(2001, 2017+1)\n",
    "agent_list = [Shrink_0_tbn() for _ in year_range]\n",
    "Shrink_0_tbn_return_list = [strategy.get_portfolio_daily_return(start=year, end=year) for strategy, year in zip(agent_list, year_range)]\n",
    "Shrink_0_tbn_sr_list = [strategy.get_sharpe_ratio() for strategy in agent_list]\n",
    "Shrink_0_tbn_date_list = [strategy.stock_date[strategy.stock_date.slice_indexer(start=str(year),end=str(year))] for strategy, year in zip(agent_list, year_range)]\n"
   ]
  },
  {
   "cell_type": "code",
   "execution_count": 14,
   "metadata": {},
   "outputs": [],
   "source": [
    "# 50 pct identity\n",
    "year_range = np.arange(2001, 2017+1)\n",
    "agent_list = [Shrink_50_tbn() for _ in year_range]\n",
    "Shrink_50_tbn_return_list = [strategy.get_portfolio_daily_return(start=year, end=year) for strategy, year in zip(agent_list, year_range)]\n",
    "Shrink_50_tbn_sr_list = [strategy.get_sharpe_ratio() for strategy in agent_list]\n",
    "Shrink_50_tbn_date_list = [strategy.stock_date[strategy.stock_date.slice_indexer(start=str(year),end=str(year))] for strategy, year in zip(agent_list, year_range)]\n"
   ]
  },
  {
   "cell_type": "code",
   "execution_count": 16,
   "metadata": {},
   "outputs": [],
   "source": [
    "# 100 pct identity\n",
    "year_range = np.arange(2001, 2017+1)\n",
    "agent_list = [Shrink_100_tbn() for _ in year_range]\n",
    "Shrink_100_tbn_return_list = [strategy.get_portfolio_daily_return(start=year, end=year) for strategy, year in zip(agent_list, year_range)]\n",
    "Shrink_100_tbn_sr_list = [strategy.get_sharpe_ratio() for strategy in agent_list]\n",
    "Shrink_100_tbn_date_list = [strategy.stock_date[strategy.stock_date.slice_indexer(start=str(year),end=str(year))] for strategy, year in zip(agent_list, year_range)]\n"
   ]
  },
  {
   "cell_type": "markdown",
   "metadata": {},
   "source": [
    "# Aggregation"
   ]
  },
  {
   "cell_type": "code",
   "execution_count": 69,
   "metadata": {},
   "outputs": [],
   "source": [
    "return_time_series_dict = {'0_pct_identity': np.hstack(Shrink_0_return_list),\n",
    "                           '50_pct_identity': np.hstack(Shrink_50_return_list),\n",
    "                           '100_pct_identity': np.hstack(Shrink_100_return_list),\n",
    "                           '0_pct_TBN':np.hstack(Shrink_0_tbn_return_list),\n",
    "                           '50_pct_TBN':np.hstack(Shrink_50_tbn_return_list),\n",
    "                           '100_pct_TBN':np.hstack(Shrink_100_tbn_return_list),\n",
    "                           'Ledoit_linear_identity':np.hstack(Linear_shrink_ledoit_return_list),\n",
    "                           'Ledoit_nonlinear_identity':np.hstack(Nonlinear_shrink_ledoit_return_list),\n",
    "                           'Ledoit_linear_TBN':np.hstack(Linear_shrink_tbn_return_list),\n",
    "                           'RL_TBN':np.hstack(rl_return_list),\n",
    "                           'RL_identity':np.hstack(RL_identity_return_list)\n",
    "}\n",
    "return_time_series_df = pd.DataFrame(return_time_series_dict, index=return_date_series)"
   ]
  },
  {
   "cell_type": "code",
   "execution_count": 71,
   "metadata": {},
   "outputs": [],
   "source": [
    "return_time_series_df.to_csv('/Users/cheng/Google Drive/PhD/Research/Portfolio Selection via TBN/output/data/strategies_return_ts.csv')"
   ]
  },
  {
   "cell_type": "code",
   "execution_count": 73,
   "metadata": {},
   "outputs": [],
   "source": [
    "SR_dict = {'0_pct_identity': np.mean(Shrink_0_sr_list),\n",
    "            '50_pct_identity': np.mean(Shrink_50_sr_list),\n",
    "            '100_pct_identity': np.mean(Shrink_100_sr_list),\n",
    "            '0_pct_TBN':np.mean(Shrink_0_tbn_sr_list),\n",
    "            '50_pct_TBN':np.mean(Shrink_50_tbn_sr_list),\n",
    "            '100_pct_TBN':np.mean(Shrink_100_tbn_sr_list),\n",
    "            'Ledoit_linear_identity':np.mean(Linear_shrink_ledoit_sr_list),\n",
    "            'Ledoit_nonlinear_identity':np.mean(Nonlinear_shrink_ledoit_sr_list),\n",
    "            'Ledoit_linear_TBN':np.mean(Linear_shrink_tbn_sr_list),\n",
    "            'RL_TBN':np.mean(rl_SR_list),\n",
    "            'RL_identity':np.mean(RL_identity_SR_list)\n",
    "}\n",
    "SR_df = pd.DataFrame(SR_dict, index=['SR'])"
   ]
  },
  {
   "cell_type": "code",
   "execution_count": 23,
   "metadata": {},
   "outputs": [],
   "source": [
    "SR_dict = {'0_pct_identity': 0.577854,\n",
    "            '50_pct_identity': 0.915915,\n",
    "            '100_pct_identity': 0.934393,\n",
    "            '0_pct_TBN': 0.577854,\n",
    "            '50_pct_TBN': 0.706204,\n",
    "            '100_pct_TBN': 0.806761,\n",
    "            'Ledoit_linear_identity': 0.622106,\n",
    "            'Ledoit_nonlinear_identity': 0.593815,\n",
    "            'Ledoit_linear_TBN': 0.598130,\n",
    "            'RL_TBN': 0.706204,\n",
    "            'RL_identity': 0.864733\n",
    "}\n",
    "SR_df = pd.DataFrame(SR_dict, index=['SR'])"
   ]
  },
  {
   "cell_type": "code",
   "execution_count": 36,
   "metadata": {},
   "outputs": [],
   "source": [
    "TO_dict = {'0_pct_identity': 0.845,\n",
    "            '50_pct_identity': 0.067,\n",
    "            '100_pct_identity': 0.000,\n",
    "            '0_pct_TBN': 0.845,\n",
    "            '50_pct_TBN': 0.410,\n",
    "            '100_pct_TBN': 0.167,\n",
    "            'Ledoit_linear_identity': 0.726,\n",
    "            'Ledoit_nonlinear_identity': 0.717,\n",
    "            'Ledoit_linear_TBN': 0.770,\n",
    "            'RL_TBN': 0.485,\n",
    "            'RL_identity': 0.294\n",
    "}\n",
    "TO_vec = pd.Series(TO_dict)\n",
    "SR_vec = SR_df.squeeze()"
   ]
  },
  {
   "cell_type": "code",
   "execution_count": 36,
   "metadata": {},
   "outputs": [],
   "source": [
    "SR_df.T.to_latex('/Users/cheng/Google Drive/PhD/Research/Portfolio Selection via TBN/output/new_sr_table.tex', float_format=\"%.5f\")"
   ]
  },
  {
   "cell_type": "markdown",
   "metadata": {},
   "source": [
    "# Statistical Test\n",
    "## Two sample T-test"
   ]
  },
  {
   "cell_type": "code",
   "execution_count": 6,
   "metadata": {},
   "outputs": [],
   "source": [
    "from scipy import stats as st\n",
    "\n",
    "portf_ret_ts = pd.read_csv('/Users/cheng/Google Drive/PhD/Research/Portfolio Selection via TBN/output/strategies_return_ts.csv',\n",
    "                        index_col=0,\n",
    "                        parse_dates=True)"
   ]
  },
  {
   "cell_type": "code",
   "execution_count": 29,
   "metadata": {},
   "outputs": [],
   "source": [
    "t_test_dict = {'0_pct_identity': [st.ttest_ind(a = portf_ret_ts['0_pct_identity'], b = coldata).pvalue for (colname, coldata) in portf_ret_ts.iteritems()],\n",
    "            'Ledoit_linear_identity': [st.ttest_ind(a = portf_ret_ts['Ledoit_linear_identity'], b = coldata).pvalue for (colname, coldata) in portf_ret_ts.iteritems()],\n",
    "            'Ledoit_linear_TBN': [st.ttest_ind(a = portf_ret_ts['Ledoit_linear_TBN'], b = coldata).pvalue for (colname, coldata) in portf_ret_ts.iteritems()]\n",
    "}\n",
    "t_test_df = pd.DataFrame(t_test_dict, index=['0_pct_identity', '50_pct_identity', '100_pct_identity', '0_pct_TBN', '50_pct_TBN', '100_pct_TBN', 'Ledoit_linear_identity', 'Ledoit_nonlinear_identity', 'Ledoit_linear_TBN', 'RL_TBN', 'RL_identity'])"
   ]
  },
  {
   "cell_type": "code",
   "execution_count": 30,
   "metadata": {},
   "outputs": [
    {
     "data": {
      "text/html": [
       "<div>\n",
       "<style scoped>\n",
       "    .dataframe tbody tr th:only-of-type {\n",
       "        vertical-align: middle;\n",
       "    }\n",
       "\n",
       "    .dataframe tbody tr th {\n",
       "        vertical-align: top;\n",
       "    }\n",
       "\n",
       "    .dataframe thead th {\n",
       "        text-align: right;\n",
       "    }\n",
       "</style>\n",
       "<table border=\"1\" class=\"dataframe\">\n",
       "  <thead>\n",
       "    <tr style=\"text-align: right;\">\n",
       "      <th></th>\n",
       "      <th>0_pct_identity</th>\n",
       "      <th>Ledoit_linear_identity</th>\n",
       "      <th>Ledoit_linear_TBN</th>\n",
       "    </tr>\n",
       "  </thead>\n",
       "  <tbody>\n",
       "    <tr>\n",
       "      <th>0_pct_identity</th>\n",
       "      <td>1.000000</td>\n",
       "      <td>0.964104</td>\n",
       "      <td>0.995637</td>\n",
       "    </tr>\n",
       "    <tr>\n",
       "      <th>50_pct_identity</th>\n",
       "      <td>0.541757</td>\n",
       "      <td>0.567800</td>\n",
       "      <td>0.536623</td>\n",
       "    </tr>\n",
       "    <tr>\n",
       "      <th>100_pct_identity</th>\n",
       "      <td>0.460398</td>\n",
       "      <td>0.483250</td>\n",
       "      <td>0.455583</td>\n",
       "    </tr>\n",
       "    <tr>\n",
       "      <th>0_pct_TBN</th>\n",
       "      <td>1.000000</td>\n",
       "      <td>0.964104</td>\n",
       "      <td>0.995637</td>\n",
       "    </tr>\n",
       "    <tr>\n",
       "      <th>50_pct_TBN</th>\n",
       "      <td>0.941173</td>\n",
       "      <td>0.977062</td>\n",
       "      <td>0.936469</td>\n",
       "    </tr>\n",
       "    <tr>\n",
       "      <th>100_pct_TBN</th>\n",
       "      <td>0.715984</td>\n",
       "      <td>0.746943</td>\n",
       "      <td>0.710814</td>\n",
       "    </tr>\n",
       "    <tr>\n",
       "      <th>Ledoit_linear_identity</th>\n",
       "      <td>0.964104</td>\n",
       "      <td>1.000000</td>\n",
       "      <td>0.959534</td>\n",
       "    </tr>\n",
       "    <tr>\n",
       "      <th>Ledoit_nonlinear_identity</th>\n",
       "      <td>0.980487</td>\n",
       "      <td>0.944352</td>\n",
       "      <td>0.984766</td>\n",
       "    </tr>\n",
       "    <tr>\n",
       "      <th>Ledoit_linear_TBN</th>\n",
       "      <td>0.995637</td>\n",
       "      <td>0.959534</td>\n",
       "      <td>1.000000</td>\n",
       "    </tr>\n",
       "    <tr>\n",
       "      <th>RL_TBN</th>\n",
       "      <td>0.941173</td>\n",
       "      <td>0.977062</td>\n",
       "      <td>0.936469</td>\n",
       "    </tr>\n",
       "    <tr>\n",
       "      <th>RL_identity</th>\n",
       "      <td>0.542047</td>\n",
       "      <td>0.567504</td>\n",
       "      <td>0.537079</td>\n",
       "    </tr>\n",
       "  </tbody>\n",
       "</table>\n",
       "</div>"
      ],
      "text/plain": [
       "                           0_pct_identity  Ledoit_linear_identity  \\\n",
       "0_pct_identity                   1.000000                0.964104   \n",
       "50_pct_identity                  0.541757                0.567800   \n",
       "100_pct_identity                 0.460398                0.483250   \n",
       "0_pct_TBN                        1.000000                0.964104   \n",
       "50_pct_TBN                       0.941173                0.977062   \n",
       "100_pct_TBN                      0.715984                0.746943   \n",
       "Ledoit_linear_identity           0.964104                1.000000   \n",
       "Ledoit_nonlinear_identity        0.980487                0.944352   \n",
       "Ledoit_linear_TBN                0.995637                0.959534   \n",
       "RL_TBN                           0.941173                0.977062   \n",
       "RL_identity                      0.542047                0.567504   \n",
       "\n",
       "                           Ledoit_linear_TBN  \n",
       "0_pct_identity                      0.995637  \n",
       "50_pct_identity                     0.536623  \n",
       "100_pct_identity                    0.455583  \n",
       "0_pct_TBN                           0.995637  \n",
       "50_pct_TBN                          0.936469  \n",
       "100_pct_TBN                         0.710814  \n",
       "Ledoit_linear_identity              0.959534  \n",
       "Ledoit_nonlinear_identity           0.984766  \n",
       "Ledoit_linear_TBN                   1.000000  \n",
       "RL_TBN                              0.936469  \n",
       "RL_identity                         0.537079  "
      ]
     },
     "execution_count": 30,
     "metadata": {},
     "output_type": "execute_result"
    }
   ],
   "source": [
    "t_test_df"
   ]
  },
  {
   "cell_type": "code",
   "execution_count": 33,
   "metadata": {},
   "outputs": [],
   "source": [
    "t_test_df.to_latex('/Users/cheng/Google Drive/PhD/Research/Portfolio Selection via TBN/output/t_test.tex', float_format=\"%.3f\")"
   ]
  },
  {
   "cell_type": "markdown",
   "metadata": {},
   "source": [
    "## Bootstrap inference for Sharpe ratio"
   ]
  },
  {
   "cell_type": "markdown",
   "metadata": {},
   "source": [
    "### data "
   ]
  },
  {
   "cell_type": "code",
   "execution_count": 2,
   "metadata": {},
   "outputs": [],
   "source": [
    "from datetime import datetime\n",
    "\n",
    "file = '/Users/cheng/Google Drive/PhD/Research/Portfolio Selection via TBN/output/strategies_return_ts.csv'\n",
    "portfolio_return_df = pd.read_csv(file, index_col=0, parse_dates=True)\n",
    "\n",
    "file_path = '/Users/cheng/Google Drive/PhD/Research/Portfolio Selection via TBN/data/Data/F-F_Research_Data_Factors_daily.csv'\n",
    "date_format = '%Y%m%d' # Y for year, m for month, d for day\n",
    "rf = pd.read_csv(file_path,  header=0, usecols=[0, 4], index_col=[0], engine='c').dropna()\n",
    "rf_date = pd.Index([datetime.strptime(str(x), date_format) for x in rf.index]) # convert index to date object\n",
    "rf.index = rf_date\n",
    "\n",
    "subset_index = portfolio_return_df.index\n",
    "rf = rf.loc[subset_index]\n",
    "\n",
    "rf = rf / 100\n",
    "portfolio_excess_return_df = portfolio_return_df - rf.values"
   ]
  },
  {
   "cell_type": "code",
   "execution_count": null,
   "metadata": {},
   "outputs": [],
   "source": [
    "r_i = portfolio_excess_return_df.values[:,0]\n",
    "r_n = np.hstack(rf.values)"
   ]
  },
  {
   "cell_type": "markdown",
   "metadata": {},
   "source": [
    "### Bootstrap block"
   ]
  },
  {
   "cell_type": "code",
   "execution_count": 127,
   "metadata": {},
   "outputs": [],
   "source": [
    "\n",
    "import numpy as np\n",
    "import pandas as pd\n",
    "entropy = [877788388, 418255226, 989657335, 69307515]\n",
    "seed = np.random.default_rng(entropy)\n",
    "bs = CircularBlockBootstrap(10, np.arange(100), seed=seed)\n",
    "results = bs.apply(sharpe_ratio, 2)\n"
   ]
  },
  {
   "cell_type": "code",
   "execution_count": 126,
   "metadata": {},
   "outputs": [
    {
     "data": {
      "text/plain": [
       "mu       452.400000\n",
       "sigma     83.355384\n",
       "SR         5.427364\n",
       "dtype: float64"
      ]
     },
     "execution_count": 126,
     "metadata": {},
     "output_type": "execute_result"
    }
   ],
   "source": [
    "sharpe_ratio(bs.pos_data[0])"
   ]
  },
  {
   "cell_type": "markdown",
   "metadata": {},
   "source": [
    "### Compute  $\\hat{\\Psi}^{*}$\n",
    "\n",
    "\\begin{align}\n",
    "    \\hat{\\Psi}^{*}&=\\frac{1}{l} \\sum_{j=1}^{l} \\zeta_{j} \\zeta_{j}^{\\prime}\\\\\n",
    "\\zeta_{j}&=\\frac{1}{\\sqrt{b}} \\sum_{t=1}^{b} y_{(j-1) b+t}^{*} \\quad t=1, \\ldots, l\\\\\n",
    "y_{t}^{*}&=\\left(r_{t i}^{*}-\\hat{\\mu}_{i}^{*}, r_{t n}^{*}-\\hat{\\mu}_{n}^{*}, r_{t i}^{* 2}-\\hat{\\gamma}_{i}^{*}, r_{t n}^{* 2}-\\hat{\\gamma}_{n}^{*}\\right) \\quad t=1, \\ldots, T\n",
    "\\end{align}\n",
    "\n",
    "where $\\gamma_{i}=E\\left(r_{1 i}^{2}\\right) \\text { and } \\gamma_{n}=E\\left(r_{1 n}^{2}\\right)$."
   ]
  },
  {
   "cell_type": "code",
   "execution_count": 78,
   "metadata": {},
   "outputs": [],
   "source": [
    "def get_y(r_i: np.array, r_n: np.array) -> np.array:\n",
    "    r_i_square = r_i ** 2\n",
    "    r_n_square = r_n ** 2\n",
    "    mu_i = np.mean(r_i)\n",
    "    mu_n = np.mean(r_n)\n",
    "    gamma_i = np.mean(r_i_square)\n",
    "    gamma_n = np.mean(r_n_square)\n",
    "    y = np.array([r_i - mu_i, r_n - mu_n, r_i_square - gamma_i, r_n_square - gamma_n])\n",
    "\n",
    "    return y"
   ]
  },
  {
   "cell_type": "code",
   "execution_count": 180,
   "metadata": {},
   "outputs": [],
   "source": [
    "def get_zeta_j(y:np.array, b:int) -> np.array:\n",
    "    zeta = np.sum(y, axis=1) / np.sqrt(b)\n",
    "\n",
    "    return zeta"
   ]
  },
  {
   "cell_type": "code",
   "execution_count": 99,
   "metadata": {},
   "outputs": [],
   "source": [
    "def get_phi_j(zeta:np.array) -> float:\n",
    "    phi_j = zeta @ zeta\n",
    "\n",
    "    return phi_j"
   ]
  },
  {
   "cell_type": "code",
   "execution_count": 192,
   "metadata": {},
   "outputs": [],
   "source": [
    "def get_phi(r_i, r_n, b) -> float:\n",
    "    n = r_n.size\n",
    "    l = n // b\n",
    "    block_start_index = np.arange(start=0, stop=n, step=b)\n",
    "    block_index_list = [np.arange(i, i+b) for i in block_start_index]\n",
    "    del block_index_list[-1]\n",
    "    y_block_list = [get_y(r_i[i], r_n[i]) for i in block_index_list]\n",
    "    zeta_block_list = [get_zeta_j(y,b) for y in y_block_list]\n",
    "    phi_list = [get_phi_j(zeta) for zeta in zeta_block_list]\n",
    "    phi = np.mean(phi_list)\n",
    "\n",
    "    return phi"
   ]
  },
  {
   "cell_type": "code",
   "execution_count": 237,
   "metadata": {},
   "outputs": [
    {
     "data": {
      "text/plain": [
       "2.8163610082825917e-36"
      ]
     },
     "execution_count": 237,
     "metadata": {},
     "output_type": "execute_result"
    }
   ],
   "source": [
    "get_phi(rt_1, rt_2, 10)\n"
   ]
  },
  {
   "cell_type": "markdown",
   "metadata": {},
   "source": [
    "The value of calculated $\\hat{\\Psi}^{*}$ is near 0. So I will skip the calculation of $s\\left(\\hat{\\Delta}^{*}\\right)$, where $\\hat{\\Psi}^{*}$ is in the numerator."
   ]
  },
  {
   "cell_type": "markdown",
   "metadata": {},
   "source": [
    "### $\\hat{\\Delta}$\n",
    "\\begin{equation}\n",
    "\\widehat{\\Delta}=\\widehat{\\mathrm{SR}}_{i}-\\widehat{\\mathrm{SR}}_{n}=\\frac{\\hat{\\mu}_{i}}{\\hat{\\sigma}_{i}}-\\frac{\\hat{\\mu}_{n}}{\\hat{\\sigma_{n}}}\n",
    "\\end{equation}"
   ]
  },
  {
   "cell_type": "code",
   "execution_count": 196,
   "metadata": {},
   "outputs": [],
   "source": [
    "def get_delta(rt_1, rt_2):\n",
    "    sr_1 = np.mean(rt_1) / np.std(rt_1)\n",
    "    sr_2 = np.mean(rt_2) / np.std(rt_2)\n",
    "    delta = sr_1 - sr_2\n",
    "    return delta\n",
    "    "
   ]
  },
  {
   "cell_type": "code",
   "execution_count": 202,
   "metadata": {},
   "outputs": [
    {
     "data": {
      "text/plain": [
       "-0.7783080816691288"
      ]
     },
     "execution_count": 202,
     "metadata": {},
     "output_type": "execute_result"
    }
   ],
   "source": [
    "get_delta(r_i,r_n)"
   ]
  },
  {
   "cell_type": "markdown",
   "metadata": {},
   "source": [
    "### $d^{*,m}$\n",
    "\n",
    "\\begin{equation}\n",
    "\\tilde{d}^{*, m}=\\frac{\\left|\\hat{\\Delta}^{*, m}-\\hat{\\Delta}\\right|}{s\\left(\\hat{\\Delta}^{*, m}\\right)}\n",
    "\\end{equation}"
   ]
  },
  {
   "cell_type": "code",
   "execution_count": 217,
   "metadata": {},
   "outputs": [],
   "source": [
    "rt_1 = portfolio_excess_return_df.values[:,0]\n",
    "rt_2 = portfolio_excess_return_df.values[:,1]"
   ]
  },
  {
   "cell_type": "code",
   "execution_count": 224,
   "metadata": {},
   "outputs": [],
   "source": [
    "def get_d_m_list(rt_1, rt_2):\n",
    "\n",
    "    b = 10\n",
    "    n = rt_1.size\n",
    "\n",
    "    block_start_index = np.arange(start=0, stop=n, step=b)\n",
    "    block_index_list = [np.arange(i, i+b) for i in block_start_index]\n",
    "    del block_index_list[-1]\n",
    "    delta = get_delta(r_i, r_n)\n",
    "    delta_m_list = [get_delta(rt_1[i], rt_2[i]) for i in block_index_list]\n",
    "    delta_m_diff_list = np.abs(delta - delta_m_list)\n",
    "    d_m_list = delta_m_diff_list / np.std(delta_m_list)\n",
    "\n",
    "    return d_m_list\n"
   ]
  },
  {
   "cell_type": "code",
   "execution_count": 232,
   "metadata": {},
   "outputs": [],
   "source": [
    "bs = CircularBlockBootstrap(10, rt_1, rt_2, seed=seed)\n",
    "results = bs.apply(get_d_m_list, 100)"
   ]
  },
  {
   "cell_type": "code",
   "execution_count": 236,
   "metadata": {},
   "outputs": [
    {
     "data": {
      "text/plain": [
       "array([[2.68103533, 3.55689831, 3.14940214, ..., 4.79099947, 3.273264  ,\n",
       "        3.03255259],\n",
       "       [3.61524084, 0.24627539, 1.20024612, ..., 2.8896967 , 3.27634371,\n",
       "        1.79128312],\n",
       "       [2.45234194, 4.39511109, 2.40718295, ..., 1.97141571, 1.92277123,\n",
       "        1.9942893 ],\n",
       "       ...,\n",
       "       [2.40475933, 2.87732148, 2.75722012, ..., 2.63713268, 2.7822669 ,\n",
       "        2.6863875 ],\n",
       "       [4.61203696, 3.55787071, 3.57137107, ..., 5.17866151, 2.57372632,\n",
       "        2.5325478 ],\n",
       "       [3.68836635, 2.21475444, 2.19973685, ..., 3.33648567, 3.27704433,\n",
       "        1.67470935]])"
      ]
     },
     "execution_count": 236,
     "metadata": {},
     "output_type": "execute_result"
    }
   ],
   "source": [
    "results"
   ]
  },
  {
   "cell_type": "markdown",
   "metadata": {},
   "source": [
    "### p-value\n",
    "\n",
    "\\begin{equation}\n",
    "\\mathrm{PV}=\\frac{\\left\\{\\tilde{d}^{*, m} \\geq d\\right\\}+1}{M+1}\n",
    "\\end{equation}\n",
    "\n",
    "where $d=\\frac{|\\hat{\\Delta}|}{s(\\hat{\\Delta})}$ and $s(\\hat{\\Delta})=\\sqrt{\\frac{\\nabla^{\\prime} f(\\hat{v}) \\hat{\\Psi} \\nabla f(\\hat{\\mathcal{v}})}{T}}$"
   ]
  },
  {
   "cell_type": "code",
   "execution_count": null,
   "metadata": {},
   "outputs": [],
   "source": []
  },
  {
   "cell_type": "code",
   "execution_count": null,
   "metadata": {},
   "outputs": [],
   "source": []
  },
  {
   "cell_type": "code",
   "execution_count": null,
   "metadata": {},
   "outputs": [],
   "source": []
  },
  {
   "cell_type": "code",
   "execution_count": null,
   "metadata": {},
   "outputs": [],
   "source": []
  },
  {
   "cell_type": "code",
   "execution_count": null,
   "metadata": {},
   "outputs": [],
   "source": []
  },
  {
   "cell_type": "code",
   "execution_count": null,
   "metadata": {},
   "outputs": [],
   "source": []
  },
  {
   "cell_type": "code",
   "execution_count": null,
   "metadata": {},
   "outputs": [],
   "source": []
  },
  {
   "cell_type": "code",
   "execution_count": null,
   "metadata": {},
   "outputs": [],
   "source": []
  },
  {
   "cell_type": "code",
   "execution_count": null,
   "metadata": {},
   "outputs": [],
   "source": []
  },
  {
   "cell_type": "code",
   "execution_count": null,
   "metadata": {},
   "outputs": [],
   "source": []
  },
  {
   "cell_type": "code",
   "execution_count": null,
   "metadata": {},
   "outputs": [],
   "source": []
  },
  {
   "cell_type": "code",
   "execution_count": null,
   "metadata": {},
   "outputs": [],
   "source": []
  },
  {
   "cell_type": "code",
   "execution_count": null,
   "metadata": {},
   "outputs": [],
   "source": []
  },
  {
   "cell_type": "code",
   "execution_count": null,
   "metadata": {},
   "outputs": [],
   "source": []
  },
  {
   "cell_type": "code",
   "execution_count": null,
   "metadata": {},
   "outputs": [],
   "source": []
  },
  {
   "cell_type": "code",
   "execution_count": null,
   "metadata": {},
   "outputs": [],
   "source": []
  },
  {
   "cell_type": "markdown",
   "metadata": {},
   "source": [
    "## Bootstrap inference for Sharpe ratio (General approach)"
   ]
  },
  {
   "cell_type": "markdown",
   "metadata": {},
   "source": [
    "## data"
   ]
  },
  {
   "cell_type": "code",
   "execution_count": 75,
   "metadata": {},
   "outputs": [],
   "source": [
    "file = '/Users/cheng/Google Drive/PhD/Research/Portfolio Selection via TBN/output/strategies_return_ts.csv'\n",
    "portfolio_return_df = pd.read_csv(file, index_col=0, parse_dates=True)\n",
    "\n",
    "file_path = '/Users/cheng/Google Drive/PhD/Research/Portfolio Selection via TBN/data/Data/F-F_Research_Data_Factors_daily.csv'\n",
    "date_format = '%Y%m%d' # Y for year, m for month, d for day\n",
    "rf = pd.read_csv(file_path,  header=0, usecols=[0, 4], index_col=[0], engine='c').dropna()\n",
    "rf_date = pd.Index([datetime.strptime(str(x), date_format) for x in rf.index]) # convert index to date object\n",
    "rf.index = rf_date\n",
    "\n",
    "subset_index = portfolio_return_df.index\n",
    "rf = rf.loc[subset_index]\n",
    "\n",
    "rf = rf / 100\n",
    "portfolio_excess_return_df = portfolio_return_df - rf.values"
   ]
  },
  {
   "cell_type": "markdown",
   "metadata": {},
   "source": [
    "## function"
   ]
  },
  {
   "cell_type": "code",
   "execution_count": 49,
   "metadata": {},
   "outputs": [],
   "source": [
    "def get_delta(rt_1, rt_2):\n",
    "    sr_1 = np.mean(rt_1) / np.std(rt_1)\n",
    "    sr_2 = np.mean(rt_2) / np.std(rt_2)\n",
    "    delta = sr_1 - sr_2\n",
    "    return delta"
   ]
  },
  {
   "cell_type": "code",
   "execution_count": 50,
   "metadata": {},
   "outputs": [],
   "source": [
    "def get_p_value(bootstrap_distribution, estimation):\n",
    "    p = np.sum(np.abs(bootstrap_distribution) > np.abs(estimation))\\\n",
    "     / len(bootstrap_distribution)\n",
    "    return p"
   ]
  },
  {
   "cell_type": "code",
   "execution_count": 52,
   "metadata": {},
   "outputs": [],
   "source": [
    "def get_p_value_from(rt_1, rt_2):\n",
    "    entropy = [877788388, 418255226, 989657335, 69307515]\n",
    "    seed = np.random.default_rng(entropy)\n",
    "    bs = CircularBlockBootstrap(10, rt_1, rt_2, seed=seed)\n",
    "    delta_distribution = bs.apply(get_delta, 10000)\n",
    "    delta = get_delta(rt_1, rt_2)\n",
    "    p = get_p_value(delta_distribution, delta)\n",
    "\n",
    "    return p"
   ]
  },
  {
   "cell_type": "markdown",
   "metadata": {},
   "source": [
    "## Test"
   ]
  },
  {
   "cell_type": "code",
   "execution_count": 53,
   "metadata": {},
   "outputs": [
    {
     "data": {
      "text/plain": [
       "0.5551"
      ]
     },
     "execution_count": 53,
     "metadata": {},
     "output_type": "execute_result"
    }
   ],
   "source": [
    "rt_1 = portfolio_excess_return_df['50_pct_identity'].values\n",
    "rt_2 = portfolio_excess_return_df['0_pct_identity'].values\n",
    "get_p_value_from(rt_1, rt_2)"
   ]
  },
  {
   "cell_type": "markdown",
   "metadata": {},
   "source": [
    "## Result"
   ]
  },
  {
   "cell_type": "code",
   "execution_count": 16,
   "metadata": {},
   "outputs": [],
   "source": [
    "p_value_list = \\\n",
    "[[get_p_value_from(rt, benchmark_values) for _, rt in portfolio_excess_return_df.iteritems()] \\\n",
    "for _, benchmark_values in portfolio_excess_return_df.iteritems()]"
   ]
  },
  {
   "cell_type": "code",
   "execution_count": 12,
   "metadata": {},
   "outputs": [],
   "source": [
    "p_value_df = pd.DataFrame(p_value_list, index=portfolio_excess_return_df.columns, columns=portfolio_excess_return_df.columns)"
   ]
  },
  {
   "cell_type": "markdown",
   "metadata": {},
   "source": [
    "## Visualization"
   ]
  },
  {
   "cell_type": "code",
   "execution_count": 14,
   "metadata": {},
   "outputs": [
    {
     "data": {
      "image/png": "[encoded data removed]",
      "text/plain": [
       "<Figure size 1152x432 with 2 Axes>"
      ]
     },
     "metadata": {
      "needs_background": "light"
     },
     "output_type": "display_data"
    }
   ],
   "source": [
    "import seaborn as sns\n",
    "plt.figure(figsize=(16, 6))\n",
    "# define the mask to set the values in the upper triangle to True\n",
    "mask = np.triu(np.ones_like(p_value_df, dtype=bool))\n",
    "heatmap = sns.heatmap(p_value_df, mask=mask, vmin=-1, vmax=1, annot=True, cmap='coolwarm')"
   ]
  },
  {
   "cell_type": "markdown",
   "metadata": {},
   "source": [
    "## Output"
   ]
  },
  {
   "cell_type": "code",
   "execution_count": 15,
   "metadata": {},
   "outputs": [],
   "source": [
    "heatmap.figure.savefig('/Users/cheng/Google Drive/PhD/Research/Portfolio Selection via TBN/picture/SR_p_value_heat.png')"
   ]
  },
  {
   "cell_type": "code",
   "execution_count": 18,
   "metadata": {},
   "outputs": [],
   "source": [
    "p_value_df.to_latex('/Users/cheng/Google Drive/PhD/Research/Portfolio Selection via TBN/output/SR_p_value_heat.tex', float_format = \"%.3f\")"
   ]
  },
  {
   "cell_type": "markdown",
   "metadata": {},
   "source": [
    "# Portfolio Performance Matrices"
   ]
  },
  {
   "cell_type": "markdown",
   "metadata": {},
   "source": [
    "## Turnover\n",
    "\n"
   ]
  },
  {
   "cell_type": "code",
   "execution_count": 5,
   "metadata": {},
   "outputs": [],
   "source": [
    "def get_turnover_time_series_and_save_weight_df(strategy, strategy_name, write_csv = False):\n",
    "\n",
    "    year_range = np.arange(2001, 2017+1)\n",
    "    weight_list = [np.hstack(strategy.get_portfolio(year)) for year in year_range]\n",
    "    weight_df = pd.DataFrame(weight_list, index=year_range)\n",
    "    file_path = '/Users/cheng/Google Drive/PhD/Research/Portfolio Selection via TBN/output/' + strategy_name + '.csv'\n",
    "    if write_csv: weight_df.to_csv(file_path) \n",
    "    turnover_vector = weight_df.diff().abs().sum(axis=1)\n",
    "    turnover_vector.iloc[0,] = weight_df.iloc[0,].abs().sum() # modify the first year turnover\n",
    "\n",
    "    return turnover_vector"
   ]
  },
  {
   "cell_type": "code",
   "execution_count": 14,
   "metadata": {},
   "outputs": [],
   "source": [
    "agent_dict = {'Ledoit_linear_identity': Linear_shrink_ledoit(),\n",
    "            'Ledoit_nonlinear_identity': Nonlinear_shrink_ledoit(),\n",
    "            'Ledoit_linear_TBN': Linear_shrink_tbn(),\n",
    "            'RL_TBN': shrink_fixed_alpha_tbn(),\n",
    "            'RL_identity': shrink_fixed_alpha_identity()\n",
    "}"
   ]
  },
  {
   "cell_type": "code",
   "execution_count": 15,
   "metadata": {},
   "outputs": [],
   "source": [
    "turnover_list = [get_turnover_time_series_and_save_weight_df(strategy, strategy_name) for strategy_name, strategy in agent_dict.items()]\n",
    "turnover_df = pd.DataFrame(turnover_list, index=agent_dict.keys()).T"
   ]
  },
  {
   "cell_type": "markdown",
   "metadata": {},
   "source": [
    "differential portfolios"
   ]
  },
  {
   "cell_type": "code",
   "execution_count": 16,
   "metadata": {},
   "outputs": [],
   "source": [
    "file_1_path = '/Users/cheng/Google Drive/PhD/Research/Portfolio Selection via TBN/output/Ledoit_linear_identity.csv'\n",
    "file_2_path = '/Users/cheng/Google Drive/PhD/Research/Portfolio Selection via TBN/output/Ledoit_nonlinear_identity.csv'\n",
    "file_3_path = '/Users/cheng/Google Drive/PhD/Research/Portfolio Selection via TBN/output/RL_identity.csv'\n",
    "file_4_path = '/Users/cheng/Google Drive/PhD/Research/Portfolio Selection via TBN/output/Ledoit_linear_TBN.csv'\n",
    "file_5_path = '/Users/cheng/Google Drive/PhD/Research/Portfolio Selection via TBN/output/RL_TBN.csv'\n",
    "\n",
    "weight_1_df = pd.read_csv(file_1_path, index_col=0)\n",
    "weight_2_df = pd.read_csv(file_2_path, index_col=0)\n",
    "weight_3_df = pd.read_csv(file_3_path, index_col=0)\n",
    "weight_4_df = pd.read_csv(file_4_path, index_col=0)\n",
    "weight_5_df = pd.read_csv(file_5_path, index_col=0)\n",
    "\n",
    "weight_6_df = weight_3_df - weight_1_df\n",
    "weight_7_df = weight_3_df - weight_2_df\n",
    "weight_8_df = weight_5_df - weight_4_df\n",
    "\n",
    "weight_6_path = '/Users/cheng/Google Drive/PhD/Research/Portfolio Selection via TBN/output/' + 'RL_identity-Ledoit_linear_identity' + '.csv'\n",
    "weight_7_path = '/Users/cheng/Google Drive/PhD/Research/Portfolio Selection via TBN/output/' + 'RL_identity-Ledoit_nonlinear_identity' + '.csv'\n",
    "weight_8_path = '/Users/cheng/Google Drive/PhD/Research/Portfolio Selection via TBN/output/' + 'RL_TBN-Ledoit_linear_TBN' + '.csv'\n",
    "\n",
    "weight_6_df.to_csv(weight_6_path)\n",
    "weight_7_df.to_csv(weight_7_path)\n",
    "weight_8_df.to_csv(weight_8_path)\n",
    "\n",
    "turnover_vector_6 = weight_6_df.diff().abs().sum(axis=1)\n",
    "turnover_vector_7 = weight_7_df.diff().abs().sum(axis=1)\n",
    "turnover_vector_8 = weight_8_df.diff().abs().sum(axis=1)\n",
    "\n",
    "# modify the first year turnover\n",
    "turnover_vector_6.iloc[0,] = weight_6_df.iloc[0,].abs().sum()\n",
    "turnover_vector_7.iloc[0,] = weight_7_df.iloc[0,].abs().sum()\n",
    "turnover_vector_8.iloc[0,] = weight_8_df.iloc[0,].abs().sum()\n",
    "\n",
    "# combine 'diff' strategies to dataframe\n",
    "turnover_df['RL_identity-Ledoit_linear_identity'] = turnover_vector_6\n",
    "turnover_df['RL_identity-Ledoit_nonlinear_identity'] = turnover_vector_7\n",
    "turnover_df['RL_TBN-Ledoit_linear_TBN'] = turnover_vector_8"
   ]
  },
  {
   "cell_type": "code",
   "execution_count": 17,
   "metadata": {},
   "outputs": [
    {
     "data": {
      "text/html": [
       "<div>\n",
       "<style scoped>\n",
       "    .dataframe tbody tr th:only-of-type {\n",
       "        vertical-align: middle;\n",
       "    }\n",
       "\n",
       "    .dataframe tbody tr th {\n",
       "        vertical-align: top;\n",
       "    }\n",
       "\n",
       "    .dataframe thead th {\n",
       "        text-align: right;\n",
       "    }\n",
       "</style>\n",
       "<table border=\"1\" class=\"dataframe\">\n",
       "  <thead>\n",
       "    <tr style=\"text-align: right;\">\n",
       "      <th></th>\n",
       "      <th>Ledoit_linear_identity</th>\n",
       "      <th>Ledoit_nonlinear_identity</th>\n",
       "      <th>Ledoit_linear_TBN</th>\n",
       "      <th>RL_TBN</th>\n",
       "      <th>RL_identity</th>\n",
       "      <th>RL_identity-Ledoit_linear_identity</th>\n",
       "      <th>RL_identity-Ledoit_nonlinear_identity</th>\n",
       "      <th>RL_TBN-Ledoit_linear_TBN</th>\n",
       "    </tr>\n",
       "  </thead>\n",
       "  <tbody>\n",
       "    <tr>\n",
       "      <th>2001</th>\n",
       "      <td>1.068398</td>\n",
       "      <td>1.121237</td>\n",
       "      <td>1.084864</td>\n",
       "      <td>1.131492</td>\n",
       "      <td>1.131492</td>\n",
       "      <td>0.221673</td>\n",
       "      <td>0.204725</td>\n",
       "      <td>0.154749</td>\n",
       "    </tr>\n",
       "    <tr>\n",
       "      <th>2002</th>\n",
       "      <td>0.878858</td>\n",
       "      <td>0.901706</td>\n",
       "      <td>0.933475</td>\n",
       "      <td>0.809269</td>\n",
       "      <td>0.950385</td>\n",
       "      <td>1.142332</td>\n",
       "      <td>1.122227</td>\n",
       "      <td>0.570144</td>\n",
       "    </tr>\n",
       "    <tr>\n",
       "      <th>2003</th>\n",
       "      <td>1.447291</td>\n",
       "      <td>1.305145</td>\n",
       "      <td>1.486394</td>\n",
       "      <td>1.397364</td>\n",
       "      <td>0.008148</td>\n",
       "      <td>1.441484</td>\n",
       "      <td>1.299633</td>\n",
       "      <td>0.555700</td>\n",
       "    </tr>\n",
       "    <tr>\n",
       "      <th>2004</th>\n",
       "      <td>1.266553</td>\n",
       "      <td>1.117681</td>\n",
       "      <td>1.314971</td>\n",
       "      <td>1.406636</td>\n",
       "      <td>0.012660</td>\n",
       "      <td>1.266146</td>\n",
       "      <td>1.117120</td>\n",
       "      <td>0.112740</td>\n",
       "    </tr>\n",
       "    <tr>\n",
       "      <th>2005</th>\n",
       "      <td>1.662913</td>\n",
       "      <td>1.662991</td>\n",
       "      <td>1.816368</td>\n",
       "      <td>1.683307</td>\n",
       "      <td>0.000190</td>\n",
       "      <td>1.662780</td>\n",
       "      <td>1.662858</td>\n",
       "      <td>0.600360</td>\n",
       "    </tr>\n",
       "    <tr>\n",
       "      <th>2006</th>\n",
       "      <td>0.873507</td>\n",
       "      <td>0.924190</td>\n",
       "      <td>0.954554</td>\n",
       "      <td>0.626041</td>\n",
       "      <td>0.000068</td>\n",
       "      <td>0.873455</td>\n",
       "      <td>0.924140</td>\n",
       "      <td>0.679489</td>\n",
       "    </tr>\n",
       "    <tr>\n",
       "      <th>2007</th>\n",
       "      <td>0.921775</td>\n",
       "      <td>0.912370</td>\n",
       "      <td>0.968629</td>\n",
       "      <td>0.919236</td>\n",
       "      <td>0.000437</td>\n",
       "      <td>0.921531</td>\n",
       "      <td>0.912155</td>\n",
       "      <td>0.832605</td>\n",
       "    </tr>\n",
       "    <tr>\n",
       "      <th>2008</th>\n",
       "      <td>1.341263</td>\n",
       "      <td>1.313066</td>\n",
       "      <td>1.333335</td>\n",
       "      <td>0.816366</td>\n",
       "      <td>0.000682</td>\n",
       "      <td>1.340656</td>\n",
       "      <td>1.312532</td>\n",
       "      <td>0.704492</td>\n",
       "    </tr>\n",
       "    <tr>\n",
       "      <th>2009</th>\n",
       "      <td>1.688818</td>\n",
       "      <td>1.844698</td>\n",
       "      <td>1.745546</td>\n",
       "      <td>1.301525</td>\n",
       "      <td>0.005308</td>\n",
       "      <td>1.686046</td>\n",
       "      <td>1.841272</td>\n",
       "      <td>0.710429</td>\n",
       "    </tr>\n",
       "    <tr>\n",
       "      <th>2010</th>\n",
       "      <td>1.770800</td>\n",
       "      <td>1.794197</td>\n",
       "      <td>1.876041</td>\n",
       "      <td>1.213596</td>\n",
       "      <td>0.005658</td>\n",
       "      <td>1.769650</td>\n",
       "      <td>1.791530</td>\n",
       "      <td>0.833846</td>\n",
       "    </tr>\n",
       "    <tr>\n",
       "      <th>2011</th>\n",
       "      <td>1.601264</td>\n",
       "      <td>1.577024</td>\n",
       "      <td>1.701885</td>\n",
       "      <td>1.196225</td>\n",
       "      <td>0.000211</td>\n",
       "      <td>1.601170</td>\n",
       "      <td>1.576930</td>\n",
       "      <td>0.697661</td>\n",
       "    </tr>\n",
       "    <tr>\n",
       "      <th>2012</th>\n",
       "      <td>1.599160</td>\n",
       "      <td>1.486865</td>\n",
       "      <td>1.660782</td>\n",
       "      <td>1.664641</td>\n",
       "      <td>2.500381</td>\n",
       "      <td>1.883882</td>\n",
       "      <td>1.922547</td>\n",
       "      <td>0.721606</td>\n",
       "    </tr>\n",
       "    <tr>\n",
       "      <th>2013</th>\n",
       "      <td>2.063376</td>\n",
       "      <td>2.074850</td>\n",
       "      <td>2.207095</td>\n",
       "      <td>2.295870</td>\n",
       "      <td>2.500652</td>\n",
       "      <td>1.742171</td>\n",
       "      <td>1.833020</td>\n",
       "      <td>1.464885</td>\n",
       "    </tr>\n",
       "    <tr>\n",
       "      <th>2014</th>\n",
       "      <td>1.568319</td>\n",
       "      <td>1.628731</td>\n",
       "      <td>1.788738</td>\n",
       "      <td>0.400188</td>\n",
       "      <td>0.000027</td>\n",
       "      <td>1.568304</td>\n",
       "      <td>1.628716</td>\n",
       "      <td>1.527601</td>\n",
       "    </tr>\n",
       "    <tr>\n",
       "      <th>2015</th>\n",
       "      <td>1.346766</td>\n",
       "      <td>1.348044</td>\n",
       "      <td>1.477036</td>\n",
       "      <td>0.348150</td>\n",
       "      <td>0.000434</td>\n",
       "      <td>1.346694</td>\n",
       "      <td>1.347923</td>\n",
       "      <td>1.306576</td>\n",
       "    </tr>\n",
       "    <tr>\n",
       "      <th>2016</th>\n",
       "      <td>2.098369</td>\n",
       "      <td>2.004830</td>\n",
       "      <td>2.222584</td>\n",
       "      <td>0.387371</td>\n",
       "      <td>0.000412</td>\n",
       "      <td>2.098217</td>\n",
       "      <td>2.004678</td>\n",
       "      <td>1.884927</td>\n",
       "    </tr>\n",
       "    <tr>\n",
       "      <th>2017</th>\n",
       "      <td>1.113019</td>\n",
       "      <td>1.062487</td>\n",
       "      <td>1.174564</td>\n",
       "      <td>0.477112</td>\n",
       "      <td>0.000110</td>\n",
       "      <td>1.112982</td>\n",
       "      <td>1.062444</td>\n",
       "      <td>0.941699</td>\n",
       "    </tr>\n",
       "  </tbody>\n",
       "</table>\n",
       "</div>"
      ],
      "text/plain": [
       "      Ledoit_linear_identity  Ledoit_nonlinear_identity  Ledoit_linear_TBN  \\\n",
       "2001                1.068398                   1.121237           1.084864   \n",
       "2002                0.878858                   0.901706           0.933475   \n",
       "2003                1.447291                   1.305145           1.486394   \n",
       "2004                1.266553                   1.117681           1.314971   \n",
       "2005                1.662913                   1.662991           1.816368   \n",
       "2006                0.873507                   0.924190           0.954554   \n",
       "2007                0.921775                   0.912370           0.968629   \n",
       "2008                1.341263                   1.313066           1.333335   \n",
       "2009                1.688818                   1.844698           1.745546   \n",
       "2010                1.770800                   1.794197           1.876041   \n",
       "2011                1.601264                   1.577024           1.701885   \n",
       "2012                1.599160                   1.486865           1.660782   \n",
       "2013                2.063376                   2.074850           2.207095   \n",
       "2014                1.568319                   1.628731           1.788738   \n",
       "2015                1.346766                   1.348044           1.477036   \n",
       "2016                2.098369                   2.004830           2.222584   \n",
       "2017                1.113019                   1.062487           1.174564   \n",
       "\n",
       "        RL_TBN  RL_identity  RL_identity-Ledoit_linear_identity  \\\n",
       "2001  1.131492     1.131492                            0.221673   \n",
       "2002  0.809269     0.950385                            1.142332   \n",
       "2003  1.397364     0.008148                            1.441484   \n",
       "2004  1.406636     0.012660                            1.266146   \n",
       "2005  1.683307     0.000190                            1.662780   \n",
       "2006  0.626041     0.000068                            0.873455   \n",
       "2007  0.919236     0.000437                            0.921531   \n",
       "2008  0.816366     0.000682                            1.340656   \n",
       "2009  1.301525     0.005308                            1.686046   \n",
       "2010  1.213596     0.005658                            1.769650   \n",
       "2011  1.196225     0.000211                            1.601170   \n",
       "2012  1.664641     2.500381                            1.883882   \n",
       "2013  2.295870     2.500652                            1.742171   \n",
       "2014  0.400188     0.000027                            1.568304   \n",
       "2015  0.348150     0.000434                            1.346694   \n",
       "2016  0.387371     0.000412                            2.098217   \n",
       "2017  0.477112     0.000110                            1.112982   \n",
       "\n",
       "      RL_identity-Ledoit_nonlinear_identity  RL_TBN-Ledoit_linear_TBN  \n",
       "2001                               0.204725                  0.154749  \n",
       "2002                               1.122227                  0.570144  \n",
       "2003                               1.299633                  0.555700  \n",
       "2004                               1.117120                  0.112740  \n",
       "2005                               1.662858                  0.600360  \n",
       "2006                               0.924140                  0.679489  \n",
       "2007                               0.912155                  0.832605  \n",
       "2008                               1.312532                  0.704492  \n",
       "2009                               1.841272                  0.710429  \n",
       "2010                               1.791530                  0.833846  \n",
       "2011                               1.576930                  0.697661  \n",
       "2012                               1.922547                  0.721606  \n",
       "2013                               1.833020                  1.464885  \n",
       "2014                               1.628716                  1.527601  \n",
       "2015                               1.347923                  1.306576  \n",
       "2016                               2.004678                  1.884927  \n",
       "2017                               1.062444                  0.941699  "
      ]
     },
     "execution_count": 17,
     "metadata": {},
     "output_type": "execute_result"
    }
   ],
   "source": [
    "turnover_df"
   ]
  },
  {
   "cell_type": "code",
   "execution_count": 312,
   "metadata": {},
   "outputs": [],
   "source": [
    "turnover_df.to_latex('/Users/cheng/Google Drive/PhD/Research/Portfolio Selection via TBN/output/portfolios_turnover_df.tex', float_format=\"%.3f\")"
   ]
  },
  {
   "cell_type": "code",
   "execution_count": 187,
   "metadata": {},
   "outputs": [],
   "source": [
    "turnover_df.to_csv('/Users/cheng/Google Drive/PhD/Research/Portfolio Selection via TBN/output/portfolios_turnover_df.csv')"
   ]
  },
  {
   "cell_type": "markdown",
   "metadata": {},
   "source": [
    "## Transaction cost\n",
    "\n",
    "\\begin{equation}\n",
    "p_{t}=\\left(1+\\tilde{p}_{t}\\right)\\left(1-c \\times \\text { Turnover }_{t-1}\\right)-1\n",
    "\\end{equation}"
   ]
  },
  {
   "cell_type": "code",
   "execution_count": 105,
   "metadata": {},
   "outputs": [],
   "source": [
    "portfolio_return_df = portfolio_return_df[agent_dict.keys()]\n"
   ]
  },
  {
   "cell_type": "code",
   "execution_count": 228,
   "metadata": {},
   "outputs": [],
   "source": [
    "portfolio_return_annual_df = portfolio_return_df.groupby(pd.Grouper(freq=\"Y\")).mean() * 252"
   ]
  },
  {
   "cell_type": "code",
   "execution_count": 280,
   "metadata": {},
   "outputs": [],
   "source": [
    "def get_net_portfolio_return(year, transaction_cost = 20 * 0.01 * 0.01):\n",
    "    c = transaction_cost\n",
    "    portfolio_return_net_df = portfolio_return_df\n",
    "    portfolio_return_net_df.loc[str(year)].iloc[0] = (1 + portfolio_return_df.loc[str(year)].iloc[0]) * (1 - c * turnover_df.loc[year]) - 1\n",
    "    \n",
    "    return portfolio_return_net_df.loc[str(year)]"
   ]
  },
  {
   "cell_type": "code",
   "execution_count": 282,
   "metadata": {},
   "outputs": [
    {
     "data": {
      "text/html": [
       "<div>\n",
       "<style scoped>\n",
       "    .dataframe tbody tr th:only-of-type {\n",
       "        vertical-align: middle;\n",
       "    }\n",
       "\n",
       "    .dataframe tbody tr th {\n",
       "        vertical-align: top;\n",
       "    }\n",
       "\n",
       "    .dataframe thead th {\n",
       "        text-align: right;\n",
       "    }\n",
       "</style>\n",
       "<table border=\"1\" class=\"dataframe\">\n",
       "  <thead>\n",
       "    <tr style=\"text-align: right;\">\n",
       "      <th></th>\n",
       "      <th>Ledoit_linear_identity</th>\n",
       "      <th>Ledoit_nonlinear_identity</th>\n",
       "      <th>Ledoit_linear_TBN</th>\n",
       "      <th>RL_TBN</th>\n",
       "      <th>RL_identity</th>\n",
       "    </tr>\n",
       "  </thead>\n",
       "  <tbody>\n",
       "    <tr>\n",
       "      <th>2001-01-02</th>\n",
       "      <td>-0.018192</td>\n",
       "      <td>-0.018453</td>\n",
       "      <td>-0.017119</td>\n",
       "      <td>-0.020145</td>\n",
       "      <td>-0.015350</td>\n",
       "    </tr>\n",
       "    <tr>\n",
       "      <th>2001-01-03</th>\n",
       "      <td>0.011468</td>\n",
       "      <td>0.009556</td>\n",
       "      <td>0.008355</td>\n",
       "      <td>0.010497</td>\n",
       "      <td>0.007000</td>\n",
       "    </tr>\n",
       "    <tr>\n",
       "      <th>2001-01-04</th>\n",
       "      <td>-0.010496</td>\n",
       "      <td>-0.010161</td>\n",
       "      <td>-0.010442</td>\n",
       "      <td>-0.012653</td>\n",
       "      <td>-0.009423</td>\n",
       "    </tr>\n",
       "    <tr>\n",
       "      <th>2001-01-05</th>\n",
       "      <td>-0.003127</td>\n",
       "      <td>-0.001237</td>\n",
       "      <td>-0.002310</td>\n",
       "      <td>-0.007006</td>\n",
       "      <td>0.000368</td>\n",
       "    </tr>\n",
       "    <tr>\n",
       "      <th>2001-01-08</th>\n",
       "      <td>-0.000062</td>\n",
       "      <td>0.000080</td>\n",
       "      <td>-0.000063</td>\n",
       "      <td>-0.000364</td>\n",
       "      <td>0.000154</td>\n",
       "    </tr>\n",
       "    <tr>\n",
       "      <th>...</th>\n",
       "      <td>...</td>\n",
       "      <td>...</td>\n",
       "      <td>...</td>\n",
       "      <td>...</td>\n",
       "      <td>...</td>\n",
       "    </tr>\n",
       "    <tr>\n",
       "      <th>2017-12-22</th>\n",
       "      <td>-0.002487</td>\n",
       "      <td>-0.002431</td>\n",
       "      <td>-0.002617</td>\n",
       "      <td>-0.001868</td>\n",
       "      <td>-0.001442</td>\n",
       "    </tr>\n",
       "    <tr>\n",
       "      <th>2017-12-26</th>\n",
       "      <td>-0.000338</td>\n",
       "      <td>-0.000048</td>\n",
       "      <td>-0.000365</td>\n",
       "      <td>0.001297</td>\n",
       "      <td>0.001117</td>\n",
       "    </tr>\n",
       "    <tr>\n",
       "      <th>2017-12-27</th>\n",
       "      <td>0.002075</td>\n",
       "      <td>0.002010</td>\n",
       "      <td>0.002229</td>\n",
       "      <td>0.001556</td>\n",
       "      <td>0.000662</td>\n",
       "    </tr>\n",
       "    <tr>\n",
       "      <th>2017-12-28</th>\n",
       "      <td>0.002453</td>\n",
       "      <td>0.002356</td>\n",
       "      <td>0.002392</td>\n",
       "      <td>0.001541</td>\n",
       "      <td>0.001744</td>\n",
       "    </tr>\n",
       "    <tr>\n",
       "      <th>2017-12-29</th>\n",
       "      <td>-0.004896</td>\n",
       "      <td>-0.004726</td>\n",
       "      <td>-0.004857</td>\n",
       "      <td>-0.004175</td>\n",
       "      <td>-0.004684</td>\n",
       "    </tr>\n",
       "  </tbody>\n",
       "</table>\n",
       "<p>4276 rows × 5 columns</p>\n",
       "</div>"
      ],
      "text/plain": [
       "            Ledoit_linear_identity  Ledoit_nonlinear_identity  \\\n",
       "2001-01-02               -0.018192                  -0.018453   \n",
       "2001-01-03                0.011468                   0.009556   \n",
       "2001-01-04               -0.010496                  -0.010161   \n",
       "2001-01-05               -0.003127                  -0.001237   \n",
       "2001-01-08               -0.000062                   0.000080   \n",
       "...                            ...                        ...   \n",
       "2017-12-22               -0.002487                  -0.002431   \n",
       "2017-12-26               -0.000338                  -0.000048   \n",
       "2017-12-27                0.002075                   0.002010   \n",
       "2017-12-28                0.002453                   0.002356   \n",
       "2017-12-29               -0.004896                  -0.004726   \n",
       "\n",
       "            Ledoit_linear_TBN    RL_TBN  RL_identity  \n",
       "2001-01-02          -0.017119 -0.020145    -0.015350  \n",
       "2001-01-03           0.008355  0.010497     0.007000  \n",
       "2001-01-04          -0.010442 -0.012653    -0.009423  \n",
       "2001-01-05          -0.002310 -0.007006     0.000368  \n",
       "2001-01-08          -0.000063 -0.000364     0.000154  \n",
       "...                       ...       ...          ...  \n",
       "2017-12-22          -0.002617 -0.001868    -0.001442  \n",
       "2017-12-26          -0.000365  0.001297     0.001117  \n",
       "2017-12-27           0.002229  0.001556     0.000662  \n",
       "2017-12-28           0.002392  0.001541     0.001744  \n",
       "2017-12-29          -0.004857 -0.004175    -0.004684  \n",
       "\n",
       "[4276 rows x 5 columns]"
      ]
     },
     "execution_count": 282,
     "metadata": {},
     "output_type": "execute_result"
    }
   ],
   "source": [
    "portfolio_return_net_df = pd.concat([get_net_portfolio_return(year) for year in year_range])\n",
    "portfolio_return_net_df"
   ]
  },
  {
   "cell_type": "code",
   "execution_count": 283,
   "metadata": {},
   "outputs": [],
   "source": [
    "portfolio_return_net_df.to_csv('/Users/cheng/Google Drive/PhD/Research/Portfolio Selection via TBN/output/portfolio_return_net.csv')"
   ]
  },
  {
   "cell_type": "markdown",
   "metadata": {},
   "source": [
    "## Performance matrices"
   ]
  },
  {
   "cell_type": "code",
   "execution_count": 27,
   "metadata": {},
   "outputs": [],
   "source": [
    "mean_vec = portfolio_return_df.mean() * 252 * 100\n",
    "std_vec = portfolio_return_df.std() * np.sqrt(252) \n",
    "skewness_vec = portfolio_return_df.skew()\n",
    "kurtosis_vec = portfolio_return_df.kurtosis()"
   ]
  },
  {
   "cell_type": "code",
   "execution_count": 43,
   "metadata": {},
   "outputs": [
    {
     "data": {
      "text/html": [
       "<div>\n",
       "<style scoped>\n",
       "    .dataframe tbody tr th:only-of-type {\n",
       "        vertical-align: middle;\n",
       "    }\n",
       "\n",
       "    .dataframe tbody tr th {\n",
       "        vertical-align: top;\n",
       "    }\n",
       "\n",
       "    .dataframe thead th {\n",
       "        text-align: right;\n",
       "    }\n",
       "</style>\n",
       "<table border=\"1\" class=\"dataframe\">\n",
       "  <thead>\n",
       "    <tr style=\"text-align: right;\">\n",
       "      <th></th>\n",
       "      <th>0_pct_identity</th>\n",
       "      <th>50_pct_identity</th>\n",
       "      <th>100_pct_identity</th>\n",
       "      <th>0_pct_TBN</th>\n",
       "      <th>50_pct_TBN</th>\n",
       "      <th>100_pct_TBN</th>\n",
       "      <th>Ledoit_linear_identity</th>\n",
       "      <th>Ledoit_nonlinear_identity</th>\n",
       "      <th>Ledoit_linear_TBN</th>\n",
       "      <th>RL_TBN</th>\n",
       "      <th>RL_identity</th>\n",
       "    </tr>\n",
       "  </thead>\n",
       "  <tbody>\n",
       "    <tr>\n",
       "      <th>Mean</th>\n",
       "      <td>6.878320</td>\n",
       "      <td>10.085880</td>\n",
       "      <td>10.894021</td>\n",
       "      <td>6.878320</td>\n",
       "      <td>7.233449</td>\n",
       "      <td>8.733032</td>\n",
       "      <td>7.095806</td>\n",
       "      <td>6.760061</td>\n",
       "      <td>6.851898</td>\n",
       "      <td>7.233449</td>\n",
       "      <td>10.162299</td>\n",
       "    </tr>\n",
       "    <tr>\n",
       "      <th>Standard deviation</th>\n",
       "      <td>0.141485</td>\n",
       "      <td>0.163922</td>\n",
       "      <td>0.173756</td>\n",
       "      <td>0.141485</td>\n",
       "      <td>0.138836</td>\n",
       "      <td>0.155159</td>\n",
       "      <td>0.140027</td>\n",
       "      <td>0.140173</td>\n",
       "      <td>0.140010</td>\n",
       "      <td>0.138836</td>\n",
       "      <td>0.170885</td>\n",
       "    </tr>\n",
       "    <tr>\n",
       "      <th>Skewness</th>\n",
       "      <td>0.449797</td>\n",
       "      <td>0.369507</td>\n",
       "      <td>0.350498</td>\n",
       "      <td>0.449797</td>\n",
       "      <td>0.578361</td>\n",
       "      <td>0.458887</td>\n",
       "      <td>0.485475</td>\n",
       "      <td>0.571034</td>\n",
       "      <td>0.471404</td>\n",
       "      <td>0.578361</td>\n",
       "      <td>0.370198</td>\n",
       "    </tr>\n",
       "    <tr>\n",
       "      <th>Kurtosis</th>\n",
       "      <td>10.161342</td>\n",
       "      <td>13.049700</td>\n",
       "      <td>11.492554</td>\n",
       "      <td>10.161342</td>\n",
       "      <td>14.660501</td>\n",
       "      <td>13.680747</td>\n",
       "      <td>10.819349</td>\n",
       "      <td>11.990603</td>\n",
       "      <td>10.842558</td>\n",
       "      <td>14.660501</td>\n",
       "      <td>12.128122</td>\n",
       "    </tr>\n",
       "    <tr>\n",
       "      <th>Sharpe ratio</th>\n",
       "      <td>0.577854</td>\n",
       "      <td>0.915915</td>\n",
       "      <td>0.934393</td>\n",
       "      <td>0.577854</td>\n",
       "      <td>0.706204</td>\n",
       "      <td>0.806761</td>\n",
       "      <td>0.622106</td>\n",
       "      <td>0.593815</td>\n",
       "      <td>0.598130</td>\n",
       "      <td>0.706204</td>\n",
       "      <td>0.864733</td>\n",
       "    </tr>\n",
       "    <tr>\n",
       "      <th>Turnover</th>\n",
       "      <td>0.845000</td>\n",
       "      <td>0.067000</td>\n",
       "      <td>0.000000</td>\n",
       "      <td>0.845000</td>\n",
       "      <td>0.410000</td>\n",
       "      <td>0.167000</td>\n",
       "      <td>0.726000</td>\n",
       "      <td>0.717000</td>\n",
       "      <td>0.770000</td>\n",
       "      <td>0.485000</td>\n",
       "      <td>0.294000</td>\n",
       "    </tr>\n",
       "  </tbody>\n",
       "</table>\n",
       "</div>"
      ],
      "text/plain": [
       "                    0_pct_identity  50_pct_identity  100_pct_identity  \\\n",
       "Mean                      6.878320        10.085880         10.894021   \n",
       "Standard deviation        0.141485         0.163922          0.173756   \n",
       "Skewness                  0.449797         0.369507          0.350498   \n",
       "Kurtosis                 10.161342        13.049700         11.492554   \n",
       "Sharpe ratio              0.577854         0.915915          0.934393   \n",
       "Turnover                  0.845000         0.067000          0.000000   \n",
       "\n",
       "                    0_pct_TBN  50_pct_TBN  100_pct_TBN  \\\n",
       "Mean                 6.878320    7.233449     8.733032   \n",
       "Standard deviation   0.141485    0.138836     0.155159   \n",
       "Skewness             0.449797    0.578361     0.458887   \n",
       "Kurtosis            10.161342   14.660501    13.680747   \n",
       "Sharpe ratio         0.577854    0.706204     0.806761   \n",
       "Turnover             0.845000    0.410000     0.167000   \n",
       "\n",
       "                    Ledoit_linear_identity  Ledoit_nonlinear_identity  \\\n",
       "Mean                              7.095806                   6.760061   \n",
       "Standard deviation                0.140027                   0.140173   \n",
       "Skewness                          0.485475                   0.571034   \n",
       "Kurtosis                         10.819349                  11.990603   \n",
       "Sharpe ratio                      0.622106                   0.593815   \n",
       "Turnover                          0.726000                   0.717000   \n",
       "\n",
       "                    Ledoit_linear_TBN     RL_TBN  RL_identity  \n",
       "Mean                         6.851898   7.233449    10.162299  \n",
       "Standard deviation           0.140010   0.138836     0.170885  \n",
       "Skewness                     0.471404   0.578361     0.370198  \n",
       "Kurtosis                    10.842558  14.660501    12.128122  \n",
       "Sharpe ratio                 0.598130   0.706204     0.864733  \n",
       "Turnover                     0.770000   0.485000     0.294000  "
      ]
     },
     "execution_count": 43,
     "metadata": {},
     "output_type": "execute_result"
    }
   ],
   "source": [
    "portfolio_performance_df = pd.concat([mean_vec, std_vec, skewness_vec, kurtosis_vec, SR_vec, TO_vec], axis=1).T\n",
    "portfolio_performance_df.index = ['Mean', 'Standard deviation', 'Skewness', 'Kurtosis', 'Sharpe ratio', 'Turnover']\n",
    "portfolio_performance_df"
   ]
  },
  {
   "cell_type": "code",
   "execution_count": 54,
   "metadata": {},
   "outputs": [],
   "source": [
    "portfolio_performance_df.iloc[:, 6:].to_latex('/Users/cheng/Google Drive/PhD/Research/Portfolio Selection via TBN/output/port_performance_matrices.tex', float_format = \"%.3f\")"
   ]
  },
  {
   "cell_type": "markdown",
   "metadata": {},
   "source": [
    "# Stacked Area Chart"
   ]
  },
  {
   "cell_type": "code",
   "execution_count": 313,
   "metadata": {},
   "outputs": [
    {
     "data": {
      "image/png": "[encoded data removed]",
      "text/plain": [
       "<Figure size 1280x720 with 1 Axes>"
      ]
     },
     "metadata": {
      "needs_background": "light"
     },
     "output_type": "display_data"
    }
   ],
   "source": [
    "# load data\n",
    "strategy_name_vec = ['Ledoit_linear_identity',\n",
    "                    'Ledoit_linear_TBN',\n",
    "                    'Ledoit_nonlinear_identity',\n",
    "                    'RL_TBN', \n",
    "                    'RL_identity',\n",
    "                    'RL_identity-Ledoit_linear_identity',\n",
    "                    'RL_identity-Ledoit_nonlinear_identity',\n",
    "                    'RL_TBN-Ledoit_linear_TBN']\n",
    "strategy_name = strategy_name_vec[0]\n",
    "file_path = '../../output/' + strategy_name + '.csv'\n",
    "portfolio_weight = pd.read_csv(file_path, index_col=0)\n",
    "agent_test = Shrink_100_tbn()\n",
    "stock_symbols = agent_test.stocks_returns_aggregate.columns.values\n",
    "\n",
    "# Draw Plot and Annotate\n",
    "fig, ax = plt.subplots(1,1,figsize=(16, 9), dpi= 80)\n",
    "ax = plt.gca()\n",
    "ax.stackplot(portfolio_weight.index, portfolio_weight.T,labels=stock_symbols, alpha=0.8)\n",
    "\n",
    "# Decorations\n",
    "ax.set(ylim=[-0.3, 1.3])\n",
    "ax.legend(fontsize=8, ncol=4)\n",
    "plt.xticks(np.arange(2001, 2018), fontsize=10,rotation = 45, horizontalalignment='center')\n",
    "\n",
    "plt.show()\n",
    "fig.savefig('/Users/cheng/Google Drive/PhD/Research/Portfolio Selection via TBN/output/figure/' + strategy_name + '_stackplot.png')"
   ]
  },
  {
   "cell_type": "markdown",
   "metadata": {},
   "source": [
    "# Herfindahl-Hirschman Index (HHI)"
   ]
  },
  {
   "cell_type": "code",
   "execution_count": 2,
   "metadata": {},
   "outputs": [],
   "source": [
    "def get_HHI_mean_for_portfolio_ts(portfolio_weight_df):\n",
    "    HHI = ((portfolio_weight_df * 1) ** 2).sum(axis=1).mean()\n",
    "    return HHI"
   ]
  },
  {
   "cell_type": "code",
   "execution_count": 3,
   "metadata": {},
   "outputs": [],
   "source": [
    "# \n",
    "strategy_name_vec = ['Ledoit_linear_identity',\n",
    "                    'Ledoit_linear_TBN',\n",
    "                    'Ledoit_nonlinear_identity',\n",
    "                    'RL_TBN', \n",
    "                    'RL_identity',\n",
    "                    'RL_identity-Ledoit_linear_identity',\n",
    "                    'RL_identity-Ledoit_nonlinear_identity',\n",
    "                    'RL_TBN-Ledoit_linear_TBN']\n",
    "                    \n",
    "# calculate HHI\n",
    "file_path_vec = ['../../output/' + strategy_name + '.csv' for strategy_name in strategy_name_vec]\n",
    "portfolio_weight_vec = [pd.read_csv(file_path, index_col=0) for file_path in file_path_vec]\n",
    "HHI_vec = [get_HHI_mean_for_portfolio_ts(portfolio_weight) for portfolio_weight in portfolio_weight_vec]\n",
    "HHI_series = pd.Series(HHI_vec, index = strategy_name_vec)"
   ]
  },
  {
   "cell_type": "code",
   "execution_count": 18,
   "metadata": {},
   "outputs": [
    {
     "data": {
      "text/html": [
       "<div>\n",
       "<style scoped>\n",
       "    .dataframe tbody tr th:only-of-type {\n",
       "        vertical-align: middle;\n",
       "    }\n",
       "\n",
       "    .dataframe tbody tr th {\n",
       "        vertical-align: top;\n",
       "    }\n",
       "\n",
       "    .dataframe thead th {\n",
       "        text-align: right;\n",
       "    }\n",
       "</style>\n",
       "<table border=\"1\" class=\"dataframe\">\n",
       "  <thead>\n",
       "    <tr style=\"text-align: right;\">\n",
       "      <th></th>\n",
       "      <th>Ledoit_linear_identity</th>\n",
       "      <th>Ledoit_nonlinear_identity</th>\n",
       "      <th>RL_identity</th>\n",
       "      <th>Ledoit_linear_TBN</th>\n",
       "      <th>RL_TBN</th>\n",
       "      <th>RL_identity-Ledoit_linear_identity</th>\n",
       "      <th>RL_identity-Ledoit_nonlinear_identity</th>\n",
       "      <th>RL_TBN-Ledoit_linear_TBN</th>\n",
       "    </tr>\n",
       "  </thead>\n",
       "  <tbody>\n",
       "    <tr>\n",
       "      <th>HHI</th>\n",
       "      <td>0.236924</td>\n",
       "      <td>0.238559</td>\n",
       "      <td>0.072054</td>\n",
       "      <td>0.271586</td>\n",
       "      <td>0.168287</td>\n",
       "      <td>0.170213</td>\n",
       "      <td>0.173092</td>\n",
       "      <td>0.051062</td>\n",
       "    </tr>\n",
       "    <tr>\n",
       "      <th>Turnover</th>\n",
       "      <td>1.430026</td>\n",
       "      <td>1.416477</td>\n",
       "      <td>0.418662</td>\n",
       "      <td>1.514521</td>\n",
       "      <td>1.063199</td>\n",
       "      <td>1.392892</td>\n",
       "      <td>1.386144</td>\n",
       "      <td>0.841148</td>\n",
       "    </tr>\n",
       "  </tbody>\n",
       "</table>\n",
       "</div>"
      ],
      "text/plain": [
       "          Ledoit_linear_identity  Ledoit_nonlinear_identity  RL_identity  \\\n",
       "HHI                     0.236924                   0.238559     0.072054   \n",
       "Turnover                1.430026                   1.416477     0.418662   \n",
       "\n",
       "          Ledoit_linear_TBN    RL_TBN  RL_identity-Ledoit_linear_identity  \\\n",
       "HHI                0.271586  0.168287                            0.170213   \n",
       "Turnover           1.514521  1.063199                            1.392892   \n",
       "\n",
       "          RL_identity-Ledoit_nonlinear_identity  RL_TBN-Ledoit_linear_TBN  \n",
       "HHI                                    0.173092                  0.051062  \n",
       "Turnover                               1.386144                  0.841148  "
      ]
     },
     "execution_count": 18,
     "metadata": {},
     "output_type": "execute_result"
    }
   ],
   "source": [
    "strategy_name_vec_reoder = ['Ledoit_linear_identity',\n",
    "                    'Ledoit_nonlinear_identity',\n",
    "                    'RL_identity',\n",
    "                    'Ledoit_linear_TBN',\n",
    "                    'RL_TBN', \n",
    "                    'RL_identity-Ledoit_linear_identity',\n",
    "                    'RL_identity-Ledoit_nonlinear_identity',\n",
    "                    'RL_TBN-Ledoit_linear_TBN']\n",
    "\n",
    "# combine HHI and turnover into df\n",
    "portfolio_stability_df = pd.DataFrame([HHI_series, turnover_df.mean()], index=['HHI', 'Turnover'])\n",
    "portfolio_stability_df[strategy_name_vec_reoder]"
   ]
  },
  {
   "cell_type": "code",
   "execution_count": 341,
   "metadata": {},
   "outputs": [],
   "source": [
    "portfolio_stability_df[strategy_name_vec_reoder].to_latex('../../output/portfolio_stability_df.tex', float_format=\"%.3f\")"
   ]
  }
 ],
 "metadata": {
  "interpreter": {
   "hash": "33f99ea47d1967c482d1a96e8f57146526516fa4859dddae9b508497402c9084"
  },
  "kernelspec": {
   "display_name": "Python 3.7.10 ('portfolio')",
   "language": "python",
   "name": "python3"
  },
  "language_info": {
   "codemirror_mode": {
    "name": "ipython",
    "version": 3
   },
   "file_extension": ".py",
   "mimetype": "text/x-python",
   "name": "python",
   "nbconvert_exporter": "python",
   "pygments_lexer": "ipython3",
   "version": "3.7.10"
  },
  "orig_nbformat": 4
 },
 "nbformat": 4,
 "nbformat_minor": 2
}
