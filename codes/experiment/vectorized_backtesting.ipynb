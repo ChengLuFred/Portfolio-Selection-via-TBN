{
 "cells": [
  {
   "cell_type": "code",
   "execution_count": 2,
   "metadata": {},
   "outputs": [],
   "source": [
    "import pandas as pd\n",
    "from datetime import datetime\n",
    "import numpy as np\n",
    "\n",
    "import matplotlib.pyplot as plt\n",
    "from numpy.linalg import inv\n",
    "\n",
    "import sys\n",
    "sys.path.append('/Users/cheng/Google Drive/PhD/Research/Portfolio Selection via TBN/codes/')\n",
    "\n",
    "from module.data_library import data_library\n",
    "from module.portfolio_generator import portfolio_generator\n",
    "from module.vectorized_backtesting import vectorized_backtesting, get_portfolio_performance\n",
    "from module.portfolio_analyser import get_sharpe_ratio, get_turnover"
   ]
  },
  {
   "cell_type": "code",
   "execution_count": 3,
   "metadata": {},
   "outputs": [],
   "source": [
    "def get_equal_weighted_portfolio(period_df):\n",
    "    n_stock = period_df.shape[1]\n",
    "    portfolio = [1 / n_stock] * n_stock\n",
    "\n",
    "    return portfolio"
   ]
  },
  {
   "cell_type": "markdown",
   "metadata": {},
   "source": [
    "# data"
   ]
  },
  {
   "cell_type": "code",
   "execution_count": 2,
   "metadata": {},
   "outputs": [],
   "source": [
    "class data_library:\n",
    "    def __init__(self) -> None:\n",
    "        pass\n",
    "\n",
    "    def get_stock_returns(\n",
    "        name: str,\n",
    "        frequency: str\n",
    "        ) -> pd.DataFrame:\n",
    "        '''\n",
    "        Load local stock returns csv file.\n",
    "\n",
    "        Args:\n",
    "\n",
    "        Returns:\n",
    "        '''\n",
    "\n",
    "        file_path_dict = {\n",
    "            ('industry', 'monthly'): \\\n",
    "            '/Users/cheng/Google Drive/PhD/Research/Portfolio Selection via TBN/data/Data/49_Industry_Portfolios_Monthly_Value_Weighted.csv',\n",
    "            ('industry', 'daily'):\\\n",
    "            '/Users/cheng/Google Drive/PhD/Research/Portfolio Selection via TBN/data/Data/49_Industry_Portfolios_Daily_Value_Weighted.csv'\n",
    "        }\n",
    "\n",
    "        date_parser_dict = {\n",
    "            'monthly': lambda x: datetime.strptime(str(x), \"%Y%m\"),\n",
    "            'daily': lambda x: datetime.strptime(str(x), \"%Y%m%d\")\n",
    "        }\n",
    "\n",
    "        file_path = file_path_dict[(name, frequency)]\n",
    "        data = pd.read_csv(file_path, index_col=0, parse_dates=True, date_parser=date_parser_dict[frequency])\n",
    "        data = data.dropna(axis=1)\n",
    "\n",
    "        return data"
   ]
  },
  {
   "cell_type": "code",
   "execution_count": 3,
   "metadata": {},
   "outputs": [],
   "source": [
    "lib = data_library\n",
    "data = lib.get_stock_returns('industry', 'monthly')"
   ]
  },
  {
   "cell_type": "markdown",
   "metadata": {},
   "source": [
    "# backtesting"
   ]
  },
  {
   "cell_type": "code",
   "execution_count": 76,
   "metadata": {},
   "outputs": [],
   "source": [
    "def vectorized_backtesting(\n",
    "    stock_return_df: pd.DataFrame, \n",
    "    rebalance_option: str, \n",
    "    portfolo_strategy_matrix: np.array):\n",
    "\n",
    "    '''\n",
    "    \n",
    "    '''\n",
    "\n",
    "    \n",
    "    if rebalance_option == 'month':\n",
    "        rebalance_option = pd.Grouper(freq=\"M\")\n",
    "    elif rebalance_option == 'year':\n",
    "        rebalance_option = pd.Grouper(freq=\"Y\")\n",
    "    else:\n",
    "        raise Exception('rebalance option can be either \\'month\\' or \\'year\\'')\n",
    "\n",
    "    stock_ret_rebalance = [group.values for name, group in stock_return_df.groupby(rebalance_option)]\n",
    "    stock_ret_rebalance = np.array(stock_ret_rebalance, dtype=object)\n",
    "\n",
    "    n_period = stock_ret_rebalance.shape[0]\n",
    "    n_stock = stock_ret_rebalance[0].shape[1]\n",
    "\n",
    "    if n_period != portfolo_strategy_matrix.shape[0]:\n",
    "        raise Exception('Portfolio matrix period doesn\\'t align with stock return period.\\\n",
    "                         Stock return breaks down into {} rebalancing periods.\\\n",
    "                         Portfolio matrix has {} periods.'.format(n_period, portfolo_strategy_matrix.shape[0]))\n",
    "    if n_stock != portfolo_strategy_matrix.shape[1]:\n",
    "        raise Exception('portfolio matrix stock num doesn\\'t align with stock return dimension')\n",
    "\n",
    "    portfolio_return = np.concatenate([stock_ret @ portfolio for stock_ret, portfolio in zip(stock_ret_rebalance, portfolo_strategy_matrix)])\n",
    "    portfolio_return_df = pd.DataFrame(portfolio_return, index=stock_return_df.index, columns=['portfolio_return'])\n",
    "\n",
    "    return portfolio_return_df\n"
   ]
  },
  {
   "cell_type": "code",
   "execution_count": 7,
   "metadata": {},
   "outputs": [],
   "source": [
    "a1 = np.array([0.1]*3)\n",
    "a2 = np.random.randint(5, size=(2, 3))"
   ]
  },
  {
   "cell_type": "code",
   "execution_count": 12,
   "metadata": {},
   "outputs": [
    {
     "data": {
      "text/plain": [
       "array([0.8, 0.6])"
      ]
     },
     "execution_count": 12,
     "metadata": {},
     "output_type": "execute_result"
    }
   ],
   "source": [
    "a2 @ a1"
   ]
  },
  {
   "cell_type": "code",
   "execution_count": 61,
   "metadata": {},
   "outputs": [],
   "source": [
    "n_period = 96\n",
    "n_stock = 40\n",
    "portfolio = np.array([1/n_stock] * n_stock)\n",
    "portfolio_matrix = np.array([portfolio for x in range(0, n_period)])"
   ]
  },
  {
   "cell_type": "code",
   "execution_count": 75,
   "metadata": {},
   "outputs": [
    {
     "ename": "Exception",
     "evalue": "portfolio matrix period doesn't align with stock return period",
     "output_type": "error",
     "traceback": [
      "\u001b[0;31m---------------------------------------------------------------------------\u001b[0m",
      "\u001b[0;31mException\u001b[0m                                 Traceback (most recent call last)",
      "\u001b[0;32m<ipython-input-75-d0f40101285c>\u001b[0m in \u001b[0;36m<module>\u001b[0;34m\u001b[0m\n\u001b[0;32m----> 1\u001b[0;31m \u001b[0mtest\u001b[0m \u001b[0;34m=\u001b[0m \u001b[0mvectorized_backtesting\u001b[0m\u001b[0;34m(\u001b[0m\u001b[0mdata\u001b[0m\u001b[0;34m,\u001b[0m \u001b[0;34m'month'\u001b[0m\u001b[0;34m,\u001b[0m \u001b[0mportfolio_matrix\u001b[0m\u001b[0;34m)\u001b[0m\u001b[0;34m\u001b[0m\u001b[0;34m\u001b[0m\u001b[0m\n\u001b[0m",
      "\u001b[0;32m<ipython-input-60-836f6d04f7aa>\u001b[0m in \u001b[0;36mvectorized_backtesting\u001b[0;34m(stock_return_df, rebalance_option, portfolo_strategy_matrix)\u001b[0m\n\u001b[1;32m     23\u001b[0m \u001b[0;34m\u001b[0m\u001b[0m\n\u001b[1;32m     24\u001b[0m     \u001b[0;32mif\u001b[0m \u001b[0mn_period\u001b[0m \u001b[0;34m!=\u001b[0m \u001b[0mportfolo_strategy_matrix\u001b[0m\u001b[0;34m.\u001b[0m\u001b[0mshape\u001b[0m\u001b[0;34m[\u001b[0m\u001b[0;36m0\u001b[0m\u001b[0;34m]\u001b[0m\u001b[0;34m:\u001b[0m\u001b[0;34m\u001b[0m\u001b[0;34m\u001b[0m\u001b[0m\n\u001b[0;32m---> 25\u001b[0;31m         \u001b[0;32mraise\u001b[0m \u001b[0mException\u001b[0m\u001b[0;34m(\u001b[0m\u001b[0;34m'portfolio matrix period doesn\\'t align with stock return period'\u001b[0m\u001b[0;34m)\u001b[0m\u001b[0;34m\u001b[0m\u001b[0;34m\u001b[0m\u001b[0m\n\u001b[0m\u001b[1;32m     26\u001b[0m     \u001b[0;32mif\u001b[0m \u001b[0mn_stock\u001b[0m \u001b[0;34m!=\u001b[0m \u001b[0mportfolo_strategy_matrix\u001b[0m\u001b[0;34m.\u001b[0m\u001b[0mshape\u001b[0m\u001b[0;34m[\u001b[0m\u001b[0;36m1\u001b[0m\u001b[0;34m]\u001b[0m\u001b[0;34m:\u001b[0m\u001b[0;34m\u001b[0m\u001b[0;34m\u001b[0m\u001b[0m\n\u001b[1;32m     27\u001b[0m         \u001b[0;32mraise\u001b[0m \u001b[0mException\u001b[0m\u001b[0;34m(\u001b[0m\u001b[0;34m'portfolio matrix stock num doesn\\'t align with stock return dimension'\u001b[0m\u001b[0;34m)\u001b[0m\u001b[0;34m\u001b[0m\u001b[0;34m\u001b[0m\u001b[0m\n",
      "\u001b[0;31mException\u001b[0m: portfolio matrix period doesn't align with stock return period"
     ]
    }
   ],
   "source": [
    "test = vectorized_backtesting(data, 'month', portfolio_matrix)"
   ]
  },
  {
   "cell_type": "code",
   "execution_count": 74,
   "metadata": {},
   "outputs": [
    {
     "data": {
      "text/plain": [
       "array([[0.025, 0.025, 0.025, ..., 0.025, 0.025, 0.025],\n",
       "       [0.025, 0.025, 0.025, ..., 0.025, 0.025, 0.025],\n",
       "       [0.025, 0.025, 0.025, ..., 0.025, 0.025, 0.025],\n",
       "       ...,\n",
       "       [0.025, 0.025, 0.025, ..., 0.025, 0.025, 0.025],\n",
       "       [0.025, 0.025, 0.025, ..., 0.025, 0.025, 0.025],\n",
       "       [0.025, 0.025, 0.025, ..., 0.025, 0.025, 0.025]])"
      ]
     },
     "execution_count": 74,
     "metadata": {},
     "output_type": "execute_result"
    }
   ],
   "source": [
    "test\n"
   ]
  },
  {
   "cell_type": "markdown",
   "metadata": {},
   "source": [
    "# Portfolio generator"
   ]
  },
  {
   "cell_type": "code",
   "execution_count": 67,
   "metadata": {},
   "outputs": [],
   "source": [
    "class portfolio_generator:\n",
    "    def __init__(self) -> None:\n",
    "        pass\n",
    "    def get_portfolio_matrix(\n",
    "        self,\n",
    "        stock_return_df: pd.DataFrame, \n",
    "        rebalance_option: 'str',\n",
    "        rolling_period: int) -> np.array:\n",
    "        '''\n",
    "        Slice stock df for each rolling period. \n",
    "        Put each period's df togather to form a list.\n",
    "        For each rolling period calculate portfolio.\n",
    "        Return a matrix(np.array) containing portfolio for each period.\n",
    "\n",
    "        Args:\n",
    "\n",
    "        Return:\n",
    "        \n",
    "        '''\n",
    "        if rebalance_option == 'month':\n",
    "            rebalance_option = pd.Grouper(freq=\"M\")\n",
    "        elif rebalance_option == 'year':\n",
    "            rebalance_option = pd.Grouper(freq=\"Y\")\n",
    "        else:\n",
    "            raise Exception('rebalance option can be either \\'month\\' or \\'year\\'')\n",
    "\n",
    "        n_period = len(stock_return_df.groupby(rebalance_option).groups)\n",
    "        period_range_idx = np.arange(0, n_period+1)\n",
    "        period_df_list = [stock_return_df.iloc[period: (period + rolling_period)] for period in period_range_idx[:-rolling_period-1]]\n",
    "        portfolio_matrix = [self.get_portfolio(period_df) for period_df in period_df_list]\n",
    "        portfolio_matrix = np.array(portfolio_matrix).T\n",
    "\n",
    "        return portfolio_matrix\n",
    "    \n",
    "    def get_portfolio(self, period_df):\n",
    "        raise Exception('Please override get_portfolio() function!')"
   ]
  },
  {
   "cell_type": "code",
   "execution_count": 68,
   "metadata": {},
   "outputs": [],
   "source": [
    "agent = portfolio_generator()"
   ]
  },
  {
   "cell_type": "code",
   "execution_count": 71,
   "metadata": {},
   "outputs": [],
   "source": [
    "def get_portfolio(period_df):\n",
    "    n_stock = period_df.shape[1]\n",
    "    portfolio = [1 / n_stock] * n_stock\n",
    "\n",
    "    return portfolio"
   ]
  },
  {
   "cell_type": "code",
   "execution_count": 72,
   "metadata": {},
   "outputs": [],
   "source": [
    "agent.get_portfolio = get_portfolio"
   ]
  },
  {
   "cell_type": "code",
   "execution_count": 3,
   "metadata": {},
   "outputs": [],
   "source": [
    "# stock_return_df.rolling('D').count()"
   ]
  },
  {
   "cell_type": "code",
   "execution_count": null,
   "metadata": {},
   "outputs": [],
   "source": []
  },
  {
   "cell_type": "markdown",
   "metadata": {},
   "source": [
    "# Performance analyser"
   ]
  },
  {
   "cell_type": "markdown",
   "metadata": {},
   "source": [
    "## turnover\n",
    "$$\n",
    "\\operatorname{Turn}_{t}=\\sum_{i=1}^{N}\\left|w_{i, t}-\\frac{w_{i, t-1} R_{i, t-1}}{\\sum_{i=1}^{N} w_{i, t-1} R_{i, t-1}}\\right|\n",
    "$$"
   ]
  },
  {
   "cell_type": "markdown",
   "metadata": {},
   "source": [
    "Use following example as a test. \\\n",
    "Test 1/N portfolio on 'Book to market(25)' monthly data. \\\n",
    "Rolling period is 120 month.\\\n",
    "Testing period is from '1927-01-01' to '2018-12-01'."
   ]
  },
  {
   "cell_type": "code",
   "execution_count": 42,
   "metadata": {},
   "outputs": [],
   "source": [
    "def get_gmv(period_df):\n",
    "    H = period_df.cov() # not sure do we need 12\n",
    "\n",
    "    one = np.ones(H.shape[0]) \n",
    "    H_inv = inv(H)\n",
    "    numerator = H_inv @ one\n",
    "    denominator = one.T @ H_inv @ one\n",
    "\n",
    "    gmv = numerator / denominator\n",
    "\n",
    "    return gmv"
   ]
  },
  {
   "cell_type": "code",
   "execution_count": 6,
   "metadata": {},
   "outputs": [],
   "source": [
    "def get_equal_weighted_portfolio(period_df):\n",
    "    n_stock = period_df.shape[1]\n",
    "    portfolio = [1 / n_stock] * n_stock\n",
    "\n",
    "    return portfolio"
   ]
  },
  {
   "cell_type": "code",
   "execution_count": 20,
   "metadata": {},
   "outputs": [],
   "source": [
    "def get_turnover(\n",
    "    rebalance_option: str,\n",
    "    stock_return_df: pd.DataFrame,\n",
    "    portfolio_matrix: np.array\n",
    "    ) -> float:\n",
    "    '''\n",
    "    \n",
    "\n",
    "    '''\n",
    "    stock_return_df += 1 #convert stock return to gross asset return\n",
    "\n",
    "    if rebalance_option == 'month':\n",
    "        rebalance_option = pd.Grouper(freq=\"M\")\n",
    "    elif rebalance_option == 'year':\n",
    "        rebalance_option = pd.Grouper(freq=\"Y\")\n",
    "    else:\n",
    "        raise Exception('rebalance option can be either \\'month\\' or \\'year\\'')\n",
    "\n",
    "    stock_ret_rebalance = [group.values.tolist()[0] for name, group in stock_return_df.groupby(rebalance_option)] # unsafe expression using [0]\n",
    "    stock_ret_rebalance = np.array(stock_ret_rebalance[rolling_period:], dtype=object)\n",
    "\n",
    "    weighted_weights_matrix = portfolio_matrix * stock_ret_rebalance \n",
    "    weighted_weights_sum_vector = np.sum(weighted_weights_matrix, axis=1).reshape(-1,1)\n",
    "    weighted_weights_diff_matrix = np.abs(portfolio_matrix[1:] - (weighted_weights_matrix/weighted_weights_sum_vector)[:-1])\n",
    "    turnover_vector = np.sum(weighted_weights_diff_matrix, axis=1)\n",
    "    turnover_avg = np.mean(turnover_vector)\n",
    "    \n",
    "    return turnover_avg\n",
    "\n"
   ]
  },
  {
   "cell_type": "code",
   "execution_count": 21,
   "metadata": {},
   "outputs": [
    {
     "data": {
      "text/plain": [
       "0.7555461988243944"
      ]
     },
     "execution_count": 21,
     "metadata": {},
     "output_type": "execute_result"
    }
   ],
   "source": [
    "get_turnover(rebalance_option='month', stock_return_df=ret, portfolio_matrix=portfolio_matrix)"
   ]
  },
  {
   "cell_type": "markdown",
   "metadata": {},
   "source": [
    "## net portfolio return\n",
    "The portfolio returns net of proportional transaction costs is calculated as\n",
    "$$\n",
    "p_{t}=\\left(1+\\tilde{p}_{t}\\right)\\left(1-c \\times \\text { Turnover }_{t-1}\\right)-1\n",
    "$$"
   ]
  },
  {
   "cell_type": "code",
   "execution_count": 43,
   "metadata": {},
   "outputs": [],
   "source": [
    "data_frequncy = 'monthly'\n",
    "data_name = 'industry'\n",
    "start='1969-07-01'\n",
    "end='2018-12-01'\n",
    "rebalance_frequncy= 'month'\n",
    "get_portfolio = get_gmv\n",
    "rolling_period = 120\n",
    "\n",
    "# data\n",
    "lib = data_library\n",
    "ret = lib.get_stock_returns(data_name, data_frequncy, start=start, end=end)\n",
    "rf = lib.get_risk_free_rates(frequency=data_frequncy)\n",
    "\n",
    "# portfolio matrix\n",
    "portfolio_manager = portfolio_generator()\n",
    "portfolio_manager.get_portfolio = get_portfolio\n",
    "portfolio_matrix = portfolio_manager.get_portfolio_matrix(\n",
    "    stock_return_df=ret,\n",
    "    rebalance_option=rebalance_frequncy,\n",
    "    rolling_period=rolling_period\n",
    ")\n",
    "\n",
    "# portfolio return\n",
    "portfolio_return = vectorized_backtesting(\n",
    "                            stock_return_df=ret,\n",
    "                            rebalance_option=rebalance_frequncy,\n",
    "                            portfolo_strategy_matrix=portfolio_matrix,\n",
    "                            rolling_period=rolling_period\n",
    "                        )\n",
    "\n",
    "# analysis\n",
    "sr = get_sharpe_ratio(portfolio_return,rf)\n",
    "turnover, turnover_vector = get_turnover(\n",
    "                        stock_return_df=ret,\n",
    "                        portfolio_matrix=portfolio_matrix,\n",
    "                        rebalance_option=rebalance_frequncy,\n",
    "                        rolling_period=rolling_period\n",
    ")\n",
    "#performance = pd.DataFrame([sr, turnover], index=['Sharpe ratio', 'Turnover'], columns=[data_name])"
   ]
  },
  {
   "cell_type": "code",
   "execution_count": 47,
   "metadata": {},
   "outputs": [],
   "source": [
    "def get_portfolio_net_return(\n",
    "    portfolio_return:pd.DataFrame,\n",
    "    turnover_vector:np.array,\n",
    "    c: float\n",
    "    ) -> pd.DataFrame:\n",
    "\n",
    "    '''\n",
    "    Calculate portfolio returns net of proportional transaction costs.\n",
    "    \n",
    "    '''\n",
    "\n",
    "    port_ret_vec = portfolio_return.values.reshape(-1)\n",
    "    port_net_ret_vec = (1 + port_ret_vec[1:]) * (1 - c * turnover_vector) - 1\n",
    "    port_net_ret_vec = np.append(port_ret_vec[0], port_net_ret_vec)\n",
    "    port_net_ret_df = pd.DataFrame(port_net_ret_vec, index=portfolio_return.index, columns=['portfolio net return'])\n",
    "\n",
    "    return port_net_ret_df\n"
   ]
  },
  {
   "cell_type": "code",
   "execution_count": 49,
   "metadata": {},
   "outputs": [
    {
     "data": {
      "text/plain": [
       "0.08241516066341377"
      ]
     },
     "execution_count": 49,
     "metadata": {},
     "output_type": "execute_result"
    }
   ],
   "source": [
    "net_ret = get_portfolio_net_return(portfolio_return, turnover_vector, 0.002)\n",
    "get_sharpe_ratio(net_ret, rf)"
   ]
  }
 ],
 "metadata": {
  "interpreter": {
   "hash": "33f99ea47d1967c482d1a96e8f57146526516fa4859dddae9b508497402c9084"
  },
  "kernelspec": {
   "display_name": "Python 3.7.10 64-bit ('portfolio': conda)",
   "language": "python",
   "name": "python3"
  },
  "language_info": {
   "codemirror_mode": {
    "name": "ipython",
    "version": 3
   },
   "file_extension": ".py",
   "mimetype": "text/x-python",
   "name": "python",
   "nbconvert_exporter": "python",
   "pygments_lexer": "ipython3",
   "version": "3.7.10"
  },
  "orig_nbformat": 4
 },
 "nbformat": 4,
 "nbformat_minor": 2
}
