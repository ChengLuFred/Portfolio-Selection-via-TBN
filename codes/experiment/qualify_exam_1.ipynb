{
 "cells": [
  {
   "cell_type": "code",
   "execution_count": null,
   "source": [
    "import sys\n",
    "sys.path.append('/Users/cheng/Google Drive/PhD/Research/Portfolio Selection via TBN/codes/')\n",
    "from module.strategy import *\n",
    "from itertools import chain\n",
    "import nonlinshrink as nls\n",
    "from sklearn.covariance import LedoitWolf\n",
    "from sklearn.covariance import OAS\n",
    "from scipy.stats import moment\n",
    "import numpy as np\n",
    "import pandas as pd\n",
    "\n",
    "from module.data_handler import data_handler"
   ],
   "outputs": [],
   "metadata": {}
  },
  {
   "cell_type": "markdown",
   "source": [
    "# Sample size effect"
   ],
   "metadata": {}
  },
  {
   "cell_type": "code",
   "execution_count": null,
   "source": [
    "def get_backtesting_performance_vector(strategy_object: object) -> np.array:\n",
    "    '''\n",
    "    Given a portfolio stratgy, the Sharpe ratio and average turnover are returned\n",
    "    '''\n",
    "\n",
    "    # backtesting period\n",
    "    year_start = 2001\n",
    "    year_end = 2017\n",
    "\n",
    "    # get backtesting time series\n",
    "    portfolio_returns_vector = strategy_object.get_portfolio_daily_return(year_start, year_end)\n",
    "    sharpe_ratio = strategy_object.get_sharpe_ratio()\n",
    "    turnover_vector = strategy_object.get_turn_over_for_each_period()\n",
    "\n",
    "    # get backtesting performance indicator\n",
    "    #sharpe_ratio = np.mean(sharpe_ratio_vector)\n",
    "    turnover = np.mean(turnover_vector)\n",
    "\n",
    "    return np.array([sharpe_ratio, turnover])"
   ],
   "outputs": [],
   "metadata": {}
  },
  {
   "cell_type": "markdown",
   "source": [
    "## sample 150"
   ],
   "metadata": {}
  },
  {
   "cell_type": "code",
   "execution_count": null,
   "source": [
    "# strategy agents\n",
    "sample_size = 150\n",
    "shrink_0_pct = Shrink_0(sample_size)\n",
    "shrink_50_pct = Shrink_50(sample_size)\n",
    "shrink_100_pct = Shrink_100(sample_size)\n",
    "shrink_ledoit = Linear_shrink_ledoit(sample_size)\n",
    "\n",
    "shrink_0_pct_tbn = Shrink_0_tbn(sample_size)\n",
    "shrink_50_pct_tbn = Shrink_50_tbn(sample_size)\n",
    "shrink_100_pct_tbn = Shrink_100_tbn(sample_size)\n",
    "shrink_tbn = Linear_shrink_tbn(sample_size)\n",
    "\n",
    "# strategy vector\n",
    "strategy_dict = {'shrink 0 pct': shrink_0_pct, \n",
    "                       'shrink 50 pct': shrink_50_pct,\n",
    "                       'shrink 100 pct': shrink_100_pct, \n",
    "                       'shrink ledoit': shrink_ledoit, \n",
    "                       'shrink 0 pct tbn': shrink_0_pct_tbn, \n",
    "                       'shrink 50 pct tbn': shrink_50_pct_tbn, \n",
    "                       'shrink 100 pct tbn': shrink_100_pct_tbn, \n",
    "                       'shrink_tbn': shrink_tbn\n",
    "}\n",
    "\n",
    "# backtest strategies\n",
    "backtest_performance_dict = {strategy_name: get_backtesting_performance_vector(strategy) for strategy_name, strategy in strategy_dict.items()}\n",
    "backtest_performance_df = pd.DataFrame(backtest_performance_dict).T\n",
    "backtest_performance_df.columns = ['Sharpe ratio', 'Turnover']\n",
    "backtest_performance_df"
   ],
   "outputs": [],
   "metadata": {}
  },
  {
   "cell_type": "code",
   "execution_count": null,
   "source": [
    "file_name = 'performance_table_150'\n",
    "label = 'tbl:sample 150'\n",
    "caption = 'Backtesting performance table on 150 companies from S\\&P 500'\n",
    "\n",
    "data_handler.export_dataframe_to_latex_table(backtest_performance_df, \n",
    "                                             table_name=file_name,\n",
    "                                             caption=caption,\n",
    "                                             label=label)"
   ],
   "outputs": [],
   "metadata": {}
  },
  {
   "cell_type": "markdown",
   "source": [
    "## Sample 50"
   ],
   "metadata": {}
  },
  {
   "cell_type": "code",
   "execution_count": null,
   "source": [
    "# strategy agents\n",
    "sample_size = 50\n",
    "shrink_0_pct = Shrink_0(sample_size)\n",
    "shrink_50_pct = Shrink_50(sample_size)\n",
    "shrink_100_pct = Shrink_100(sample_size)\n",
    "shrink_ledoit = Linear_shrink_ledoit(sample_size)\n",
    "\n",
    "shrink_0_pct_tbn = Shrink_0_tbn(sample_size)\n",
    "shrink_50_pct_tbn = Shrink_50_tbn(sample_size)\n",
    "shrink_100_pct_tbn = Shrink_100_tbn(sample_size)\n",
    "shrink_tbn = Linear_shrink_tbn(sample_size)\n",
    "\n",
    "# strategy vector\n",
    "strategy_dict = {'shrink 0 pct': shrink_0_pct, \n",
    "                       'shrink 50 pct': shrink_50_pct,\n",
    "                       'shrink 100 pct': shrink_100_pct, \n",
    "                       'shrink ledoit': shrink_ledoit, \n",
    "                       'shrink 0 pct tbn': shrink_0_pct_tbn, \n",
    "                       'shrink 50 pct tbn': shrink_50_pct_tbn, \n",
    "                       'shrink 100 pct tbn': shrink_100_pct_tbn, \n",
    "                       'shrink_tbn': shrink_tbn\n",
    "}\n",
    "\n",
    "# backtest strategies\n",
    "backtest_performance_dict = {strategy_name: get_backtesting_performance_vector(strategy) for strategy_name, strategy in strategy_dict.items()}\n",
    "backtest_performance_df = pd.DataFrame(backtest_performance_dict).T\n",
    "backtest_performance_df.columns = ['Sharpe ratio', 'Turnover']\n",
    "backtest_performance_df"
   ],
   "outputs": [],
   "metadata": {}
  },
  {
   "cell_type": "code",
   "execution_count": null,
   "source": [
    "file_name = 'performance_table_50'\n",
    "label = 'tbl:sample 50'\n",
    "caption = 'Backtesting performance table on 50 companies from S\\&P 500'\n",
    "\n",
    "data_handler.export_dataframe_to_latex_table(backtest_performance_df, \n",
    "                                             table_name=file_name,\n",
    "                                             caption=caption,\n",
    "                                             label=label)"
   ],
   "outputs": [],
   "metadata": {}
  }
 ],
 "metadata": {
  "orig_nbformat": 4,
  "language_info": {
   "name": "python"
  }
 },
 "nbformat": 4,
 "nbformat_minor": 2
}