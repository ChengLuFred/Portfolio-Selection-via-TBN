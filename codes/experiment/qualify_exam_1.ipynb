{
 "cells": [
  {
   "cell_type": "code",
   "execution_count": 1,
   "metadata": {},
   "outputs": [],
   "source": [
    "import sys\n",
    "sys.path.append('/Users/cheng/Google Drive/PhD/Research/Portfolio Selection via TBN/codes/')\n",
    "from module.strategy import *\n",
    "from itertools import chain\n",
    "import nonlinshrink as nls\n",
    "from sklearn.covariance import LedoitWolf\n",
    "from sklearn.covariance import OAS\n",
    "from scipy.stats import moment\n",
    "import numpy as np\n",
    "import pandas as pd\n",
    "\n",
    "from module.data_handler import data_handler"
   ]
  },
  {
   "cell_type": "markdown",
   "metadata": {},
   "source": [
    "# Sample size effect"
   ]
  },
  {
   "cell_type": "code",
   "execution_count": 2,
   "metadata": {},
   "outputs": [],
   "source": [
    "def get_backtesting_performance_vector(strategy_object: object) -> np.array:\n",
    "    '''\n",
    "    Given a portfolio stratgy, the Sharpe ratio and average turnover are returned\n",
    "    '''\n",
    "\n",
    "    # backtesting period\n",
    "    year_start = 2001\n",
    "    year_end = 2017\n",
    "\n",
    "    # get backtesting time series\n",
    "    portfolio_returns_vector = strategy_object.get_portfolio_daily_return(year_start, year_end)\n",
    "    sharpe_ratio = strategy_object.get_sharpe_ratio()\n",
    "    turnover_vector = strategy_object.get_turn_over_for_each_period()\n",
    "\n",
    "    # get backtesting performance indicator\n",
    "    #sharpe_ratio = np.mean(sharpe_ratio_vector)\n",
    "    turnover = np.mean(turnover_vector)\n",
    "\n",
    "    return np.array([sharpe_ratio, turnover])"
   ]
  },
  {
   "cell_type": "markdown",
   "metadata": {},
   "source": [
    "## sample 150"
   ]
  },
  {
   "cell_type": "code",
   "execution_count": null,
   "metadata": {},
   "outputs": [],
   "source": [
    "# strategy agents\n",
    "sample_size = 150\n",
    "shrink_0_pct = Shrink_0(sample_size)\n",
    "shrink_50_pct = Shrink_50(sample_size)\n",
    "shrink_100_pct = Shrink_100(sample_size)\n",
    "shrink_ledoit = Linear_shrink_ledoit(sample_size)\n",
    "\n",
    "shrink_0_pct_tbn = Shrink_0_tbn(sample_size)\n",
    "shrink_50_pct_tbn = Shrink_50_tbn(sample_size)\n",
    "shrink_100_pct_tbn = Shrink_100_tbn(sample_size)\n",
    "shrink_tbn = Linear_shrink_tbn(sample_size)\n",
    "\n",
    "# strategy vector\n",
    "strategy_dict = {'shrink 0 pct': shrink_0_pct, \n",
    "                       'shrink 50 pct': shrink_50_pct,\n",
    "                       'shrink 100 pct': shrink_100_pct, \n",
    "                       'shrink ledoit': shrink_ledoit, \n",
    "                       'shrink 0 pct tbn': shrink_0_pct_tbn, \n",
    "                       'shrink 50 pct tbn': shrink_50_pct_tbn, \n",
    "                       'shrink 100 pct tbn': shrink_100_pct_tbn, \n",
    "                       'shrink_tbn': shrink_tbn\n",
    "}\n",
    "\n",
    "# backtest strategies\n",
    "backtest_performance_dict = {strategy_name: get_backtesting_performance_vector(strategy) for strategy_name, strategy in strategy_dict.items()}\n",
    "backtest_performance_df = pd.DataFrame(backtest_performance_dict).T\n",
    "backtest_performance_df.columns = ['Sharpe ratio', 'Turnover']\n",
    "backtest_performance_df"
   ]
  },
  {
   "cell_type": "code",
   "execution_count": null,
   "metadata": {},
   "outputs": [],
   "source": [
    "file_name = 'performance_table_150'\n",
    "label = 'tbl:sample 150'\n",
    "caption = 'Backtesting performance table on 150 companies from S\\&P 500'\n",
    "\n",
    "data_handler.export_dataframe_to_latex_table(backtest_performance_df, \n",
    "                                             table_name=file_name,\n",
    "                                             caption=caption,\n",
    "                                             label=label)"
   ]
  },
  {
   "cell_type": "markdown",
   "metadata": {},
   "source": [
    "## Sample 50"
   ]
  },
  {
   "cell_type": "code",
   "execution_count": null,
   "metadata": {},
   "outputs": [],
   "source": [
    "# strategy agents\n",
    "sample_size = 50\n",
    "shrink_0_pct = Shrink_0(sample_size)\n",
    "shrink_50_pct = Shrink_50(sample_size)\n",
    "shrink_100_pct = Shrink_100(sample_size)\n",
    "shrink_ledoit = Linear_shrink_ledoit(sample_size)\n",
    "\n",
    "shrink_0_pct_tbn = Shrink_0_tbn(sample_size)\n",
    "shrink_50_pct_tbn = Shrink_50_tbn(sample_size)\n",
    "shrink_100_pct_tbn = Shrink_100_tbn(sample_size)\n",
    "shrink_tbn = Linear_shrink_tbn(sample_size)\n",
    "\n",
    "# strategy vector\n",
    "strategy_dict = {'shrink 0 pct': shrink_0_pct, \n",
    "                       'shrink 50 pct': shrink_50_pct,\n",
    "                       'shrink 100 pct': shrink_100_pct, \n",
    "                       'shrink ledoit': shrink_ledoit, \n",
    "                       'shrink 0 pct tbn': shrink_0_pct_tbn, \n",
    "                       'shrink 50 pct tbn': shrink_50_pct_tbn, \n",
    "                       'shrink 100 pct tbn': shrink_100_pct_tbn, \n",
    "                       'shrink tbn': shrink_tbn\n",
    "}\n",
    "\n",
    "# backtest strategies\n",
    "backtest_performance_dict = {strategy_name: get_backtesting_performance_vector(strategy) for strategy_name, strategy in strategy_dict.items()}\n",
    "backtest_performance_df = pd.DataFrame(backtest_performance_dict).T\n",
    "backtest_performance_df.columns = ['Sharpe ratio', 'Turnover']\n",
    "backtest_performance_df"
   ]
  },
  {
   "cell_type": "code",
   "execution_count": null,
   "metadata": {},
   "outputs": [],
   "source": [
    "file_name = 'performance_table_50'\n",
    "label = 'tbl:sample 50'\n",
    "caption = 'Backtesting performance table on 50 companies from S\\&P 500'\n",
    "\n",
    "data_handler.export_dataframe_to_latex_table(backtest_performance_df, \n",
    "                                             table_name=file_name,\n",
    "                                             caption=caption,\n",
    "                                             label=label)"
   ]
  },
  {
   "cell_type": "markdown",
   "metadata": {},
   "source": [
    "## Sample 10"
   ]
  },
  {
   "cell_type": "code",
   "execution_count": 4,
   "metadata": {},
   "outputs": [
    {
     "data": {
      "text/html": [
       "<div>\n",
       "<style scoped>\n",
       "    .dataframe tbody tr th:only-of-type {\n",
       "        vertical-align: middle;\n",
       "    }\n",
       "\n",
       "    .dataframe tbody tr th {\n",
       "        vertical-align: top;\n",
       "    }\n",
       "\n",
       "    .dataframe thead th {\n",
       "        text-align: right;\n",
       "    }\n",
       "</style>\n",
       "<table border=\"1\" class=\"dataframe\">\n",
       "  <thead>\n",
       "    <tr style=\"text-align: right;\">\n",
       "      <th></th>\n",
       "      <th>Sharpe ratio</th>\n",
       "      <th>Turnover</th>\n",
       "    </tr>\n",
       "  </thead>\n",
       "  <tbody>\n",
       "    <tr>\n",
       "      <th>shrink 0 pct</th>\n",
       "      <td>0.678594</td>\n",
       "      <td>0.132706</td>\n",
       "    </tr>\n",
       "    <tr>\n",
       "      <th>shrink 50 pct</th>\n",
       "      <td>0.646714</td>\n",
       "      <td>0.008979</td>\n",
       "    </tr>\n",
       "    <tr>\n",
       "      <th>shrink 100 pct</th>\n",
       "      <td>0.643599</td>\n",
       "      <td>0.000000</td>\n",
       "    </tr>\n",
       "    <tr>\n",
       "      <th>shrink ledoit</th>\n",
       "      <td>0.673507</td>\n",
       "      <td>0.120945</td>\n",
       "    </tr>\n",
       "    <tr>\n",
       "      <th>shrink 0 pct tbn</th>\n",
       "      <td>0.678594</td>\n",
       "      <td>0.132706</td>\n",
       "    </tr>\n",
       "    <tr>\n",
       "      <th>shrink 50 pct tbn</th>\n",
       "      <td>0.691153</td>\n",
       "      <td>0.098597</td>\n",
       "    </tr>\n",
       "    <tr>\n",
       "      <th>shrink 100 pct tbn</th>\n",
       "      <td>0.689826</td>\n",
       "      <td>0.081762</td>\n",
       "    </tr>\n",
       "    <tr>\n",
       "      <th>shrink_tbn</th>\n",
       "      <td>0.678081</td>\n",
       "      <td>0.127212</td>\n",
       "    </tr>\n",
       "  </tbody>\n",
       "</table>\n",
       "</div>"
      ],
      "text/plain": [
       "                    Sharpe ratio  Turnover\n",
       "shrink 0 pct            0.678594  0.132706\n",
       "shrink 50 pct           0.646714  0.008979\n",
       "shrink 100 pct          0.643599  0.000000\n",
       "shrink ledoit           0.673507  0.120945\n",
       "shrink 0 pct tbn        0.678594  0.132706\n",
       "shrink 50 pct tbn       0.691153  0.098597\n",
       "shrink 100 pct tbn      0.689826  0.081762\n",
       "shrink_tbn              0.678081  0.127212"
      ]
     },
     "execution_count": 4,
     "metadata": {},
     "output_type": "execute_result"
    }
   ],
   "source": [
    "# strategy agents\n",
    "sample_size = 5\n",
    "shrink_0_pct = Shrink_0(sample_size)\n",
    "shrink_50_pct = Shrink_50(sample_size)\n",
    "shrink_100_pct = Shrink_100(sample_size)\n",
    "shrink_ledoit = Linear_shrink_ledoit(sample_size)\n",
    "\n",
    "shrink_0_pct_tbn = Shrink_0_tbn(sample_size)\n",
    "shrink_50_pct_tbn = Shrink_50_tbn(sample_size)\n",
    "shrink_100_pct_tbn = Shrink_100_tbn(sample_size)\n",
    "shrink_tbn = Linear_shrink_tbn(sample_size)\n",
    "\n",
    "# strategy vector\n",
    "strategy_dict = {'shrink 0 pct': shrink_0_pct, \n",
    "                       'shrink 50 pct': shrink_50_pct,\n",
    "                       'shrink 100 pct': shrink_100_pct, \n",
    "                       'shrink ledoit': shrink_ledoit, \n",
    "                       'shrink 0 pct tbn': shrink_0_pct_tbn, \n",
    "                       'shrink 50 pct tbn': shrink_50_pct_tbn, \n",
    "                       'shrink 100 pct tbn': shrink_100_pct_tbn, \n",
    "                       'shrink tbn': shrink_tbn\n",
    "}\n",
    "\n",
    "# backtest strategies\n",
    "backtest_performance_dict = {strategy_name: get_backtesting_performance_vector(strategy) for strategy_name, strategy in strategy_dict.items()}\n",
    "backtest_performance_df = pd.DataFrame(backtest_performance_dict).T\n",
    "backtest_performance_df.columns = ['Sharpe ratio', 'Turnover']\n",
    "backtest_performance_df"
   ]
  }
 ],
 "metadata": {
  "interpreter": {
   "hash": "33f99ea47d1967c482d1a96e8f57146526516fa4859dddae9b508497402c9084"
  },
  "kernelspec": {
   "display_name": "Python 3.7.10 64-bit ('portfolio': conda)",
   "name": "python3"
  },
  "language_info": {
   "codemirror_mode": {
    "name": "ipython",
    "version": 3
   },
   "file_extension": ".py",
   "mimetype": "text/x-python",
   "name": "python",
   "nbconvert_exporter": "python",
   "pygments_lexer": "ipython3",
   "version": "3.7.10"
  },
  "orig_nbformat": 4
 },
 "nbformat": 4,
 "nbformat_minor": 2
}
