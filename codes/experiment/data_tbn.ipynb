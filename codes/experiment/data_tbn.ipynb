{
 "cells": [
  {
   "cell_type": "code",
   "execution_count": 1,
   "metadata": {},
   "outputs": [],
   "source": [
    "# basic\n",
    "import pandas as pd\n",
    "import numpy as np\n",
    "from tqdm import tqdm\n",
    "from datetime import datetime\n",
    "import time\n",
    "import glob\n",
    "import os\n",
    "from numpy.linalg import inv\n",
    "from bidict import bidict\n",
    "\n",
    "# user-defined\n",
    "import sys\n",
    "sys.path.append('/Users/cheng/Google Drive/PhD/Research/Portfolio Selection via TBN/codes/')\n",
    "from module import *\n",
    "from module.backtesting import *\n",
    "from module.agent_network import *\n",
    "from module.environment import market_envrionment\n",
    "from module.data_handler import *\n",
    "import tensorflow as tf\n",
    "tf.config.run_functions_eagerly(True)\n",
    "\n",
    "# visulization\n",
    "import igraph\n",
    "import cairocffi\n",
    "# import cairo\n",
    "import matplotlib.pyplot as plt\n",
    "\n",
    "# \n",
    "from scipy.sparse.csgraph import minimum_spanning_tree"
   ]
  },
  {
   "cell_type": "code",
   "execution_count": 4,
   "metadata": {},
   "outputs": [],
   "source": [
    "bt = vectorized_backtesting()\n",
    "db = data_handler()\n",
    "np.random.seed(0)"
   ]
  },
  {
   "cell_type": "code",
   "execution_count": 5,
   "metadata": {},
   "outputs": [],
   "source": [
    "DIJA_subset_gvkey_file_path = '/Users/cheng/Google Drive/PhD/Research/Portfolio Selection via TBN/data/Data/gvkey_ticker.csv'\n",
    "DIJA_subset_gvkey_df = pd.read_csv(DIJA_subset_gvkey_file_path, header=0, index_col=0, engine='c')"
   ]
  },
  {
   "cell_type": "code",
   "execution_count": 8,
   "metadata": {},
   "outputs": [],
   "source": [
    "DIJA_subset_gvkey_mapping = { gvkey:ticker for gvkey, ticker in zip(DIJA_subset_gvkey_df.gvkey, DIJA_subset_gvkey_df.TICKER)}"
   ]
  },
  {
   "cell_type": "code",
   "execution_count": 9,
   "metadata": {},
   "outputs": [],
   "source": [
    "crsp_subset_gvkey = dh.company_gvkey_vector\n",
    "DIJA_subset_gvkey = DIJA_subset_gvkey_df.gvkey"
   ]
  },
  {
   "cell_type": "code",
   "execution_count": 11,
   "metadata": {},
   "outputs": [],
   "source": [
    "DIJA_missing_gvkey = [gvkey for gvkey in DIJA_subset_gvkey if gvkey not in crsp_subset_gvkey]"
   ]
  },
  {
   "cell_type": "code",
   "execution_count": 15,
   "metadata": {},
   "outputs": [],
   "source": [
    "DIJA_missing_ticker = [DIJA_subset_gvkey_mapping[gvkey] for gvkey in DIJA_missing_gvkey]"
   ]
  },
  {
   "cell_type": "code",
   "execution_count": null,
   "metadata": {},
   "outputs": [],
   "source": []
  },
  {
   "cell_type": "code",
   "execution_count": 17,
   "metadata": {},
   "outputs": [
    {
     "data": {
      "text/plain": [
       "{'CRM',\n",
       " 'CSCO',\n",
       " 'CVX',\n",
       " 'DOW',\n",
       " 'GS',\n",
       " 'HD',\n",
       " 'HON',\n",
       " 'JPM',\n",
       " 'NKE',\n",
       " 'TRV',\n",
       " 'UNH',\n",
       " 'V',\n",
       " 'VZ',\n",
       " 'WBA',\n",
       " 'WMT'}"
      ]
     },
     "execution_count": 17,
     "metadata": {},
     "output_type": "execute_result"
    }
   ],
   "source": [
    "set(DIJA_missing_ticker)"
   ]
  },
  {
   "cell_type": "code",
   "execution_count": 3,
   "metadata": {},
   "outputs": [
    {
     "name": "stderr",
     "output_type": "stream",
     "text": [
      "100%|██████████| 32/32 [16:31<00:00, 30.98s/it]\n"
     ]
    }
   ],
   "source": [
    "sample_size = 100\n",
    "company_subset_gvkey_vector_100 = np.random.choice(db.company_gvkey_vector, sample_size, replace=False)\n",
    "db.extract_TNIC_network_subset(key_list= company_subset_gvkey_vector_100,\n",
    "                                file_input_path='/Users/cheng/Documents/Research Data/Text Base Network/new/tnic_all_data/',\n",
    "                                file_output_path='/Users/cheng/Google Drive/PhD/Research/Portfolio Selection via TBN/data/TBN/sample_company_100/')"
   ]
  },
  {
   "cell_type": "code",
   "execution_count": 4,
   "metadata": {},
   "outputs": [
    {
     "name": "stderr",
     "output_type": "stream",
     "text": [
      "100%|██████████| 32/32 [09:58<00:00, 18.70s/it]\n"
     ]
    }
   ],
   "source": [
    "sample_size = 50\n",
    "company_subset_gvkey_vector_50 = np.random.choice(db.company_gvkey_vector, sample_size, replace=False)\n",
    "db.extract_TNIC_network_subset(key_list= company_subset_gvkey_vector_50,\n",
    "                                file_input_path='/Users/cheng/Documents/Research Data/Text Base Network/new/tnic_all_data/',\n",
    "                                file_output_path='/Users/cheng/Google Drive/PhD/Research/Portfolio Selection via TBN/data/TBN/sample_company_50/')"
   ]
  },
  {
   "cell_type": "code",
   "execution_count": 6,
   "metadata": {},
   "outputs": [
    {
     "name": "stderr",
     "output_type": "stream",
     "text": [
      "100%|██████████| 32/32 [04:59<00:00,  9.37s/it]\n"
     ]
    }
   ],
   "source": [
    "sample_size = 5\n",
    "company_subset_gvkey_vector_5 = np.random.choice(db.company_gvkey_vector, sample_size, replace=False)\n",
    "db.extract_TNIC_network_subset(key_list= company_subset_gvkey_vector_5,\n",
    "                                file_input_path='/Users/cheng/Documents/Research Data/Text Base Network/new/tnic_all_data/',\n",
    "                                file_output_path='/Users/cheng/Google Drive/PhD/Research/Portfolio Selection via TBN/data/TBN/sample_company_5/')"
   ]
  },
  {
   "cell_type": "code",
   "execution_count": 32,
   "metadata": {},
   "outputs": [],
   "source": [
    "stock_return_supp_file_path = '/Users/cheng/Google Drive/PhD/Research/Portfolio Selection via TBN/data/Data/permno_ret2.csv'\n",
    "stock_return_supp = pd.read_csv(stock_return_supp_file_path, index_col=[0,1])"
   ]
  },
  {
   "cell_type": "code",
   "execution_count": 38,
   "metadata": {},
   "outputs": [],
   "source": [
    "stock_return_supp = stock_return_supp.unstack().T"
   ]
  },
  {
   "cell_type": "code",
   "execution_count": 42,
   "metadata": {},
   "outputs": [],
   "source": [
    "stock_date_format = '%m/%d/%Y' \n",
    "stock_return_supp.index = [datetime.strptime(x, stock_date_format) for _, x in stock_return_supp.index]"
   ]
  },
  {
   "cell_type": "code",
   "execution_count": 48,
   "metadata": {},
   "outputs": [],
   "source": [
    "stock_return_supp = stock_return_supp.sort_index()"
   ]
  },
  {
   "cell_type": "code",
   "execution_count": 61,
   "metadata": {},
   "outputs": [],
   "source": [
    "stock_return_original_file_path = '/Users/cheng/Google Drive/PhD/Research/Portfolio Selection via TBN/data/Data/permno_ret.csv'\n",
    "stock_return_origin = pd.read_csv(stock_return_original_file_path, header=0, index_col=0)"
   ]
  },
  {
   "cell_type": "code",
   "execution_count": 68,
   "metadata": {},
   "outputs": [],
   "source": [
    "stock_date_format = '%m/%d/%y' \n",
    "stock_return_origin = stock_return_origin.dropna(axis='columns') # drop incomplete data to make TBN consitency cross year\n",
    "stock_return_origin.columns = [int(x) for x in stock_return_origin.columns]\n",
    "stock_return_origin.index = [datetime.strptime(x, stock_date_format) for x in stock_return_origin.index]"
   ]
  },
  {
   "cell_type": "code",
   "execution_count": 72,
   "metadata": {},
   "outputs": [],
   "source": [
    "result = pd.concat([stock_return_origin, stock_return_supp], axis=1)"
   ]
  },
  {
   "cell_type": "code",
   "execution_count": 74,
   "metadata": {},
   "outputs": [],
   "source": [
    "output_path = '/Users/cheng/Google Drive/PhD/Research/Portfolio Selection via TBN/data/Data/stock_return_crsp.csv'\n",
    "result.to_csv(output_path)"
   ]
  },
  {
   "cell_type": "code",
   "execution_count": 2,
   "metadata": {},
   "outputs": [],
   "source": [
    "TBN_DIJA_file_path = '/Users/cheng/Google Drive/PhD/Research/Portfolio Selection via TBN/data/TBN/sample_company_30/TBN_2010.csv'\n",
    "TBN_DIJA = pd.read_csv(TBN_DIJA_file_path, header=0, index_col=0)\n",
    "DIJA_subset_gvkey_list = [int(gvkey) for gvkey in TBN_DIJA.columns]"
   ]
  },
  {
   "cell_type": "code",
   "execution_count": 3,
   "metadata": {},
   "outputs": [
    {
     "name": "stderr",
     "output_type": "stream",
     "text": [
      "/Users/cheng/opt/anaconda3/lib/python3.7/site-packages/IPython/core/interactiveshell.py:3418: DtypeWarning: Columns (147,155,156,157,158) have mixed types.Specify dtype option on import or set low_memory=False.\n",
      "  exec(code_obj, self.user_global_ns, self.user_ns)\n"
     ]
    }
   ],
   "source": [
    "dh = data_handler()\n",
    "sample_gvkey_list = dh.PERMNO_to_gvkey_mapping.values()\n"
   ]
  },
  {
   "cell_type": "code",
   "execution_count": 9,
   "metadata": {},
   "outputs": [
    {
     "data": {
      "text/plain": [
       "True"
      ]
     },
     "execution_count": 9,
     "metadata": {},
     "output_type": "execute_result"
    }
   ],
   "source": [
    "59459 in dh.company_PERMNO_vector"
   ]
  },
  {
   "cell_type": "code",
   "execution_count": 13,
   "metadata": {},
   "outputs": [
    {
     "data": {
      "text/plain": [
       "3243"
      ]
     },
     "execution_count": 13,
     "metadata": {},
     "output_type": "execute_result"
    }
   ],
   "source": [
    "dh.PERMNO_to_gvkey_mapping[70519]"
   ]
  },
  {
   "cell_type": "code",
   "execution_count": 12,
   "metadata": {},
   "outputs": [
    {
     "data": {
      "text/plain": [
       "[3243]"
      ]
     },
     "execution_count": 12,
     "metadata": {},
     "output_type": "execute_result"
    }
   ],
   "source": [
    "[gvkey for gvkey in DIJA_subset_gvkey_list if gvkey not in dh.company_gvkey_vector]"
   ]
  },
  {
   "cell_type": "code",
   "execution_count": null,
   "metadata": {},
   "outputs": [],
   "source": [
    "DIJA_subset_gvkey_list"
   ]
  },
  {
   "cell_type": "code",
   "execution_count": 4,
   "metadata": {},
   "outputs": [
    {
     "name": "stderr",
     "output_type": "stream",
     "text": [
      "100%|██████████| 32/32 [06:54<00:00, 12.96s/it]\n"
     ]
    }
   ],
   "source": [
    "dh.extract_TNIC_network_subset(key_list=DIJA_subset_gvkey_list, file_output_path='/Users/cheng/Google Drive/PhD/Research/Portfolio Selection via TBN/data/TBN/sample_djia_23/')"
   ]
  },
  {
   "cell_type": "code",
   "execution_count": null,
   "metadata": {},
   "outputs": [],
   "source": []
  }
 ],
 "metadata": {
  "interpreter": {
   "hash": "fdd8af5c72bf063d695c5541d44f4d44c865705ad80df3fd1225aae714ddac55"
  },
  "kernelspec": {
   "display_name": "Python 3.7.6 64-bit ('base': conda)",
   "name": "python3"
  },
  "language_info": {
   "codemirror_mode": {
    "name": "ipython",
    "version": 3
   },
   "file_extension": ".py",
   "mimetype": "text/x-python",
   "name": "python",
   "nbconvert_exporter": "python",
   "pygments_lexer": "ipython3",
   "version": "3.7.6"
  },
  "orig_nbformat": 4
 },
 "nbformat": 4,
 "nbformat_minor": 2
}
