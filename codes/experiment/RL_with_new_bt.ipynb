{
 "cells": [
  {
   "cell_type": "code",
   "execution_count": 1,
   "metadata": {},
   "outputs": [],
   "source": [
    "import sys\n",
    "sys.path.append('/Users/cheng/Google Drive/PhD/Research/Portfolio Selection via TBN/codes/')\n",
    "import warnings\n",
    "warnings.filterwarnings(\"ignore\")\n",
    "from module.backtesting import vectorized_backtesting\n",
    "from module.environment_with_new_bt import market_environment\n",
    "from module.agent_network_new import DQNAgent\n",
    "from module.RL_trainer import training, testing, is_converge\n",
    "import pandas as pd\n",
    "import numpy as np\n",
    "from tqdm import tqdm\n",
    "import tensorflow as tf\n",
    "import matplotlib.pyplot as plt"
   ]
  },
  {
   "cell_type": "code",
   "execution_count": 15,
   "metadata": {},
   "outputs": [
    {
     "name": "stderr",
     "output_type": "stream",
     "text": [
      "100%|██████████| 1000/1000 [09:46<00:00,  1.70it/s]\n",
      " 75%|███████▌  | 750/1000 [07:03<02:21,  1.77it/s]"
     ]
    },
    {
     "name": "stdout",
     "output_type": "stream",
     "text": [
      "Converged on episode 751\n"
     ]
    },
    {
     "name": "stderr",
     "output_type": "stream",
     "text": [
      "\n",
      " 20%|██        | 200/1000 [01:40<06:43,  1.98it/s]"
     ]
    },
    {
     "name": "stdout",
     "output_type": "stream",
     "text": [
      "Converged on episode 201\n"
     ]
    },
    {
     "name": "stderr",
     "output_type": "stream",
     "text": [
      "\n",
      " 90%|█████████ | 900/1000 [08:12<00:54,  1.83it/s]"
     ]
    },
    {
     "name": "stdout",
     "output_type": "stream",
     "text": [
      "Converged on episode 901\n"
     ]
    },
    {
     "name": "stderr",
     "output_type": "stream",
     "text": [
      "\n",
      "100%|██████████| 1000/1000 [09:22<00:00,  1.78it/s]\n",
      "100%|██████████| 1000/1000 [09:08<00:00,  1.82it/s]\n",
      "100%|██████████| 1000/1000 [09:00<00:00,  1.85it/s]\n",
      "100%|██████████| 1000/1000 [09:08<00:00,  1.82it/s]\n",
      " 70%|███████   | 700/1000 [06:20<02:43,  1.84it/s]"
     ]
    },
    {
     "name": "stdout",
     "output_type": "stream",
     "text": [
      "Converged on episode 701\n"
     ]
    },
    {
     "name": "stderr",
     "output_type": "stream",
     "text": [
      "\n"
     ]
    }
   ],
   "source": [
    "# hyper-parameter\n",
    "np.random.seed(2021)\n",
    "tf.random.set_seed(1234)\n",
    "window_size = 4\n",
    "year_start = 2005\n",
    "year_end = 2017\n",
    "year_range = np.arange(year_start, year_end+1)\n",
    "training_idx_list = [np.arange(year, year + window_size, 1) for year in year_range[:-window_size]]\n",
    "performance_df = pd.DataFrame()\n",
    "\n",
    "# training\n",
    "for training_years in training_idx_list:\n",
    "    # training\n",
    "    agent, history = training(training_years)\n",
    "\n",
    "    # testing\n",
    "    testing_period = np.append(training_years, training_years[-1] + 1)\n",
    "    performance = testing(testing_period, agent)\n",
    "\n",
    "    # store performance data\n",
    "    performance_test = pd.DataFrame(performance)\n",
    "    performance_df = pd.concat([performance_df, performance_test])"
   ]
  },
  {
   "cell_type": "code",
   "execution_count": 18,
   "metadata": {},
   "outputs": [
    {
     "data": {
      "text/html": [
       "<div>\n",
       "<style scoped>\n",
       "    .dataframe tbody tr th:only-of-type {\n",
       "        vertical-align: middle;\n",
       "    }\n",
       "\n",
       "    .dataframe tbody tr th {\n",
       "        vertical-align: top;\n",
       "    }\n",
       "\n",
       "    .dataframe thead th {\n",
       "        text-align: right;\n",
       "    }\n",
       "</style>\n",
       "<table border=\"1\" class=\"dataframe\">\n",
       "  <thead>\n",
       "    <tr style=\"text-align: right;\">\n",
       "      <th></th>\n",
       "      <th>year</th>\n",
       "      <th>action</th>\n",
       "      <th>reward</th>\n",
       "      <th>turnover</th>\n",
       "    </tr>\n",
       "  </thead>\n",
       "  <tbody>\n",
       "    <tr>\n",
       "      <th>0</th>\n",
       "      <td>2001</td>\n",
       "      <td>0.0</td>\n",
       "      <td>-0.234505</td>\n",
       "      <td>0.350673</td>\n",
       "    </tr>\n",
       "    <tr>\n",
       "      <th>0</th>\n",
       "      <td>2002</td>\n",
       "      <td>0.1</td>\n",
       "      <td>-0.549552</td>\n",
       "      <td>0.394568</td>\n",
       "    </tr>\n",
       "    <tr>\n",
       "      <th>0</th>\n",
       "      <td>2003</td>\n",
       "      <td>0.1</td>\n",
       "      <td>1.675664</td>\n",
       "      <td>0.333814</td>\n",
       "    </tr>\n",
       "    <tr>\n",
       "      <th>0</th>\n",
       "      <td>2004</td>\n",
       "      <td>0.7</td>\n",
       "      <td>1.220477</td>\n",
       "      <td>0.755806</td>\n",
       "    </tr>\n",
       "    <tr>\n",
       "      <th>0</th>\n",
       "      <td>2005</td>\n",
       "      <td>0.8</td>\n",
       "      <td>0.406161</td>\n",
       "      <td>0.008312</td>\n",
       "    </tr>\n",
       "    <tr>\n",
       "      <th>0</th>\n",
       "      <td>2006</td>\n",
       "      <td>0.7</td>\n",
       "      <td>1.199334</td>\n",
       "      <td>0.009211</td>\n",
       "    </tr>\n",
       "    <tr>\n",
       "      <th>0</th>\n",
       "      <td>2007</td>\n",
       "      <td>0.3</td>\n",
       "      <td>0.391864</td>\n",
       "      <td>0.119553</td>\n",
       "    </tr>\n",
       "    <tr>\n",
       "      <th>0</th>\n",
       "      <td>2008</td>\n",
       "      <td>0.3</td>\n",
       "      <td>-0.651304</td>\n",
       "      <td>0.621683</td>\n",
       "    </tr>\n",
       "    <tr>\n",
       "      <th>0</th>\n",
       "      <td>2009</td>\n",
       "      <td>0.3</td>\n",
       "      <td>1.039701</td>\n",
       "      <td>0.657197</td>\n",
       "    </tr>\n",
       "    <tr>\n",
       "      <th>0</th>\n",
       "      <td>2010</td>\n",
       "      <td>0.8</td>\n",
       "      <td>0.881759</td>\n",
       "      <td>0.042713</td>\n",
       "    </tr>\n",
       "    <tr>\n",
       "      <th>0</th>\n",
       "      <td>2011</td>\n",
       "      <td>0.6</td>\n",
       "      <td>0.620723</td>\n",
       "      <td>0.073638</td>\n",
       "    </tr>\n",
       "    <tr>\n",
       "      <th>0</th>\n",
       "      <td>2012</td>\n",
       "      <td>0.0</td>\n",
       "      <td>0.007403</td>\n",
       "      <td>0.882083</td>\n",
       "    </tr>\n",
       "    <tr>\n",
       "      <th>0</th>\n",
       "      <td>2013</td>\n",
       "      <td>0.9</td>\n",
       "      <td>2.681157</td>\n",
       "      <td>0.066681</td>\n",
       "    </tr>\n",
       "    <tr>\n",
       "      <th>0</th>\n",
       "      <td>2014</td>\n",
       "      <td>0.9</td>\n",
       "      <td>1.311497</td>\n",
       "      <td>0.102611</td>\n",
       "    </tr>\n",
       "    <tr>\n",
       "      <th>0</th>\n",
       "      <td>2015</td>\n",
       "      <td>0.3</td>\n",
       "      <td>0.084418</td>\n",
       "      <td>0.043565</td>\n",
       "    </tr>\n",
       "    <tr>\n",
       "      <th>0</th>\n",
       "      <td>2016</td>\n",
       "      <td>0.8</td>\n",
       "      <td>0.888194</td>\n",
       "      <td>0.007649</td>\n",
       "    </tr>\n",
       "    <tr>\n",
       "      <th>0</th>\n",
       "      <td>2017</td>\n",
       "      <td>0.6</td>\n",
       "      <td>3.473341</td>\n",
       "      <td>0.216948</td>\n",
       "    </tr>\n",
       "  </tbody>\n",
       "</table>\n",
       "</div>"
      ],
      "text/plain": [
       "   year  action    reward  turnover\n",
       "0  2001     0.0 -0.234505  0.350673\n",
       "0  2002     0.1 -0.549552  0.394568\n",
       "0  2003     0.1  1.675664  0.333814\n",
       "0  2004     0.7  1.220477  0.755806\n",
       "0  2005     0.8  0.406161  0.008312\n",
       "0  2006     0.7  1.199334  0.009211\n",
       "0  2007     0.3  0.391864  0.119553\n",
       "0  2008     0.3 -0.651304  0.621683\n",
       "0  2009     0.3  1.039701  0.657197\n",
       "0  2010     0.8  0.881759  0.042713\n",
       "0  2011     0.6  0.620723  0.073638\n",
       "0  2012     0.0  0.007403  0.882083\n",
       "0  2013     0.9  2.681157  0.066681\n",
       "0  2014     0.9  1.311497  0.102611\n",
       "0  2015     0.3  0.084418  0.043565\n",
       "0  2016     0.8  0.888194  0.007649\n",
       "0  2017     0.6  3.473341  0.216948"
      ]
     },
     "execution_count": 18,
     "metadata": {},
     "output_type": "execute_result"
    }
   ],
   "source": [
    "RL_id_df = pd.concat([df,performance_df])\n",
    "RL_id_df"
   ]
  },
  {
   "cell_type": "code",
   "execution_count": 20,
   "metadata": {},
   "outputs": [],
   "source": [
    "RL_id_df.to_csv('/Users/cheng/Google Drive/PhD/Research/Portfolio Selection via TBN/output/data/RL_identity_ts.csv', index=False)"
   ]
  },
  {
   "cell_type": "code",
   "execution_count": 14,
   "metadata": {},
   "outputs": [],
   "source": [
    "df = pd.concat([performance_df_1, performance_df_2, performance_df_3, performance_df_4])\n",
    "df.to_csv('/Users/cheng/Google Drive/PhD/Research/Portfolio Selection via TBN/output/data/RL_identity_ts_2001_2008.csv', index=False)"
   ]
  },
  {
   "cell_type": "markdown",
   "metadata": {},
   "source": [
    "## Debuging"
   ]
  },
  {
   "cell_type": "code",
   "execution_count": 2,
   "metadata": {},
   "outputs": [],
   "source": [
    "# initialize environment and agent\n",
    "year_start = 1997\n",
    "year_end = 2017\n",
    "year_range = np.arange(year_start, year_end+1)\n",
    "env = market_environment(year_range)\n",
    "ACTION_MAPPING = env.ACTION_MAPPING\n",
    "state_size = env.observation_space.shape[1] # given from environment\n",
    "action_size = len(ACTION_MAPPING)\n",
    "agent = DQNAgent(state_size, action_size)\n",
    "EPISODE_RANGE = 1000\n",
    "batch_size = 6\n",
    "converge = False\n",
    "window_size = 50\n",
    "history = {'episode': [], \"epsilon\": [],'rewards': []}\n",
    "path = '../log/'\n",
    "model_name = 'DQN_'"
   ]
  },
  {
   "cell_type": "code",
   "execution_count": 3,
   "metadata": {},
   "outputs": [],
   "source": [
    "state = env.reset()\n",
    "rewards = 0"
   ]
  },
  {
   "cell_type": "code",
   "execution_count": 4,
   "metadata": {},
   "outputs": [],
   "source": [
    "action = agent.act(state) \n",
    "\n",
    "# environment responds to the action and return new state and reward\n",
    "next_state, reward, done, info = env.step(ACTION_MAPPING[action])\n",
    "\n",
    "# record reward\n",
    "rewards += reward\n",
    "\n",
    "# record the experience for replay\n",
    "agent.memorize(state, action, reward, next_state, done) # record every trading \n",
    "\n",
    "# transit to next state\n",
    "state = next_state"
   ]
  },
  {
   "cell_type": "code",
   "execution_count": 5,
   "metadata": {},
   "outputs": [
    {
     "data": {
      "text/plain": [
       "42"
      ]
     },
     "execution_count": 5,
     "metadata": {},
     "output_type": "execute_result"
    }
   ],
   "source": [
    "len(env.portfolio[0].tolist())"
   ]
  },
  {
   "cell_type": "code",
   "execution_count": 8,
   "metadata": {},
   "outputs": [],
   "source": [
    "# initialize environment and agent\n",
    "env = market_environment(year_range)\n",
    "ACTION_MAPPING = env.ACTION_MAPPING\n",
    "state_size = env.observation_space.shape[1] # given from environment\n",
    "action_size = len(ACTION_MAPPING)\n",
    "agent = DQNAgent(state_size, action_size)\n",
    "EPISODE_RANGE = 1000\n",
    "batch_size = 6\n",
    "converge = False\n",
    "window_size = 50\n",
    "history = {'episode': [], \"epsilon\": [],'rewards': []}\n",
    "path = '../log/'\n",
    "model_name = 'DQN_'"
   ]
  },
  {
   "cell_type": "code",
   "execution_count": 10,
   "metadata": {},
   "outputs": [],
   "source": [
    "file_path = '/Users/cheng/Google Drive/PhD/Research/Portfolio Selection via TBN/output/table/RL_performance_50_tbn.csv'\n",
    "performance_df.to_csv(file_path)\n"
   ]
  },
  {
   "cell_type": "code",
   "execution_count": 3,
   "metadata": {},
   "outputs": [
    {
     "name": "stderr",
     "output_type": "stream",
     "text": [
      "100%|██████████| 1000/1000 [09:51<00:00,  1.69it/s]\n"
     ]
    }
   ],
   "source": [
    "training_years = training_idx_list[0]\n",
    "agent, history = training(training_years)\n",
    "\n"
   ]
  },
  {
   "cell_type": "code",
   "execution_count": 3,
   "metadata": {},
   "outputs": [
    {
     "data": {
      "image/png": "[encoded data removed]",
      "text/plain": [
       "<Figure size 1080x360 with 1 Axes>"
      ]
     },
     "metadata": {
      "needs_background": "light"
     },
     "output_type": "display_data"
    },
    {
     "data": {
      "image/png": "[encoded data removed]",
      "text/plain": [
       "<Figure size 1080x360 with 1 Axes>"
      ]
     },
     "metadata": {
      "needs_background": "light"
     },
     "output_type": "display_data"
    }
   ],
   "source": [
    "df = pd.DataFrame(history, columns =[\"episode\", \"epsilon\",'rewards'])\n",
    "df.set_index(\"episode\")\n",
    "df['rewards'].rolling(5).mean().plot(figsize=(15,5))\n",
    "plt.show()\n",
    "\n",
    "df[[\"epsilon\"]].plot(figsize=(15,5))\n",
    "plt.show()"
   ]
  },
  {
   "cell_type": "code",
   "execution_count": 23,
   "metadata": {},
   "outputs": [
    {
     "name": "stdout",
     "output_type": "stream",
     "text": [
      "done\n"
     ]
    }
   ],
   "source": [
    "# take an action\n",
    "action = agent.act(state) \n",
    "\n",
    "# environment responds to the action and return new state and reward\n",
    "next_state, reward, done, info = env.step(ACTION_MAPPING[action])\n",
    "\n",
    "# record reward\n",
    "rewards += reward\n",
    "\n",
    "# record the experience for replay\n",
    "agent.memorize(state, action, reward, next_state, done) # record every trading \n",
    "\n",
    "# transit to next state\n",
    "state = next_state\n",
    "\n",
    "# determine if the training is over or not\n",
    "if done:\n",
    "    print('done')"
   ]
  }
 ],
 "metadata": {
  "interpreter": {
   "hash": "33f99ea47d1967c482d1a96e8f57146526516fa4859dddae9b508497402c9084"
  },
  "kernelspec": {
   "display_name": "Python 3.7.10 64-bit ('portfolio': conda)",
   "language": "python",
   "name": "python3"
  },
  "language_info": {
   "codemirror_mode": {
    "name": "ipython",
    "version": 3
   },
   "file_extension": ".py",
   "mimetype": "text/x-python",
   "name": "python",
   "nbconvert_exporter": "python",
   "pygments_lexer": "ipython3",
   "version": "3.7.10"
  },
  "orig_nbformat": 4
 },
 "nbformat": 4,
 "nbformat_minor": 2
}
