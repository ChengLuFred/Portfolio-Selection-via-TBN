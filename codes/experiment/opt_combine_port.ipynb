{
 "cells": [
  {
   "cell_type": "markdown",
   "metadata": {},
   "source": [
    "# Replication of 'Optimal Portfolio Choice with Estimation Risk'\n",
    "\n",
    "Kan, R., Wang, X., & Zhou, G. (2021). Optimal Portfolio Choice with Estimation Risk: No Risk-Free Asset Case. Management Science. https://doi.org/10.1287/mnsc.2021.3989\n"
   ]
  },
  {
   "cell_type": "markdown",
   "metadata": {},
   "source": [
    "## 1. Porfolio construct\n",
    "\n",
    "Target portfolio - optimal combining portfolio with shrunk covariance matrix\n",
    "\n",
    "\\begin{equation}\n",
    "\\hat{w}_{q, t}^{L W 2004}=\\hat{w}_{g, t}^{L W 2004}+\\frac{g_{3}\\left(\\hat{\\psi}_{t}^{L}\\right)}{\\gamma} \\hat{w}_{z, t}^{L W 2004}\n",
    "\\end{equation}\n",
    "\n",
    "Benchmark portfolio - optimal combining portfolio\n",
    "\n",
    "\\begin{equation}\n",
    "\\hat{w}_{q, t}=\\hat{w}_{t}\\left(\\hat{c}_{t}\\right)=\\hat{w}_{g, t}+\\frac{g_{3}\\left(\\hat{\\psi}_{t}^{2}\\right)}{\\gamma} \\hat{w}_{z, t}\n",
    "\\end{equation}\n",
    "\n",
    "Where,\n",
    "\n",
    "\\begin{align}\n",
    "\\hat{w}_{g, t}^{L W 2004} &=\\frac{\\left(\\hat{\\Sigma}_{t}^{L W 2004}\\right)^{-1} 1_{N}}{1_{N}^{\\prime}\\left(\\hat{\\Sigma}_{t}^{L W 2004}\\right)^{-1} 1_{N}} \\\\\n",
    "\n",
    "\\hat{w}_{g, t} &=\\frac{\\hat{\\Sigma}_{t}^{-1} 1_{N}}{1_{N}^{\\prime} \\hat{\\Sigma}_{t}^{-1} 1_{N}}\\\\\n",
    "\n",
    "\\hat{w}_{z, t}^{L W 2004}&=\\left(\\hat{\\Sigma}_{t}^{L W 2004}\\right)^{-1}\\left[\\hat{\\mu}_{t}-1_{N}\\left(\\hat{\\mu}_{t}^{\\prime} \\hat{w}_{g, t}^{L W 2004}\\right)\\right]\\\\\n",
    "\n",
    "\\hat{w}_{z, t}&=\\hat{\\Sigma}_{t}^{-1}\\left(\\hat{\\mu}_{t}-1_{N} \\hat{\\mu}_{g, t}\\right)\\\\\n",
    "\n",
    "\\hat{c}_{t}&=g_{3}\\left(\\hat{\\psi}_{t}^{2}\\right)=\\frac{k \\hat{\\psi}_{a, t}^{2}}{\\hat{\\psi}_{a, t}^{2}+\\frac{N-1}{h}}\\\\\n",
    "\n",
    "\\hat{\\psi}_{a, t}^{2}&=\\frac{(h-N-1) \\hat{\\psi}_{t}^{2}-(N-1)}{h}+\\frac{2\\left(\\hat{\\psi}_{t}^{2}\\right)^{\\frac{N-1}{2}}\\left(1+\\hat{\\psi}_{t}^{2}\\right)^{-\\frac{h-2}{2}}}{h \\mathrm{~B}_{\\hat{\\psi}_{t}^{2} /\\left(1+\\hat{\\psi}_{t}^{2}\\right)}((N-1) / 2,(h-N+1) / 2)}\\\\\n",
    "\n",
    "\\hat{\\psi}_{t}^{2}&=\\hat{\\mu}_{t}^{\\prime} \\hat{\\Sigma}_{t}^{-1} \\hat{\\mu}_{t}-\\frac{\\left(1_{N}^{\\prime} \\hat{\\Sigma}_{t}^{-1} \\hat{\\mu}_{t}\\right)^{2}}{\\left(1_{N}^{\\prime} \\hat{\\Sigma}_{t}^{-1} 1_{N}\\right)}=\\frac{z_{2}^{2}+u_{0}}{v_{2}}\\\\\n",
    "\n",
    "\\hat{\\Sigma}_{t}^{L W 2004}&=\\left(1-\\rho_{t}\\right) \\hat{\\Sigma}_{t}+\\rho_{t} v_{t} I_{N}\\\\\n",
    "\n",
    "\\hat{\\Sigma}_{t}&=\\frac{1}{h} \\sum_{s=t-h+1}^{t}\\left(r_{s}-\\hat{\\mu}_{t}\\right)\\left(r_{s}-\\hat{\\mu}_{t}\\right)^{\\prime} \\\\\n",
    "\n",
    "\\hat{\\mu}_{t}&=\\frac{1}{h} \\sum_{s=t-h+1}^{t} r_{s}\\\\\n",
    "\n",
    "\\hat{\\mu}_{g, t}&=\\left(1_{N}^{\\prime} \\hat{\\Sigma}_{t}^{-1} \\hat{\\mu}_{t}\\right) /\\left(1_{N}^{\\prime} \\hat{\\Sigma}_{t}^{-1} 1_{N}\\right)\\\\\n",
    "\n",
    "k & =\\frac{(h-N)(h-N-3)}{h(h-2)}\\\\\n",
    "\n",
    "\\rho_{t} & =\\frac{\\operatorname{Min}\\left[\\frac{1}{h^{2}} \\sum_{s=t-h+1}^{t}\\left\\|\\left(r_{s}-\\hat{\\mu}_{t}\\right)\\left(r_{s}-\\hat{\\mu}_{t}\\right)^{\\prime}-\\hat{\\Sigma}_{t}\\right\\|^{2},\\left\\|\\hat{\\Sigma}_{t}-v_{t} I_{N}\\right\\|^{2}\\right]}{\\left\\|\\hat{\\Sigma}_{t}-v_{t} I_{N}\\right\\|^{2}}\\\\\n",
    "\n",
    "\\end{align}\n"
   ]
  },
  {
   "cell_type": "code",
   "execution_count": 1,
   "metadata": {},
   "outputs": [],
   "source": [
    "import pandas as pd\n",
    "from datetime import datetime\n",
    "import numpy as np\n",
    "\n",
    "import matplotlib.pyplot as plt\n",
    "from numpy.linalg import inv\n",
    "from scipy.special import betainc\n",
    "\n",
    "import sys\n",
    "sys.path.append('/Users/cheng/Google Drive/PhD/Research/Portfolio Selection via TBN/codes/')\n",
    "\n",
    "from module.data_library import data_library\n",
    "from module.portfolio_generator import portfolio_generator\n",
    "from module.vectorized_backtesting import vectorized_backtesting, get_portfolio_performance\n",
    "from module.portfolio_analyser import get_sharpe_ratio, get_turnover\n",
    "from module.tool_box import export_dataframe_to_latex_table\n",
    "from module.portfolio_library import get_naive_combine_portfolio, get_gmv, get_zero_invest_portfolio, get_opt_combine_portfolio"
   ]
  },
  {
   "cell_type": "markdown",
   "metadata": {},
   "source": [
    "## 2. Implementation of different portfolios"
   ]
  },
  {
   "cell_type": "markdown",
   "metadata": {},
   "source": [
    "### 2.1 Zero-investiment portfolio\n",
    "\n",
    "\\begin{align}\n",
    "\\hat{\\boldsymbol{w}}_{z, t} &=\\hat{\\Sigma}_{t}^{-1}\\left(\\hat{\\mu}_{t}-\\mathbf{1}_{N} \\hat{\\mu}_{g, t}\\right) \\\\\n",
    "\\mu_g &= \\mathbf{1}_{N}^{\\prime} \\Sigma^{-1} \\mu /\\left(\\mathbf{1}_{N}^{\\prime} \\Sigma^{-1} \\mathbf{1}_{N}\\right) \\\\\n",
    "\\hat{\\Sigma}_{t}&=\\frac{1}{h} \\sum_{s=t-h+1}^{t}\\left(r_{s}-\\hat{\\mu}_{t}\\right)\\left(r_{s}-\\hat{\\mu}_{t}\\right)^{\\prime} \\\\\n",
    "\\hat{\\mu}_{t}&=\\frac{1}{h} \\sum_{s=t-h+1}^{t} r_{s}\n",
    "\\end{align}"
   ]
  },
  {
   "cell_type": "code",
   "execution_count": null,
   "metadata": {},
   "outputs": [],
   "source": [
    "def get_zero_invest_portfolio(return_df: pd.DataFrame) -> np.array:\n",
    "    '''\n",
    "    Calculate the zero investment portfolio using given period data.\n",
    "\n",
    "    Args:\n",
    "        return_df: stock returns dataframe\n",
    "\n",
    "    Returns:\n",
    "        w_z: portfolio weights\n",
    "    '''\n",
    "    return_matrix = return_df.values\n",
    "    sigma = np.cov(return_matrix, rowvar= False)\n",
    "    mu = np.mean(return_matrix, axis=0, keepdims=True).T\n",
    "    sigma_inv = inv(sigma)\n",
    "    I = np.ones((len(mu), 1))\n",
    "    mu_gmv = I.T @ sigma_inv @ mu / (I.T @ sigma_inv @ I)\n",
    "    w_z = sigma_inv @ (mu - I @ mu_gmv)\n",
    "\n",
    "    return w_z"
   ]
  },
  {
   "cell_type": "markdown",
   "metadata": {},
   "source": [
    "### 2.2 Naive combing portfolio\n",
    "The naive combing portfolio is calculated as following\n",
    "$$\n",
    "\\hat{\\boldsymbol{w}}_{p, t}=\\hat{\\boldsymbol{w}}_{g, t}+\\frac{1}{\\gamma} \\hat{\\boldsymbol{w}}_{z, t}\n",
    "$$\n"
   ]
  },
  {
   "cell_type": "code",
   "execution_count": 90,
   "metadata": {},
   "outputs": [],
   "source": [
    "def get_naive_combine_portfolio(\n",
    "    return_df: pd.DataFrame,\n",
    "    gamma: int = 3) -> np.array:\n",
    "    '''\n",
    "    Calculate the combine portfolio where don't take into account the estimation risk.\n",
    "    In this portfolio, it combines GMV and zero investiment portfolio according to given gamma.\n",
    "    It doesn't optimize the combining ratio.\n",
    "\n",
    "    Args:\n",
    "        return_df: stock return matrix\n",
    "        gamma: risk aversion coefficient\n",
    "\n",
    "    Returns:\n",
    "        w_p: portfolio weight \n",
    "    '''\n",
    "    c = 1\n",
    "    w_z = get_zero_invest_portfolio(return_df)\n",
    "    w_g = get_gmv(return_df)\n",
    "    w_p = w_g + (c / gamma) * w_z\n",
    "\n",
    "    return w_p"
   ]
  },
  {
   "cell_type": "markdown",
   "metadata": {},
   "source": [
    "## 2.3 Opt combing portfolio\n",
    "\\begin{equation}\n",
    "\\hat{w}_{q, t}=\\hat{w}_{t}\\left(\\hat{c}_{t}\\right)=\\hat{w}_{g, t}+\\frac{g_{3}\\left(\\hat{\\psi}_{t}^{2}\\right)}{\\gamma} \\hat{w}_{z, t}\n",
    "\\end{equation}\n",
    "Where,\n",
    "\n",
    "\\begin{align}\n",
    "\\hat{c}_{t}&=g_{3}\\left(\\hat{\\psi}_{t}^{2}\\right)=\\frac{k \\hat{\\psi}_{a, t}^{2}}{\\hat{\\psi}_{a, t}^{2}+\\frac{N-1}{h}}\\\\\n",
    "\n",
    "\\hat{\\psi}_{a, t}^{2}&=\\frac{(h-N-1) \\hat{\\psi}_{t}^{2}-(N-1)}{h}+\\frac{2\\left(\\hat{\\psi}_{t}^{2}\\right)^{\\frac{N-1}{2}}\\left(1+\\hat{\\psi}_{t}^{2}\\right)^{-\\frac{h-2}{2}}}{h \\mathrm{~B}_{\\hat{\\psi}_{t}^{2} /\\left(1+\\hat{\\psi}_{t}^{2}\\right)}((N-1) / 2,(h-N+1) / 2)}\\\\\n",
    "\n",
    "\\hat{\\psi}_{t}^{2}&=\\hat{\\mu}_{t}^{\\prime} \\hat{\\Sigma}_{t}^{-1} \\hat{\\mu}_{t}-\\frac{\\left(1_{N}^{\\prime} \\hat{\\Sigma}_{t}^{-1} \\hat{\\mu}_{t}\\right)^{2}}{\\left(1_{N}^{\\prime} \\hat{\\Sigma}_{t}^{-1} 1_{N}\\right)}=\\frac{z_{2}^{2}+u_{0}}{v_{2}}\\\\\n",
    "\n",
    "k&=\\frac{(h-N)(h-N-3)}{h(h-2)}\n",
    "\\end{align}"
   ]
  },
  {
   "cell_type": "markdown",
   "metadata": {},
   "source": [
    "$\\hat{\\mu}_t$ is the vector of stock mean return \n",
    "\n",
    "h is the size of rolling window\n",
    "\n",
    "N is the number of assets\n"
   ]
  },
  {
   "cell_type": "code",
   "execution_count": 22,
   "metadata": {},
   "outputs": [],
   "source": [
    "def get_opt_combine_portfolio(\n",
    "    return_df: pd.DataFrame,\n",
    "    rolling_period: int,\n",
    "    gamma: int = 3) -> np.array:\n",
    "    '''\n",
    "    Calculate the optimal combine portfolio where don't take into account the estimation risk.\n",
    "    In this portfolio, it combines GMV and zero investiment portfolio according to given gamma and intensity c.\n",
    "    The c is the optimal combining ratio that that maximizes the ex- pected out-of-sample utility.\n",
    "\n",
    "    Args:\n",
    "        return_df: stock return matrix\n",
    "        gamma: risk aversion coefficient\n",
    "\n",
    "    Returns:\n",
    "        w_p: portfolio weight \n",
    "    '''\n",
    "    return_matrix = return_df.values\n",
    "    h = rolling_period\n",
    "    N = return_df.shape[1]\n",
    "    sigma = np.cov(return_matrix, rowvar= False)\n",
    "    mu = np.mean(return_matrix, axis=0, keepdims=True).T\n",
    "    sigma_inv = inv(sigma)\n",
    "    I = np.ones((N, 1))\n",
    "\n",
    "    psi = mu.T @ sigma_inv @ mu - (I.T @ sigma_inv @ mu) ** 2 / (I.T @ sigma_inv @ I)\n",
    "    psi_a = ((h - N - 1) * psi - (N - 1)) / h + \\\n",
    "    (2 * psi ** ((N - 1) / 2) * (1 + psi) ** (- (h - 2) / 2)) / (h * betainc((N - 1) / 2, (h - N + 1) / 2, psi / (1 + psi)))\n",
    "    k = (h - N) * (h - N -3) / (h * (h - 2))\n",
    "\n",
    "    c = (psi_a * k) / (psi_a + (N - 1) / h)\n",
    "    w_z = get_zero_invest_portfolio(return_df)\n",
    "    w_g = get_gmv(return_df)\n",
    "    w_p = w_g + (c / gamma) * w_z\n",
    "\n",
    "    return w_p"
   ]
  },
  {
   "cell_type": "markdown",
   "metadata": {},
   "source": [
    "## 4. Backtest with industry, momentum and B/M portfolio"
   ]
  },
  {
   "cell_type": "markdown",
   "metadata": {},
   "source": [
    "## 4.1 Backtesting to get portfolio performance \n",
    "I backtest two portfolio strategies, 1/N and GMV, on three different data sets, industry, momentum and Book to market.\n",
    "\n",
    "The portfolio performance are reported in two measurement, sharpe ratio and turnover.\n",
    "\n",
    "At the end, the calculated results are compared with benchmark results."
   ]
  },
  {
   "cell_type": "code",
   "execution_count": 21,
   "metadata": {},
   "outputs": [
    {
     "data": {
      "text/html": [
       "<div>\n",
       "<style scoped>\n",
       "    .dataframe tbody tr th:only-of-type {\n",
       "        vertical-align: middle;\n",
       "    }\n",
       "\n",
       "    .dataframe tbody tr th {\n",
       "        vertical-align: top;\n",
       "    }\n",
       "\n",
       "    .dataframe thead th {\n",
       "        text-align: right;\n",
       "    }\n",
       "</style>\n",
       "<table border=\"1\" class=\"dataframe\">\n",
       "  <thead>\n",
       "    <tr style=\"text-align: right;\">\n",
       "      <th></th>\n",
       "      <th>industry</th>\n",
       "    </tr>\n",
       "  </thead>\n",
       "  <tbody>\n",
       "    <tr>\n",
       "      <th>Sharpe ratio</th>\n",
       "      <td>0.056786</td>\n",
       "    </tr>\n",
       "    <tr>\n",
       "      <th>Turnover</th>\n",
       "      <td>2.432877</td>\n",
       "    </tr>\n",
       "    <tr>\n",
       "      <th>Sharpe ratio net</th>\n",
       "      <td>-0.016501</td>\n",
       "    </tr>\n",
       "  </tbody>\n",
       "</table>\n",
       "</div>"
      ],
      "text/plain": [
       "                  industry\n",
       "Sharpe ratio      0.056786\n",
       "Turnover          2.432877\n",
       "Sharpe ratio net -0.016501"
      ]
     },
     "execution_count": 21,
     "metadata": {},
     "output_type": "execute_result"
    }
   ],
   "source": [
    "backtesting_setting = {\n",
    "                        'data_frequncy': 'monthly',\n",
    "                        'data_name':'industry',\n",
    "                        'start':'1969-07-01', \n",
    "                        'end':'2018-12-01',\n",
    "                        'rebalance_frequncy':'month',\n",
    "                        'get_portfolio': get_opt_combine_portfolio,\n",
    "                        'rolling_period':120\n",
    "                      }\n",
    "industry_opt_comb_performance = get_portfolio_performance(**backtesting_setting)\n",
    "industry_opt_comb_performance"
   ]
  },
  {
   "cell_type": "code",
   "execution_count": 12,
   "metadata": {},
   "outputs": [
    {
     "data": {
      "text/html": [
       "<div>\n",
       "<style scoped>\n",
       "    .dataframe tbody tr th:only-of-type {\n",
       "        vertical-align: middle;\n",
       "    }\n",
       "\n",
       "    .dataframe tbody tr th {\n",
       "        vertical-align: top;\n",
       "    }\n",
       "\n",
       "    .dataframe thead th {\n",
       "        text-align: right;\n",
       "    }\n",
       "</style>\n",
       "<table border=\"1\" class=\"dataframe\">\n",
       "  <thead>\n",
       "    <tr style=\"text-align: right;\">\n",
       "      <th></th>\n",
       "      <th>B/M</th>\n",
       "    </tr>\n",
       "  </thead>\n",
       "  <tbody>\n",
       "    <tr>\n",
       "      <th>Sharpe ratio</th>\n",
       "      <td>0.203703</td>\n",
       "    </tr>\n",
       "    <tr>\n",
       "      <th>Turnover</th>\n",
       "      <td>24.605052</td>\n",
       "    </tr>\n",
       "    <tr>\n",
       "      <th>Sharpe ratio net</th>\n",
       "      <td>-0.003811</td>\n",
       "    </tr>\n",
       "  </tbody>\n",
       "</table>\n",
       "</div>"
      ],
      "text/plain": [
       "                        B/M\n",
       "Sharpe ratio       0.203703\n",
       "Turnover          24.605052\n",
       "Sharpe ratio net  -0.003811"
      ]
     },
     "execution_count": 12,
     "metadata": {},
     "output_type": "execute_result"
    }
   ],
   "source": [
    "backtesting_setting = {\n",
    "                        'data_frequncy': 'monthly',\n",
    "                        'data_name':'B/M',\n",
    "                        'start':'1927-01-01', \n",
    "                        'end':'2018-12-01',\n",
    "                        'rebalance_frequncy':'month',\n",
    "                        'get_portfolio': get_naive_combine_portfolio,\n",
    "                        'rolling_period':120\n",
    "                      }\n",
    "bm_naive_comb_performance = get_portfolio_performance(**backtesting_setting)\n",
    "bm_naive_comb_performance"
   ]
  },
  {
   "cell_type": "code",
   "execution_count": 13,
   "metadata": {},
   "outputs": [
    {
     "data": {
      "text/html": [
       "<div>\n",
       "<style scoped>\n",
       "    .dataframe tbody tr th:only-of-type {\n",
       "        vertical-align: middle;\n",
       "    }\n",
       "\n",
       "    .dataframe tbody tr th {\n",
       "        vertical-align: top;\n",
       "    }\n",
       "\n",
       "    .dataframe thead th {\n",
       "        text-align: right;\n",
       "    }\n",
       "</style>\n",
       "<table border=\"1\" class=\"dataframe\">\n",
       "  <thead>\n",
       "    <tr style=\"text-align: right;\">\n",
       "      <th></th>\n",
       "      <th>moment</th>\n",
       "    </tr>\n",
       "  </thead>\n",
       "  <tbody>\n",
       "    <tr>\n",
       "      <th>Sharpe ratio</th>\n",
       "      <td>0.224982</td>\n",
       "    </tr>\n",
       "    <tr>\n",
       "      <th>Turnover</th>\n",
       "      <td>4.966185</td>\n",
       "    </tr>\n",
       "    <tr>\n",
       "      <th>Sharpe ratio net</th>\n",
       "      <td>0.168338</td>\n",
       "    </tr>\n",
       "  </tbody>\n",
       "</table>\n",
       "</div>"
      ],
      "text/plain": [
       "                    moment\n",
       "Sharpe ratio      0.224982\n",
       "Turnover          4.966185\n",
       "Sharpe ratio net  0.168338"
      ]
     },
     "execution_count": 13,
     "metadata": {},
     "output_type": "execute_result"
    }
   ],
   "source": [
    "backtesting_setting = {\n",
    "                        'data_frequncy': 'monthly',\n",
    "                        'data_name':'moment',\n",
    "                        'start':'1927-01-01', \n",
    "                        'end':'2018-12-01',\n",
    "                        'rebalance_frequncy':'month',\n",
    "                        'get_portfolio': get_naive_combine_portfolio,\n",
    "                        'rolling_period':120\n",
    "                      }\n",
    "moment_naive_comb_performance = get_portfolio_performance(**backtesting_setting)\n",
    "moment_naive_comb_performance"
   ]
  },
  {
   "cell_type": "markdown",
   "metadata": {},
   "source": [
    "## 4.2 Sharpe ratio compare\n",
    "Gather shapre ratio result from the combination of two strategies and three different data sets.\n",
    "\n",
    "Compare shapre ratio performance between calculated result and benchmark results."
   ]
  },
  {
   "cell_type": "code",
   "execution_count": 11,
   "metadata": {},
   "outputs": [
    {
     "data": {
      "text/html": [
       "<div>\n",
       "<style scoped>\n",
       "    .dataframe tbody tr th:only-of-type {\n",
       "        vertical-align: middle;\n",
       "    }\n",
       "\n",
       "    .dataframe tbody tr th {\n",
       "        vertical-align: top;\n",
       "    }\n",
       "\n",
       "    .dataframe thead th {\n",
       "        text-align: right;\n",
       "    }\n",
       "</style>\n",
       "<table border=\"1\" class=\"dataframe\">\n",
       "  <thead>\n",
       "    <tr style=\"text-align: right;\">\n",
       "      <th></th>\n",
       "      <th>Momentum(10)</th>\n",
       "      <th>Size-B/M(25)</th>\n",
       "      <th>Industry(49)</th>\n",
       "    </tr>\n",
       "  </thead>\n",
       "  <tbody>\n",
       "    <tr>\n",
       "      <th>1/N</th>\n",
       "      <td>0.128126</td>\n",
       "      <td>0.148337</td>\n",
       "      <td>0.153371</td>\n",
       "    </tr>\n",
       "    <tr>\n",
       "      <th>W_g,t</th>\n",
       "      <td>0.177097</td>\n",
       "      <td>0.199044</td>\n",
       "      <td>0.123324</td>\n",
       "    </tr>\n",
       "  </tbody>\n",
       "</table>\n",
       "</div>"
      ],
      "text/plain": [
       "       Momentum(10)  Size-B/M(25)  Industry(49)\n",
       "1/N        0.128126      0.148337      0.153371\n",
       "W_g,t      0.177097      0.199044      0.123324"
      ]
     },
     "execution_count": 11,
     "metadata": {},
     "output_type": "execute_result"
    }
   ],
   "source": [
    "performance_option = 'Sharpe ratio'\n",
    "sr_dict = {\n",
    "    'Momentum(10)':[moment_equal_performance.loc[performance_option].values[0],\n",
    "                    moment_gmv_performance.loc[performance_option].values[0]],\n",
    "    'Size-B/M(25)':[bm_equal_performance.loc[performance_option].values[0], \n",
    "                    bm_gmv_performance.loc[performance_option].values[0]],\n",
    "    'Industry(49)':[industry_equal_performance.loc[performance_option].values[0], \n",
    "                    industry_gmv_performance.loc[performance_option].values[0]]\n",
    "}\n",
    "sr_df = pd.DataFrame(sr_dict, index=['1/N', 'W_g,t'])\n",
    "sr_df"
   ]
  },
  {
   "cell_type": "code",
   "execution_count": 12,
   "metadata": {},
   "outputs": [
    {
     "data": {
      "text/html": [
       "<div>\n",
       "<style scoped>\n",
       "    .dataframe tbody tr th:only-of-type {\n",
       "        vertical-align: middle;\n",
       "    }\n",
       "\n",
       "    .dataframe tbody tr th {\n",
       "        vertical-align: top;\n",
       "    }\n",
       "\n",
       "    .dataframe thead th {\n",
       "        text-align: right;\n",
       "    }\n",
       "</style>\n",
       "<table border=\"1\" class=\"dataframe\">\n",
       "  <thead>\n",
       "    <tr style=\"text-align: right;\">\n",
       "      <th></th>\n",
       "      <th>Momentum(10)</th>\n",
       "      <th>Size-B/M(25)</th>\n",
       "      <th>Industry(49)</th>\n",
       "    </tr>\n",
       "  </thead>\n",
       "  <tbody>\n",
       "    <tr>\n",
       "      <th>1/N</th>\n",
       "      <td>0.1276</td>\n",
       "      <td>0.1484</td>\n",
       "      <td>0.1527</td>\n",
       "    </tr>\n",
       "    <tr>\n",
       "      <th>W_g,t</th>\n",
       "      <td>0.1823</td>\n",
       "      <td>0.2085</td>\n",
       "      <td>0.1227</td>\n",
       "    </tr>\n",
       "  </tbody>\n",
       "</table>\n",
       "</div>"
      ],
      "text/plain": [
       "       Momentum(10)  Size-B/M(25)  Industry(49)\n",
       "1/N          0.1276        0.1484        0.1527\n",
       "W_g,t        0.1823        0.2085        0.1227"
      ]
     },
     "execution_count": 12,
     "metadata": {},
     "output_type": "execute_result"
    }
   ],
   "source": [
    "sr_bench_dict = {\n",
    "    'Momentum(10)':[0.1276, 0.1823],\n",
    "    'Size-B/M(25)':[0.1484, 0.2085],\n",
    "    'Industry(49)':[0.1527, 0.1227]\n",
    "}\n",
    "sr_bench_df = pd.DataFrame(sr_bench_dict, index=['1/N', 'W_g,t'])\n",
    "sr_bench_df"
   ]
  },
  {
   "cell_type": "code",
   "execution_count": 13,
   "metadata": {},
   "outputs": [
    {
     "data": {
      "text/html": [
       "<div>\n",
       "<style scoped>\n",
       "    .dataframe tbody tr th:only-of-type {\n",
       "        vertical-align: middle;\n",
       "    }\n",
       "\n",
       "    .dataframe tbody tr th {\n",
       "        vertical-align: top;\n",
       "    }\n",
       "\n",
       "    .dataframe thead th {\n",
       "        text-align: right;\n",
       "    }\n",
       "</style>\n",
       "<table border=\"1\" class=\"dataframe\">\n",
       "  <thead>\n",
       "    <tr style=\"text-align: right;\">\n",
       "      <th></th>\n",
       "      <th>Momentum(10)</th>\n",
       "      <th>Size-B/M(25)</th>\n",
       "      <th>Industry(49)</th>\n",
       "    </tr>\n",
       "  </thead>\n",
       "  <tbody>\n",
       "    <tr>\n",
       "      <th>1/N</th>\n",
       "      <td>0.000526</td>\n",
       "      <td>-0.000063</td>\n",
       "      <td>0.000671</td>\n",
       "    </tr>\n",
       "    <tr>\n",
       "      <th>W_g,t</th>\n",
       "      <td>-0.005203</td>\n",
       "      <td>-0.009456</td>\n",
       "      <td>0.000624</td>\n",
       "    </tr>\n",
       "  </tbody>\n",
       "</table>\n",
       "</div>"
      ],
      "text/plain": [
       "       Momentum(10)  Size-B/M(25)  Industry(49)\n",
       "1/N        0.000526     -0.000063      0.000671\n",
       "W_g,t     -0.005203     -0.009456      0.000624"
      ]
     },
     "execution_count": 13,
     "metadata": {},
     "output_type": "execute_result"
    }
   ],
   "source": [
    "sr_diff_df = sr_df - sr_bench_df\n",
    "sr_diff_df"
   ]
  },
  {
   "cell_type": "markdown",
   "metadata": {},
   "source": [
    "## 4.3 Turnover compare"
   ]
  },
  {
   "cell_type": "code",
   "execution_count": 14,
   "metadata": {},
   "outputs": [
    {
     "data": {
      "text/html": [
       "<div>\n",
       "<style scoped>\n",
       "    .dataframe tbody tr th:only-of-type {\n",
       "        vertical-align: middle;\n",
       "    }\n",
       "\n",
       "    .dataframe tbody tr th {\n",
       "        vertical-align: top;\n",
       "    }\n",
       "\n",
       "    .dataframe thead th {\n",
       "        text-align: right;\n",
       "    }\n",
       "</style>\n",
       "<table border=\"1\" class=\"dataframe\">\n",
       "  <thead>\n",
       "    <tr style=\"text-align: right;\">\n",
       "      <th></th>\n",
       "      <th>Momentum(10)</th>\n",
       "      <th>Size-B/M(25)</th>\n",
       "      <th>Industry(49)</th>\n",
       "    </tr>\n",
       "  </thead>\n",
       "  <tbody>\n",
       "    <tr>\n",
       "      <th>1/N</th>\n",
       "      <td>0.016587</td>\n",
       "      <td>0.017179</td>\n",
       "      <td>0.031936</td>\n",
       "    </tr>\n",
       "    <tr>\n",
       "      <th>W_g,t</th>\n",
       "      <td>0.272001</td>\n",
       "      <td>0.755546</td>\n",
       "      <td>0.806861</td>\n",
       "    </tr>\n",
       "  </tbody>\n",
       "</table>\n",
       "</div>"
      ],
      "text/plain": [
       "       Momentum(10)  Size-B/M(25)  Industry(49)\n",
       "1/N        0.016587      0.017179      0.031936\n",
       "W_g,t      0.272001      0.755546      0.806861"
      ]
     },
     "execution_count": 14,
     "metadata": {},
     "output_type": "execute_result"
    }
   ],
   "source": [
    "performance_option = 'Turnover'\n",
    "turnover_dict = {\n",
    "    'Momentum(10)':[moment_equal_performance.loc[performance_option].values[0],\n",
    "                    moment_gmv_performance.loc[performance_option].values[0]],\n",
    "    'Size-B/M(25)':[bm_equal_performance.loc[performance_option].values[0], \n",
    "                    bm_gmv_performance.loc[performance_option].values[0]],\n",
    "    'Industry(49)':[industry_equal_performance.loc[performance_option].values[0], \n",
    "                    industry_gmv_performance.loc[performance_option].values[0]]\n",
    "}\n",
    "turnover_df = pd.DataFrame(turnover_dict, index=['1/N', 'W_g,t'])\n",
    "turnover_df"
   ]
  },
  {
   "cell_type": "code",
   "execution_count": 15,
   "metadata": {},
   "outputs": [
    {
     "data": {
      "text/html": [
       "<div>\n",
       "<style scoped>\n",
       "    .dataframe tbody tr th:only-of-type {\n",
       "        vertical-align: middle;\n",
       "    }\n",
       "\n",
       "    .dataframe tbody tr th {\n",
       "        vertical-align: top;\n",
       "    }\n",
       "\n",
       "    .dataframe thead th {\n",
       "        text-align: right;\n",
       "    }\n",
       "</style>\n",
       "<table border=\"1\" class=\"dataframe\">\n",
       "  <thead>\n",
       "    <tr style=\"text-align: right;\">\n",
       "      <th></th>\n",
       "      <th>Momentum(10)</th>\n",
       "      <th>Size-B/M(25)</th>\n",
       "      <th>Industry(49)</th>\n",
       "    </tr>\n",
       "  </thead>\n",
       "  <tbody>\n",
       "    <tr>\n",
       "      <th>1/N</th>\n",
       "      <td>0.0176</td>\n",
       "      <td>0.0182</td>\n",
       "      <td>0.0341</td>\n",
       "    </tr>\n",
       "    <tr>\n",
       "      <th>W_g,t</th>\n",
       "      <td>0.2770</td>\n",
       "      <td>0.7665</td>\n",
       "      <td>0.8227</td>\n",
       "    </tr>\n",
       "  </tbody>\n",
       "</table>\n",
       "</div>"
      ],
      "text/plain": [
       "       Momentum(10)  Size-B/M(25)  Industry(49)\n",
       "1/N          0.0176        0.0182        0.0341\n",
       "W_g,t        0.2770        0.7665        0.8227"
      ]
     },
     "execution_count": 15,
     "metadata": {},
     "output_type": "execute_result"
    }
   ],
   "source": [
    "turnover_bench_dict = {\n",
    "    'Momentum(10)':[0.0176, 0.2770],\n",
    "    'Size-B/M(25)':[0.0182, 0.7665],\n",
    "    'Industry(49)':[0.0341, 0.8227]\n",
    "}\n",
    "turnover_bench_df = pd.DataFrame(turnover_bench_dict, index=['1/N', 'W_g,t'])\n",
    "turnover_bench_df"
   ]
  },
  {
   "cell_type": "code",
   "execution_count": 16,
   "metadata": {},
   "outputs": [
    {
     "data": {
      "text/html": [
       "<div>\n",
       "<style scoped>\n",
       "    .dataframe tbody tr th:only-of-type {\n",
       "        vertical-align: middle;\n",
       "    }\n",
       "\n",
       "    .dataframe tbody tr th {\n",
       "        vertical-align: top;\n",
       "    }\n",
       "\n",
       "    .dataframe thead th {\n",
       "        text-align: right;\n",
       "    }\n",
       "</style>\n",
       "<table border=\"1\" class=\"dataframe\">\n",
       "  <thead>\n",
       "    <tr style=\"text-align: right;\">\n",
       "      <th></th>\n",
       "      <th>Momentum(10)</th>\n",
       "      <th>Size-B/M(25)</th>\n",
       "      <th>Industry(49)</th>\n",
       "    </tr>\n",
       "  </thead>\n",
       "  <tbody>\n",
       "    <tr>\n",
       "      <th>1/N</th>\n",
       "      <td>-0.001013</td>\n",
       "      <td>-0.001021</td>\n",
       "      <td>-0.002164</td>\n",
       "    </tr>\n",
       "    <tr>\n",
       "      <th>W_g,t</th>\n",
       "      <td>-0.004999</td>\n",
       "      <td>-0.010954</td>\n",
       "      <td>-0.015839</td>\n",
       "    </tr>\n",
       "  </tbody>\n",
       "</table>\n",
       "</div>"
      ],
      "text/plain": [
       "       Momentum(10)  Size-B/M(25)  Industry(49)\n",
       "1/N       -0.001013     -0.001021     -0.002164\n",
       "W_g,t     -0.004999     -0.010954     -0.015839"
      ]
     },
     "execution_count": 16,
     "metadata": {},
     "output_type": "execute_result"
    }
   ],
   "source": [
    "turnover_diff_df = turnover_df - turnover_bench_df\n",
    "turnover_diff_df"
   ]
  },
  {
   "cell_type": "markdown",
   "metadata": {},
   "source": [
    "## 4.4 Transanction cost\n",
    "The portfolio returns net of proportional transaction costs is calculated as\n",
    "$$\n",
    "p_{t}=\\left(1+\\tilde{p}_{t}\\right)\\left(1-c \\times \\text { Turnover }_{t-1}\\right)-1\n",
    "$$"
   ]
  },
  {
   "cell_type": "code",
   "execution_count": 17,
   "metadata": {},
   "outputs": [
    {
     "data": {
      "text/html": [
       "<div>\n",
       "<style scoped>\n",
       "    .dataframe tbody tr th:only-of-type {\n",
       "        vertical-align: middle;\n",
       "    }\n",
       "\n",
       "    .dataframe tbody tr th {\n",
       "        vertical-align: top;\n",
       "    }\n",
       "\n",
       "    .dataframe thead th {\n",
       "        text-align: right;\n",
       "    }\n",
       "</style>\n",
       "<table border=\"1\" class=\"dataframe\">\n",
       "  <thead>\n",
       "    <tr style=\"text-align: right;\">\n",
       "      <th></th>\n",
       "      <th>Momentum(10)</th>\n",
       "      <th>Size-B/M(25)</th>\n",
       "      <th>Industry(49)</th>\n",
       "    </tr>\n",
       "  </thead>\n",
       "  <tbody>\n",
       "    <tr>\n",
       "      <th>1/N</th>\n",
       "      <td>0.127457</td>\n",
       "      <td>0.147714</td>\n",
       "      <td>0.151994</td>\n",
       "    </tr>\n",
       "    <tr>\n",
       "      <th>W_g,t</th>\n",
       "      <td>0.164556</td>\n",
       "      <td>0.160831</td>\n",
       "      <td>0.082415</td>\n",
       "    </tr>\n",
       "  </tbody>\n",
       "</table>\n",
       "</div>"
      ],
      "text/plain": [
       "       Momentum(10)  Size-B/M(25)  Industry(49)\n",
       "1/N        0.127457      0.147714      0.151994\n",
       "W_g,t      0.164556      0.160831      0.082415"
      ]
     },
     "execution_count": 17,
     "metadata": {},
     "output_type": "execute_result"
    }
   ],
   "source": [
    "performance_option = 'Sharpe ratio net'\n",
    "sr_net_dict = {\n",
    "    'Momentum(10)':[moment_equal_performance.loc[performance_option].values[0],\n",
    "                    moment_gmv_performance.loc[performance_option].values[0]],\n",
    "    'Size-B/M(25)':[bm_equal_performance.loc[performance_option].values[0], \n",
    "                    bm_gmv_performance.loc[performance_option].values[0]],\n",
    "    'Industry(49)':[industry_equal_performance.loc[performance_option].values[0], \n",
    "                    industry_gmv_performance.loc[performance_option].values[0]]\n",
    "}\n",
    "sr_net_df = pd.DataFrame(sr_net_dict, index=['1/N', 'W_g,t'])\n",
    "sr_net_df"
   ]
  },
  {
   "cell_type": "code",
   "execution_count": 18,
   "metadata": {},
   "outputs": [
    {
     "data": {
      "text/html": [
       "<div>\n",
       "<style scoped>\n",
       "    .dataframe tbody tr th:only-of-type {\n",
       "        vertical-align: middle;\n",
       "    }\n",
       "\n",
       "    .dataframe tbody tr th {\n",
       "        vertical-align: top;\n",
       "    }\n",
       "\n",
       "    .dataframe thead th {\n",
       "        text-align: right;\n",
       "    }\n",
       "</style>\n",
       "<table border=\"1\" class=\"dataframe\">\n",
       "  <thead>\n",
       "    <tr style=\"text-align: right;\">\n",
       "      <th></th>\n",
       "      <th>Momentum(10)</th>\n",
       "      <th>Size-B/M(25)</th>\n",
       "      <th>Industry(49)</th>\n",
       "    </tr>\n",
       "  </thead>\n",
       "  <tbody>\n",
       "    <tr>\n",
       "      <th>1/N</th>\n",
       "      <td>0.1269</td>\n",
       "      <td>0.1477</td>\n",
       "      <td>0.1512</td>\n",
       "    </tr>\n",
       "    <tr>\n",
       "      <th>W_g,t</th>\n",
       "      <td>0.1696</td>\n",
       "      <td>0.1702</td>\n",
       "      <td>0.0816</td>\n",
       "    </tr>\n",
       "  </tbody>\n",
       "</table>\n",
       "</div>"
      ],
      "text/plain": [
       "       Momentum(10)  Size-B/M(25)  Industry(49)\n",
       "1/N          0.1269        0.1477        0.1512\n",
       "W_g,t        0.1696        0.1702        0.0816"
      ]
     },
     "execution_count": 18,
     "metadata": {},
     "output_type": "execute_result"
    }
   ],
   "source": [
    "sr_net_bench_dict = {\n",
    "    'Momentum(10)':[0.1269, 0.1696],\n",
    "    'Size-B/M(25)':[0.1477, 0.1702],\n",
    "    'Industry(49)':[0.1512, 0.0816]\n",
    "}\n",
    "sr_net_bench_df = pd.DataFrame(sr_net_bench_dict, index=['1/N', 'W_g,t'])\n",
    "sr_net_bench_df"
   ]
  },
  {
   "cell_type": "code",
   "execution_count": 19,
   "metadata": {},
   "outputs": [
    {
     "data": {
      "text/html": [
       "<div>\n",
       "<style scoped>\n",
       "    .dataframe tbody tr th:only-of-type {\n",
       "        vertical-align: middle;\n",
       "    }\n",
       "\n",
       "    .dataframe tbody tr th {\n",
       "        vertical-align: top;\n",
       "    }\n",
       "\n",
       "    .dataframe thead th {\n",
       "        text-align: right;\n",
       "    }\n",
       "</style>\n",
       "<table border=\"1\" class=\"dataframe\">\n",
       "  <thead>\n",
       "    <tr style=\"text-align: right;\">\n",
       "      <th></th>\n",
       "      <th>Momentum(10)</th>\n",
       "      <th>Size-B/M(25)</th>\n",
       "      <th>Industry(49)</th>\n",
       "    </tr>\n",
       "  </thead>\n",
       "  <tbody>\n",
       "    <tr>\n",
       "      <th>1/N</th>\n",
       "      <td>0.000557</td>\n",
       "      <td>0.000014</td>\n",
       "      <td>0.000794</td>\n",
       "    </tr>\n",
       "    <tr>\n",
       "      <th>W_g,t</th>\n",
       "      <td>-0.005044</td>\n",
       "      <td>-0.009369</td>\n",
       "      <td>0.000815</td>\n",
       "    </tr>\n",
       "  </tbody>\n",
       "</table>\n",
       "</div>"
      ],
      "text/plain": [
       "       Momentum(10)  Size-B/M(25)  Industry(49)\n",
       "1/N        0.000557      0.000014      0.000794\n",
       "W_g,t     -0.005044     -0.009369      0.000815"
      ]
     },
     "execution_count": 19,
     "metadata": {},
     "output_type": "execute_result"
    }
   ],
   "source": [
    "sr_net_diff_df = sr_net_df - sr_net_bench_df\n",
    "sr_net_diff_df"
   ]
  },
  {
   "cell_type": "markdown",
   "metadata": {},
   "source": [
    "## 4.5 Performance agregation"
   ]
  },
  {
   "cell_type": "code",
   "execution_count": 14,
   "metadata": {},
   "outputs": [
    {
     "data": {
      "text/html": [
       "<div>\n",
       "<style scoped>\n",
       "    .dataframe tbody tr th:only-of-type {\n",
       "        vertical-align: middle;\n",
       "    }\n",
       "\n",
       "    .dataframe tbody tr th {\n",
       "        vertical-align: top;\n",
       "    }\n",
       "\n",
       "    .dataframe thead th {\n",
       "        text-align: right;\n",
       "    }\n",
       "</style>\n",
       "<table border=\"1\" class=\"dataframe\">\n",
       "  <thead>\n",
       "    <tr style=\"text-align: right;\">\n",
       "      <th></th>\n",
       "      <th>Momentum(10)</th>\n",
       "      <th>Size-B/M(25)</th>\n",
       "      <th>Industry(49)</th>\n",
       "    </tr>\n",
       "  </thead>\n",
       "  <tbody>\n",
       "    <tr>\n",
       "      <th>Sharpe ratio</th>\n",
       "      <td>0.224982</td>\n",
       "      <td>0.203703</td>\n",
       "      <td>0.065447</td>\n",
       "    </tr>\n",
       "    <tr>\n",
       "      <th>Turnover</th>\n",
       "      <td>4.966185</td>\n",
       "      <td>24.605052</td>\n",
       "      <td>72.315573</td>\n",
       "    </tr>\n",
       "    <tr>\n",
       "      <th>Sharpe ratio net</th>\n",
       "      <td>0.168338</td>\n",
       "      <td>-0.003811</td>\n",
       "      <td>-0.162969</td>\n",
       "    </tr>\n",
       "  </tbody>\n",
       "</table>\n",
       "</div>"
      ],
      "text/plain": [
       "                  Momentum(10)  Size-B/M(25)  Industry(49)\n",
       "Sharpe ratio          0.224982      0.203703      0.065447\n",
       "Turnover              4.966185     24.605052     72.315573\n",
       "Sharpe ratio net      0.168338     -0.003811     -0.162969"
      ]
     },
     "execution_count": 14,
     "metadata": {},
     "output_type": "execute_result"
    }
   ],
   "source": [
    "naive_comb_performance = pd.concat([moment_naive_comb_performance, bm_naive_comb_performance, industry_naive_comb_performance], axis=1)\n",
    "naive_comb_performance.columns = ['Momentum(10)', 'Size-B/M(25)', 'Industry(49)']\n",
    "naive_comb_performance"
   ]
  },
  {
   "cell_type": "code",
   "execution_count": 15,
   "metadata": {},
   "outputs": [
    {
     "data": {
      "text/html": [
       "<div>\n",
       "<style scoped>\n",
       "    .dataframe tbody tr th:only-of-type {\n",
       "        vertical-align: middle;\n",
       "    }\n",
       "\n",
       "    .dataframe tbody tr th {\n",
       "        vertical-align: top;\n",
       "    }\n",
       "\n",
       "    .dataframe thead th {\n",
       "        text-align: right;\n",
       "    }\n",
       "</style>\n",
       "<table border=\"1\" class=\"dataframe\">\n",
       "  <thead>\n",
       "    <tr style=\"text-align: right;\">\n",
       "      <th></th>\n",
       "      <th>Momentum(10)</th>\n",
       "      <th>Size-B/M(25)</th>\n",
       "      <th>Industry(49)</th>\n",
       "    </tr>\n",
       "  </thead>\n",
       "  <tbody>\n",
       "    <tr>\n",
       "      <th>Sharpe ratio</th>\n",
       "      <td>0.2521</td>\n",
       "      <td>0.2479</td>\n",
       "      <td>0.1194</td>\n",
       "    </tr>\n",
       "    <tr>\n",
       "      <th>Turnover</th>\n",
       "      <td>2.0157</td>\n",
       "      <td>3.5212</td>\n",
       "      <td>1.2583</td>\n",
       "    </tr>\n",
       "    <tr>\n",
       "      <th>Sharpe ratio net</th>\n",
       "      <td>0.2148</td>\n",
       "      <td>0.1707</td>\n",
       "      <td>0.0697</td>\n",
       "    </tr>\n",
       "  </tbody>\n",
       "</table>\n",
       "</div>"
      ],
      "text/plain": [
       "                  Momentum(10)  Size-B/M(25)  Industry(49)\n",
       "Sharpe ratio            0.2521        0.2479        0.1194\n",
       "Turnover                2.0157        3.5212        1.2583\n",
       "Sharpe ratio net        0.2148        0.1707        0.0697"
      ]
     },
     "execution_count": 15,
     "metadata": {},
     "output_type": "execute_result"
    }
   ],
   "source": [
    "opt_comb_bench_dict = {\n",
    "    'Momentum(10)':[0.2521, 2.0157, 0.2148],\n",
    "    'Size-B/M(25)':[0.2479, 3.5212, 0.1707],\n",
    "    'Industry(49)':[0.1194, 1.2583, 0.0697]\n",
    "}\n",
    "opt_comb_bench_df = pd.DataFrame(opt_comb_bench_dict, index=['Sharpe ratio', 'Turnover', 'Sharpe ratio net'])\n",
    "opt_comb_bench_df"
   ]
  },
  {
   "cell_type": "code",
   "execution_count": 16,
   "metadata": {},
   "outputs": [
    {
     "data": {
      "text/html": [
       "<div>\n",
       "<style scoped>\n",
       "    .dataframe tbody tr th:only-of-type {\n",
       "        vertical-align: middle;\n",
       "    }\n",
       "\n",
       "    .dataframe tbody tr th {\n",
       "        vertical-align: top;\n",
       "    }\n",
       "\n",
       "    .dataframe thead th {\n",
       "        text-align: right;\n",
       "    }\n",
       "</style>\n",
       "<table border=\"1\" class=\"dataframe\">\n",
       "  <thead>\n",
       "    <tr style=\"text-align: right;\">\n",
       "      <th></th>\n",
       "      <th>Momentum(10)</th>\n",
       "      <th>Size-B/M(25)</th>\n",
       "      <th>Industry(49)</th>\n",
       "    </tr>\n",
       "  </thead>\n",
       "  <tbody>\n",
       "    <tr>\n",
       "      <th>Sharpe ratio</th>\n",
       "      <td>0.2375</td>\n",
       "      <td>0.1999</td>\n",
       "      <td>0.0610</td>\n",
       "    </tr>\n",
       "    <tr>\n",
       "      <th>Turnover</th>\n",
       "      <td>5.0765</td>\n",
       "      <td>54.3620</td>\n",
       "      <td>91.2610</td>\n",
       "    </tr>\n",
       "    <tr>\n",
       "      <th>Sharpe ratio net</th>\n",
       "      <td>0.1814</td>\n",
       "      <td>-0.0276</td>\n",
       "      <td>-0.1628</td>\n",
       "    </tr>\n",
       "  </tbody>\n",
       "</table>\n",
       "</div>"
      ],
      "text/plain": [
       "                  Momentum(10)  Size-B/M(25)  Industry(49)\n",
       "Sharpe ratio            0.2375        0.1999        0.0610\n",
       "Turnover                5.0765       54.3620       91.2610\n",
       "Sharpe ratio net        0.1814       -0.0276       -0.1628"
      ]
     },
     "execution_count": 16,
     "metadata": {},
     "output_type": "execute_result"
    }
   ],
   "source": [
    "naive_comb_bench_dict = {\n",
    "    'Momentum(10)':[0.2375, 5.0765, 0.1814],\n",
    "    'Size-B/M(25)':[0.1999, 54.3620, -0.0276],\n",
    "    'Industry(49)':[0.0610, 91.2610, -0.1628]\n",
    "}\n",
    "naive_comb_bench_df = pd.DataFrame(naive_comb_bench_dict, index=['Sharpe ratio', 'Turnover', 'Sharpe ratio net'])\n",
    "naive_comb_bench_df"
   ]
  },
  {
   "cell_type": "code",
   "execution_count": 17,
   "metadata": {},
   "outputs": [
    {
     "data": {
      "text/html": [
       "<div>\n",
       "<style scoped>\n",
       "    .dataframe tbody tr th:only-of-type {\n",
       "        vertical-align: middle;\n",
       "    }\n",
       "\n",
       "    .dataframe tbody tr th {\n",
       "        vertical-align: top;\n",
       "    }\n",
       "\n",
       "    .dataframe thead th {\n",
       "        text-align: right;\n",
       "    }\n",
       "</style>\n",
       "<table border=\"1\" class=\"dataframe\">\n",
       "  <thead>\n",
       "    <tr style=\"text-align: right;\">\n",
       "      <th></th>\n",
       "      <th>Momentum(10)</th>\n",
       "      <th>Size-B/M(25)</th>\n",
       "      <th>Industry(49)</th>\n",
       "    </tr>\n",
       "  </thead>\n",
       "  <tbody>\n",
       "    <tr>\n",
       "      <th>Sharpe ratio</th>\n",
       "      <td>-0.012518</td>\n",
       "      <td>0.003803</td>\n",
       "      <td>0.004447</td>\n",
       "    </tr>\n",
       "    <tr>\n",
       "      <th>Turnover</th>\n",
       "      <td>-0.110315</td>\n",
       "      <td>-29.756948</td>\n",
       "      <td>-18.945427</td>\n",
       "    </tr>\n",
       "    <tr>\n",
       "      <th>Sharpe ratio net</th>\n",
       "      <td>-0.013062</td>\n",
       "      <td>0.023789</td>\n",
       "      <td>-0.000169</td>\n",
       "    </tr>\n",
       "  </tbody>\n",
       "</table>\n",
       "</div>"
      ],
      "text/plain": [
       "                  Momentum(10)  Size-B/M(25)  Industry(49)\n",
       "Sharpe ratio         -0.012518      0.003803      0.004447\n",
       "Turnover             -0.110315    -29.756948    -18.945427\n",
       "Sharpe ratio net     -0.013062      0.023789     -0.000169"
      ]
     },
     "execution_count": 17,
     "metadata": {},
     "output_type": "execute_result"
    }
   ],
   "source": [
    "naive_comb_diff_df = naive_comb_performance - naive_comb_bench_df\n",
    "naive_comb_diff_df"
   ]
  },
  {
   "cell_type": "markdown",
   "metadata": {},
   "source": [
    "## 4.5 output result to latex table"
   ]
  },
  {
   "cell_type": "code",
   "execution_count": 20,
   "metadata": {},
   "outputs": [
    {
     "name": "stdout",
     "output_type": "stream",
     "text": [
      "write table to /Users/cheng/Dropbox/Apps/Overleaf/Weekly Report Cheng/table/naive combining portflolio performance.tex\n"
     ]
    }
   ],
   "source": [
    "table_setting = {\n",
    "    'df':naive_comb_performance,\n",
    "    'table_name': 'naive combining portflolio performance',\n",
    "    'label':'tbl:nav comb'\n",
    "}\n",
    "export_dataframe_to_latex_table(**table_setting)"
   ]
  }
 ],
 "metadata": {
  "interpreter": {
   "hash": "33f99ea47d1967c482d1a96e8f57146526516fa4859dddae9b508497402c9084"
  },
  "kernelspec": {
   "display_name": "Python 3.7.10 64-bit ('portfolio': conda)",
   "language": "python",
   "name": "python3"
  },
  "language_info": {
   "codemirror_mode": {
    "name": "ipython",
    "version": 3
   },
   "file_extension": ".py",
   "mimetype": "text/x-python",
   "name": "python",
   "nbconvert_exporter": "python",
   "pygments_lexer": "ipython3",
   "version": "3.7.10"
  },
  "orig_nbformat": 4
 },
 "nbformat": 4,
 "nbformat_minor": 2
}
